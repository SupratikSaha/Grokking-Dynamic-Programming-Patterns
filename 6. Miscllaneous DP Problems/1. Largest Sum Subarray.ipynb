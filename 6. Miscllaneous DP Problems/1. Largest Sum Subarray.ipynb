{
 "cells": [
  {
   "cell_type": "markdown",
   "metadata": {},
   "source": [
    "Problem Statement <br/>\n",
    "\n",
    "Given an array, find the contiguous subarray with the largest sum. <br/>\n",
    "\n",
    "Example: <br/>\n",
    "Input: [-4, 2, -5, 1, 2, 3, 6, -5, 1] <br/>\n",
    "Output: 12 <br/>\n",
    "Explanation: In the input array, the largest sum subarray starts at index 3 and ends at 6"
   ]
  },
  {
   "cell_type": "markdown",
   "metadata": {},
   "source": [
    "# Recursive - O(N) runtime, O(N) space"
   ]
  },
  {
   "cell_type": "code",
   "execution_count": 3,
   "metadata": {},
   "outputs": [],
   "source": [
    "def find_max_sum_sub_array(A):\n",
    "    return find_max_sum_sub_array_recursive(A, 1, A[0])    \n",
    "\n",
    "def find_max_sum_sub_array_recursive(A, currIndex, globalMax):\n",
    "    if currIndex == len(A):\n",
    "        return globalMax\n",
    "    \n",
    "    if globalMax < 0:\n",
    "        currSum = find_max_sum_sub_array_recursive(A, currIndex + 1, A[currIndex])\n",
    "    else:\n",
    "        currSum = find_max_sum_sub_array_recursive(A, currIndex + 1, globalMax + A[currIndex])\n",
    "    \n",
    "    return max(globalMax, currSum)"
   ]
  },
  {
   "cell_type": "markdown",
   "metadata": {},
   "source": [
    "# Iterative - O(N) runtime, O(1) space"
   ]
  },
  {
   "cell_type": "code",
   "execution_count": 5,
   "metadata": {},
   "outputs": [],
   "source": [
    "def find_max_sum_sub_array(A):\n",
    "    if len(A) < 1:\n",
    "        return 0\n",
    "\n",
    "    curr_max = A[0]\n",
    "    global_max = A[0]\n",
    "    lengthA = len(A)\n",
    "    for i in range(1, lengthA):\n",
    "        if curr_max < 0:\n",
    "            curr_max = A[i]\n",
    "        else:\n",
    "            curr_max += A[i]\n",
    "\n",
    "        if global_max < curr_max:\n",
    "            global_max = curr_max\n",
    "\n",
    "    return global_max"
   ]
  },
  {
   "cell_type": "code",
   "execution_count": 6,
   "metadata": {},
   "outputs": [
    {
     "data": {
      "text/plain": [
       "12"
      ]
     },
     "execution_count": 6,
     "metadata": {},
     "output_type": "execute_result"
    }
   ],
   "source": [
    "find_max_sum_sub_array([-4, 2, -5, 1, 2, 3, 6, -5, 1])"
   ]
  }
 ],
 "metadata": {
  "kernelspec": {
   "display_name": "Python 3",
   "language": "python",
   "name": "python3"
  },
  "language_info": {
   "codemirror_mode": {
    "name": "ipython",
    "version": 3
   },
   "file_extension": ".py",
   "mimetype": "text/x-python",
   "name": "python",
   "nbconvert_exporter": "python",
   "pygments_lexer": "ipython3",
   "version": "3.7.3"
  }
 },
 "nbformat": 4,
 "nbformat_minor": 2
}

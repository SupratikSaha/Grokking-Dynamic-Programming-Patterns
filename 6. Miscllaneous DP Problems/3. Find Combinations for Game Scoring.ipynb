{
 "cells": [
  {
   "cell_type": "markdown",
   "metadata": {},
   "source": [
    "Problem Statement <br/>\n",
    "\n",
    "Imagine a game where a player can score 1, 2 or 4 runs. Given a score, n, find the total number of ways to score n runs. <br/>\n",
    "\n",
    "For example, to score 3 runs, a player can score in the following 3 ways: <br/>\n",
    "    [1 1 1, 1 2, 2 1] <br/>\n",
    "    \n",
    "To score 5 runs, a player can score the following 10 ways"
   ]
  },
  {
   "cell_type": "markdown",
   "metadata": {},
   "source": [
    "# Brute Force - O(3 ^ N) runtime, O(N) space"
   ]
  },
  {
   "cell_type": "code",
   "execution_count": 1,
   "metadata": {},
   "outputs": [],
   "source": [
    "def scoring_options(n):\n",
    "    if n == 0:\n",
    "        return 1\n",
    "    \n",
    "    c1, c2, c4 = 0, 0, 0\n",
    "    if n >= 1:\n",
    "        c1 = scoring_options(n - 1)\n",
    "    if n >= 2:\n",
    "        c2 = scoring_options(n - 2)\n",
    "    if n >= 4:\n",
    "        c4 = scoring_options(n - 4)\n",
    "\n",
    "    return c1 + c2 + c4"
   ]
  },
  {
   "cell_type": "markdown",
   "metadata": {},
   "source": [
    "# Top Down DP - O(N) runtime, O(N) space"
   ]
  },
  {
   "cell_type": "code",
   "execution_count": 4,
   "metadata": {},
   "outputs": [],
   "source": [
    "def scoring_options(n):\n",
    "    dp = [-1 for _ in range(n + 1)]\n",
    "    return scoring_options_recursive(dp, n)\n",
    "\n",
    "def scoring_options_recursive(dp, n):\n",
    "    if n == 0:\n",
    "        return 1\n",
    "        \n",
    "    if dp[n] == -1:\n",
    "        c1, c2, c4 = 0, 0, 0\n",
    "        if n >= 1:\n",
    "            c1 = scoring_options_recursive(dp, n - 1)\n",
    "        if n >= 2:\n",
    "            c2 = scoring_options_recursive(dp, n - 2)\n",
    "        if n >= 4:\n",
    "            c4 = scoring_options_recursive(dp, n - 4)\n",
    "\n",
    "        dp[n] = c1 + c2 + c4\n",
    "    \n",
    "    return dp[n]"
   ]
  },
  {
   "cell_type": "markdown",
   "metadata": {},
   "source": [
    "# Bottom Up DP - O(N) runtime, O(N) space"
   ]
  },
  {
   "cell_type": "code",
   "execution_count": 6,
   "metadata": {},
   "outputs": [],
   "source": [
    "def scoring_options(n):\n",
    "    dp = [0 for _ in range(n + 1)]\n",
    "    dp[0] = 1\n",
    "\n",
    "    for i in range(1, n + 1):\n",
    "        if i >= 1:\n",
    "            dp[i] += dp[i - 1]\n",
    "        if n >= 2:\n",
    "            dp[i] += dp[i - 2]\n",
    "        if n >= 4:\n",
    "            dp[i] += dp[i - 4]\n",
    "    \n",
    "    return dp[n]"
   ]
  },
  {
   "cell_type": "markdown",
   "metadata": {},
   "source": [
    "# Space Optimized Bottom Up DP - O(N) runtime, O(1) space"
   ]
  },
  {
   "cell_type": "code",
   "execution_count": 8,
   "metadata": {},
   "outputs": [],
   "source": [
    "def scoring_options(n):\n",
    "    if n <= 0:\n",
    "        return 0\n",
    "\n",
    "    #Max score is 4. Hence we need to save \n",
    "    #last 4 ways to calculate the number of ways\n",
    "    #for a given n\n",
    "    #save the base case on last index of the vector\n",
    "    result = [0, 0, 0, 1]\n",
    "\n",
    "    for i in range(1, n + 1):\n",
    "        current_sum = result[3] + result[2] + result[0]\n",
    "        \n",
    "        #slide left all the results in each iteration\n",
    "        #result for current i will be saved at last index\n",
    "        result[0] = result[1]\n",
    "        result[1] = result[2]\n",
    "        result[2] = result[3]\n",
    "        result[3] = current_sum\n",
    "\n",
    "    return result[3]"
   ]
  },
  {
   "cell_type": "code",
   "execution_count": 9,
   "metadata": {},
   "outputs": [
    {
     "data": {
      "text/plain": [
       "10"
      ]
     },
     "execution_count": 9,
     "metadata": {},
     "output_type": "execute_result"
    }
   ],
   "source": [
    "scoring_options(5)"
   ]
  }
 ],
 "metadata": {
  "kernelspec": {
   "display_name": "Python 3",
   "language": "python",
   "name": "python3"
  },
  "language_info": {
   "codemirror_mode": {
    "name": "ipython",
    "version": 3
   },
   "file_extension": ".py",
   "mimetype": "text/x-python",
   "name": "python",
   "nbconvert_exporter": "python",
   "pygments_lexer": "ipython3",
   "version": "3.7.3"
  }
 },
 "nbformat": 4,
 "nbformat_minor": 2
}

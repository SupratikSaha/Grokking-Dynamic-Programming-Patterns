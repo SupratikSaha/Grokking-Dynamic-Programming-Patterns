{
 "cells": [
  {
   "cell_type": "markdown",
   "metadata": {},
   "source": [
    "Problem Statement <br/>\n",
    "\n",
    "Find an efficient algorithm to find the maximum sum of a subsequence in an array so that no consecutive elements are part of this subsequence. <br/>\n",
    "\n",
    "Example 1:<br/>\n",
    "The max sum of a subsequence with no consecutive elements in the example below is 25 <br/>\n",
    "[1,6,10,14,-5,-1,2,-1,3]<br/>\n",
    "\n",
    "Example 2:<br/>\n",
    "The max sum of a subsequence with no consecutive elements in the example below is 9 <br/>\n",
    "[1,-1,6,-4,2,2]<br/>"
   ]
  },
  {
   "cell_type": "markdown",
   "metadata": {},
   "source": [
    "# Recursive - O(2 ^ N) runtime, O(N) space"
   ]
  },
  {
   "cell_type": "code",
   "execution_count": 16,
   "metadata": {},
   "outputs": [],
   "source": [
    "def find_max_sum_nonadjacent(a):\n",
    "    return find_max_sum_nonadjacent_recursive(a, 1, 0, a[0])\n",
    "\n",
    "def find_max_sum_nonadjacent_recursive(a, currIndex, prevIndex, globalMax):\n",
    "    if currIndex >= len(a):\n",
    "        return globalMax\n",
    "\n",
    "    s1 = 0        \n",
    "    if globalMax >= 0 and currIndex > 1 + prevIndex:\n",
    "        s1 = find_max_sum_nonadjacent_recursive(a, currIndex + 2, currIndex, globalMax + a[currIndex])\n",
    "    else:\n",
    "        s1 = find_max_sum_nonadjacent_recursive(a, currIndex + 2, currIndex, a[currIndex]) \n",
    "    s2 = find_max_sum_nonadjacent_recursive(a, currIndex + 1, prevIndex, globalMax)\n",
    "    \n",
    "    \n",
    "    return max(globalMax, s1, s2)"
   ]
  },
  {
   "cell_type": "markdown",
   "metadata": {},
   "source": [
    "# Iterative - O(N) runtime, O(N) space"
   ]
  },
  {
   "cell_type": "code",
   "execution_count": 19,
   "metadata": {},
   "outputs": [],
   "source": [
    "def find_max_sum_nonadjacent(a):\n",
    "    if len(a) < 1:\n",
    "        return 0\n",
    "    elif(len(a) == 1):\n",
    "        return a[0]\n",
    "\n",
    "    lengthA = len(a)\n",
    "    result = []\n",
    "    result.append(a[0])\n",
    "    \n",
    "    for i in range(1, lengthA):\n",
    "        result.append(max(a[i], result[i - 1]))\n",
    "        if i - 2 >= 0 :\n",
    "            result[i] = max(result[i], a[i] + result[i - 2])\n",
    "        \n",
    "    return result[lengthA - 1]"
   ]
  },
  {
   "cell_type": "code",
   "execution_count": 20,
   "metadata": {},
   "outputs": [
    {
     "data": {
      "text/plain": [
       "25"
      ]
     },
     "execution_count": 20,
     "metadata": {},
     "output_type": "execute_result"
    }
   ],
   "source": [
    "find_max_sum_nonadjacent([1,6,10,14,-5,-1,2,-1,3])"
   ]
  }
 ],
 "metadata": {
  "kernelspec": {
   "display_name": "Python 3",
   "language": "python",
   "name": "python3"
  },
  "language_info": {
   "codemirror_mode": {
    "name": "ipython",
    "version": 3
   },
   "file_extension": ".py",
   "mimetype": "text/x-python",
   "name": "python",
   "nbconvert_exporter": "python",
   "pygments_lexer": "ipython3",
   "version": "3.7.3"
  }
 },
 "nbformat": 4,
 "nbformat_minor": 2
}

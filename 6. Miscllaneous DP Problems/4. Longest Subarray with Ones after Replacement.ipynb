{
 "cells": [
  {
   "cell_type": "markdown",
   "metadata": {},
   "source": [
    "Problem Statement <br/>\n",
    "\n",
    "Given an array containing 0s and 1s, if you are allowed to replace no more than ‘k’ 0s with 1s, find the length of the longest contiguous subarray having all 1s. <br/>\n",
    "\n",
    "Example 1: <br/>\n",
    "Input: Array=[0, 1, 1, 0, 0, 0, 1, 1, 0, 1, 1], k=2 <br/>\n",
    "Output: 6 <br/>\n",
    "Explanation: Replace the '0' at index 5 and 8 to have the longest contiguous subarray of 1s having length 6. <br/>\n",
    "\n",
    "Example 2: <br/>\n",
    "Input: Array=[0, 1, 0, 0, 1, 1, 0, 1, 1, 0, 0, 1, 1], k=3 <br/>\n",
    "Output: 9 <br/>\n",
    "Explanation: Replace the '0' at index 6, 9, and 10 to have the longest contiguous subarray of 1s having length 9."
   ]
  },
  {
   "cell_type": "markdown",
   "metadata": {},
   "source": [
    "# Brute Force - O(2 ^ N) runtime, O(N) space"
   ]
  },
  {
   "cell_type": "code",
   "execution_count": 10,
   "metadata": {},
   "outputs": [],
   "source": [
    "def length_of_longest_substring(arr, k):\n",
    "    return length_of_longest_substring_recursive(arr, k, k, 0, 0)\n",
    "\n",
    "def length_of_longest_substring_recursive(arr, k, currChange, currIndex, countOnes):\n",
    "    if currIndex == len(arr):\n",
    "        return countOnes\n",
    "    \n",
    "    c1 = 0\n",
    "    if arr[currIndex] == 1:\n",
    "        c1 = length_of_longest_substring_recursive(arr, k, currChange, currIndex + 1, countOnes + 1) \n",
    "        c2 = length_of_longest_substring_recursive(arr, k, k, currIndex + 1, 1)\n",
    "    else:\n",
    "        if currChange > 0:\n",
    "            c1 = length_of_longest_substring_recursive(arr, k, currChange - 1, currIndex + 1, countOnes + 1)\n",
    "        c2 = length_of_longest_substring_recursive(arr, k, k, currIndex + 1, 0)\n",
    "    \n",
    "    return max(c1, c2)"
   ]
  },
  {
   "cell_type": "markdown",
   "metadata": {},
   "source": [
    "# Top Down DP - O(N ^ 2 * K) runtime, O(N ^ 2 * k) space"
   ]
  },
  {
   "cell_type": "code",
   "execution_count": 18,
   "metadata": {},
   "outputs": [],
   "source": [
    "def length_of_longest_substring(arr, k):\n",
    "    n = len(arr)\n",
    "    dp = [[[-1 for _ in range(k + 1)] for _ in range(n)] for _ in range(n + 1)]\n",
    "    return length_of_longest_substring_recursive(dp, arr, k, k, 0, 0)\n",
    "\n",
    "def length_of_longest_substring_recursive(dp, arr, k, currChange, currIndex, countOnes):\n",
    "    if currIndex == len(arr):\n",
    "        return countOnes\n",
    "    \n",
    "    if dp[countOnes][currIndex][currChange] == -1:\n",
    "        c1 = 0\n",
    "        if arr[currIndex] == 1:\n",
    "            c1 = length_of_longest_substring_recursive(dp, arr, k, currChange, currIndex + 1, countOnes + 1) \n",
    "            c2 = length_of_longest_substring_recursive(dp, arr, k, k, currIndex + 1, 1)\n",
    "        else:\n",
    "            if currChange > 0:\n",
    "                c1 = length_of_longest_substring_recursive(dp, arr, k, currChange - 1, currIndex + 1, countOnes + 1)\n",
    "            c2 = length_of_longest_substring_recursive(dp, arr, k, k, currIndex + 1, 0)\n",
    "            \n",
    "        dp[countOnes][currIndex][currChange] = max(c1, c2)\n",
    "    \n",
    "    return dp[countOnes][currIndex][currChange]"
   ]
  },
  {
   "cell_type": "markdown",
   "metadata": {},
   "source": [
    "# Sliding Windows Pattern - O(N) runtime, O(1) space"
   ]
  },
  {
   "cell_type": "code",
   "execution_count": 20,
   "metadata": {},
   "outputs": [],
   "source": [
    "def length_of_longest_substring(arr, k):\n",
    "    window_start, max_length, max_ones_count = 0, 0, 0\n",
    "\n",
    "    # Try to extend the range [window_start, window_end]\n",
    "    for window_end in range(len(arr)):\n",
    "        if arr[window_end] == 1:\n",
    "            max_ones_count += 1\n",
    "\n",
    "        # Current window size is from window_start to window_end, overall we have a maximum of 1s\n",
    "        # repeating 'max_ones_count' times, this means we can have a window with 'max_ones_count' 1s\n",
    "        # and the remaining are 0s which should replace with 1s.\n",
    "        # now, if the remaining 0s are more than 'k', it is the time to shrink the window as we\n",
    "        # are not allowed to replace more than 'k' 0s\n",
    "        if (window_end - window_start + 1 - max_ones_count) > k:\n",
    "            if arr[window_start] == 1:\n",
    "                max_ones_count -= 1\n",
    "            window_start += 1\n",
    "\n",
    "        max_length = max(max_length, window_end - window_start + 1)\n",
    "    return max_length"
   ]
  },
  {
   "cell_type": "code",
   "execution_count": 21,
   "metadata": {},
   "outputs": [
    {
     "data": {
      "text/plain": [
       "6"
      ]
     },
     "execution_count": 21,
     "metadata": {},
     "output_type": "execute_result"
    }
   ],
   "source": [
    "length_of_longest_substring([0, 1, 1, 0, 0, 0, 1, 1, 0, 1, 1], 2)"
   ]
  }
 ],
 "metadata": {
  "kernelspec": {
   "display_name": "Python 3",
   "language": "python",
   "name": "python3"
  },
  "language_info": {
   "codemirror_mode": {
    "name": "ipython",
    "version": 3
   },
   "file_extension": ".py",
   "mimetype": "text/x-python",
   "name": "python",
   "nbconvert_exporter": "python",
   "pygments_lexer": "ipython3",
   "version": "3.7.3"
  }
 },
 "nbformat": 4,
 "nbformat_minor": 2
}

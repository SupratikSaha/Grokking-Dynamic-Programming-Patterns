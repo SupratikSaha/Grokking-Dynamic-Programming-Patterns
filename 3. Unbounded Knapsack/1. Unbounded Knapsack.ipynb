{
 "cells": [
  {
   "cell_type": "markdown",
   "metadata": {},
   "source": [
    "Problem Statement <br/>\n",
    "\n",
    "Given two integer arrays to represent weights and profits of ‘N’ items, we need to find a subset of these items which will give us maximum profit such that their cumulative weight is not more than a given number ‘C’. We can assume an infinite supply of item quantities; therefore, each item can be selected multiple times. <br/>\n",
    "Weights: { 1, 2, 3 } <br/>\n",
    "Profits: { 15, 20, 50 } <br/>\n",
    "Knapsack capacity: 5 "
   ]
  },
  {
   "cell_type": "markdown",
   "metadata": {},
   "source": [
    "# Brute Force - O(2 ^ (N + C)) runtime, O(N + C) space"
   ]
  },
  {
   "cell_type": "code",
   "execution_count": 1,
   "metadata": {},
   "outputs": [],
   "source": [
    "def solve_knapsack(profits, weights, capacity):\n",
    "    return solve_knapsack_recursive(profits, weights, capacity, 0)\n",
    "\n",
    "\n",
    "def solve_knapsack_recursive(profits, weights, capacity, currentIndex):\n",
    "    n = len(profits)\n",
    "    # base checks\n",
    "    if capacity <= 0 or n == 0 or len(weights) != n or currentIndex >= n:\n",
    "        return 0\n",
    "\n",
    "    # recursive call after choosing the items at the currentIndex, note that we recursive call on all\n",
    "    # items as we did not increment currentIndex\n",
    "    profit1 = 0\n",
    "    if weights[currentIndex] <= capacity:\n",
    "        profit1 = profits[currentIndex] + solve_knapsack_recursive(\n",
    "            profits, weights, capacity - weights[currentIndex], currentIndex)\n",
    "\n",
    "    # recursive call after excluding the element at the currentIndex\n",
    "    profit2 = solve_knapsack_recursive(\n",
    "        profits, weights, capacity, currentIndex + 1)\n",
    "\n",
    "    return max(profit1, profit2)"
   ]
  },
  {
   "cell_type": "markdown",
   "metadata": {},
   "source": [
    "# Top Down DP - O(N * C) runtime, O(N * C) space"
   ]
  },
  {
   "cell_type": "code",
   "execution_count": 3,
   "metadata": {},
   "outputs": [],
   "source": [
    "def solve_knapsack(profits, weights, capacity):\n",
    "    dp = [[-1 for _ in range(capacity+1)] for _ in range(len(profits))]\n",
    "    return solve_knapsack_recursive(dp, profits, weights, capacity, 0)\n",
    "\n",
    "\n",
    "def solve_knapsack_recursive(dp, profits, weights, capacity, currentIndex):\n",
    "    n = len(profits)\n",
    "    # base checks\n",
    "    if capacity <= 0 or n == 0 or len(weights) != n or currentIndex >= n:\n",
    "        return 0\n",
    "\n",
    "    # check if we have not already processed a similar sub-problem\n",
    "    if dp[currentIndex][capacity] == -1:\n",
    "        # recursive call after choosing the items at the currentIndex, note that we\n",
    "        # recursive call on all items as we did not increment currentIndex\n",
    "        profit1 = 0\n",
    "        if weights[currentIndex] <= capacity:\n",
    "            profit1 = profits[currentIndex] + solve_knapsack_recursive(\n",
    "                dp, profits, weights, capacity - weights[currentIndex], currentIndex)\n",
    "\n",
    "        # recursive call after excluding the element at the currentIndex\n",
    "        profit2 = solve_knapsack_recursive(\n",
    "            dp, profits, weights, capacity, currentIndex + 1)\n",
    "\n",
    "        dp[currentIndex][capacity] = max(profit1, profit2)\n",
    "\n",
    "    return dp[currentIndex][capacity]"
   ]
  },
  {
   "cell_type": "markdown",
   "metadata": {},
   "source": [
    "# Bottom Up DP - O(N * C) runtime, O(N * C) space"
   ]
  },
  {
   "cell_type": "code",
   "execution_count": 5,
   "metadata": {},
   "outputs": [],
   "source": [
    "def solve_knapsack(profits, weights, capacity):\n",
    "    n = len(profits)\n",
    "    # base checks\n",
    "    if capacity <= 0 or n == 0 or len(weights) != n:\n",
    "        return 0\n",
    "\n",
    "    dp = [[-1 for _ in range(capacity+1)] for _ in range(len(profits))]\n",
    "\n",
    "    # populate the capacity=0 columns\n",
    "    for i in range(n):\n",
    "        dp[i][0] = 0\n",
    "\n",
    "    # process all sub-arrays for all capacities\n",
    "    for i in range(n):\n",
    "        for c in range(1, capacity+1):\n",
    "            profit1, profit2 = 0, 0\n",
    "            if weights[i] <= c:\n",
    "                profit1 = profits[i] + dp[i][c - weights[i]]\n",
    "            if i > 0:\n",
    "                profit2 = dp[i - 1][c]\n",
    "            dp[i][c] = profit1 if profit1 > profit2 else profit2\n",
    "\n",
    "    # maximum profit will be in the bottom-right corner.\n",
    "    return dp[n - 1][capacity]"
   ]
  },
  {
   "cell_type": "code",
   "execution_count": 6,
   "metadata": {},
   "outputs": [
    {
     "data": {
      "text/plain": [
       "140"
      ]
     },
     "execution_count": 6,
     "metadata": {},
     "output_type": "execute_result"
    }
   ],
   "source": [
    "solve_knapsack([15, 50, 60, 90], [1, 3, 4, 5], 8)"
   ]
  }
 ],
 "metadata": {
  "kernelspec": {
   "display_name": "Python 3",
   "language": "python",
   "name": "python3"
  },
  "language_info": {
   "codemirror_mode": {
    "name": "ipython",
    "version": 3
   },
   "file_extension": ".py",
   "mimetype": "text/x-python",
   "name": "python",
   "nbconvert_exporter": "python",
   "pygments_lexer": "ipython3",
   "version": "3.7.3"
  }
 },
 "nbformat": 4,
 "nbformat_minor": 2
}

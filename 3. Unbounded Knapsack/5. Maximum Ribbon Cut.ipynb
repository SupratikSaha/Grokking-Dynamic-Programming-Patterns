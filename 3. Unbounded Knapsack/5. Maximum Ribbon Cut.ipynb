{
 "cells": [
  {
   "cell_type": "markdown",
   "metadata": {},
   "source": [
    "Problem Statement <br/>\n",
    "\n",
    "We are given a ribbon of length ‘n’ and a set of possible ribbon lengths. We need to cut the ribbon into the maximum number of pieces that comply with the above-mentioned possible lengths. Write a method that will return the count of pieces. <br/>\n",
    "\n",
    "Example 1: <br/>\n",
    "n: 5 <br/>\n",
    "Ribbon Lengths: {2,3,5} <br/>\n",
    "Output: 2 <br/>\n",
    "Explanation: Ribbon pieces will be {2,3}. <br/>\n",
    "\n",
    "Example 2: <br/>\n",
    "n: 7 <br/>\n",
    "Ribbon Lengths: {2,3} <br/>\n",
    "Output: 3 <br/>\n",
    "Explanation: Ribbon pieces will be {2,2,3}. <br/>\n",
    "\n",
    "Example 3: <br/>\n",
    "n: 13 <br/>\n",
    "Ribbon Lengths: {3,5,7} <br/>\n",
    "Output: 3 <br/>\n",
    "Explanation: Ribbon pieces will be {3,3,7}."
   ]
  },
  {
   "cell_type": "markdown",
   "metadata": {},
   "source": [
    "# Brute Force - O(2 ^ (N + C)) runtime, O(N + C) space"
   ]
  },
  {
   "cell_type": "code",
   "execution_count": 2,
   "metadata": {},
   "outputs": [],
   "source": [
    "def count_ribbon_pieces(ribbonLengths, total):\n",
    "    return count_ribbon_pieces_recursive(ribbonLengths, total, 0, 0)\n",
    "\n",
    "def count_ribbon_pieces_recursive(ribbonLengths, total, currentIndex, countLengths):\n",
    "    n = len(ribbonLengths)\n",
    "    if n == 0 or currentIndex >= n:\n",
    "        return -1\n",
    "    \n",
    "    if total == 0:\n",
    "        return 0\n",
    "    \n",
    "    count1 = -1\n",
    "    if ribbonLengths[currentIndex] <= total:\n",
    "        result = count_ribbon_pieces_recursive(ribbonLengths, total - ribbonLengths[currentIndex], currentIndex, countLengths)\n",
    "        if result != -1:\n",
    "            count1 = result + 1\n",
    "            \n",
    "    count2 = count_ribbon_pieces_recursive(ribbonLengths, total, currentIndex + 1, countLengths)\n",
    "    \n",
    "    return max(count1, count2)"
   ]
  },
  {
   "cell_type": "markdown",
   "metadata": {},
   "source": [
    "# Top Down DP - O(N * C) runtime, O(N * C) space"
   ]
  },
  {
   "cell_type": "code",
   "execution_count": 7,
   "metadata": {},
   "outputs": [],
   "source": [
    "def count_ribbon_pieces(ribbonLengths, total):\n",
    "    dp = [[-1 for y in range(total + 1)] for x in range(len(ribbonLengths))]\n",
    "    return count_ribbon_pieces_recursive(dp, ribbonLengths, total, 0, 0)\n",
    "\n",
    "def count_ribbon_pieces_recursive(dp, ribbonLengths, total, currentIndex, countLengths):\n",
    "    n = len(ribbonLengths)\n",
    "    if n == 0 or currentIndex >= n:\n",
    "        return -1\n",
    "    \n",
    "    if total == 0:\n",
    "        return 0\n",
    "    \n",
    "    if dp[currentIndex][total] == -1:\n",
    "        count1 = -1\n",
    "        if ribbonLengths[currentIndex] <= total:\n",
    "            result = count_ribbon_pieces_recursive(dp, ribbonLengths, total - ribbonLengths[currentIndex], currentIndex, countLengths)\n",
    "            if result != -1:\n",
    "                count1 = result + 1\n",
    "\n",
    "        count2 = count_ribbon_pieces_recursive(dp, ribbonLengths, total, currentIndex + 1, countLengths)\n",
    "        dp[currentIndex][total] = max(count1, count2)\n",
    "    \n",
    "    return dp[currentIndex][total]"
   ]
  },
  {
   "cell_type": "markdown",
   "metadata": {},
   "source": [
    "# Bottom Up DP - O(N * C) runtime, O(N * C) space"
   ]
  },
  {
   "cell_type": "code",
   "execution_count": 14,
   "metadata": {},
   "outputs": [],
   "source": [
    "def count_ribbon_pieces(ribbonLengths, total):\n",
    "\n",
    "    n = len(ribbonLengths)\n",
    "    if n == 0 or total <= 0:\n",
    "        return -1\n",
    "    \n",
    "    dp = [[-1 for y in range(total + 1)] for x in range(len(ribbonLengths))]\n",
    "    \n",
    "    for x in range(len(ribbonLengths)):\n",
    "        dp[x][0] = 0\n",
    "     \n",
    "    for x in range(len(ribbonLengths)):\n",
    "        for y in range(1, total + 1):\n",
    "            if x > 0:\n",
    "                dp[x][y] = dp[x - 1][y]\n",
    "            if ribbonLengths[x] <= y and dp[x][y - ribbonLengths[x]] != -1:\n",
    "                dp[x][y] = max(dp[x][y], dp[x][y - ribbonLengths[x]] + 1)\n",
    "    \n",
    "    return dp[n - 1][total]"
   ]
  },
  {
   "cell_type": "code",
   "execution_count": 15,
   "metadata": {},
   "outputs": [
    {
     "data": {
      "text/plain": [
       "3"
      ]
     },
     "execution_count": 15,
     "metadata": {},
     "output_type": "execute_result"
    }
   ],
   "source": [
    "count_ribbon_pieces([3, 5, 7], 13)"
   ]
  }
 ],
 "metadata": {
  "kernelspec": {
   "display_name": "Python 3",
   "language": "python",
   "name": "python3"
  },
  "language_info": {
   "codemirror_mode": {
    "name": "ipython",
    "version": 3
   },
   "file_extension": ".py",
   "mimetype": "text/x-python",
   "name": "python",
   "nbconvert_exporter": "python",
   "pygments_lexer": "ipython3",
   "version": "3.7.3"
  }
 },
 "nbformat": 4,
 "nbformat_minor": 2
}

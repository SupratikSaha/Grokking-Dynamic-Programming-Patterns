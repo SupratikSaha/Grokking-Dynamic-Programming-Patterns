{
 "cells": [
  {
   "cell_type": "markdown",
   "metadata": {},
   "source": [
    "Problem Statement <br/>\n",
    "\n",
    "Given a rod of length ‘n’, we are asked to cut the rod and sell the pieces in a way that will maximize the profit. We are also given the price of every piece of length ‘i’ where ‘1 <= i <= n’. <br/>\n",
    "\n",
    "Example: <br/>\n",
    "\n",
    "Lengths: [1, 2, 3, 4, 5] <br/>\n",
    "Prices: [2, 6, 7, 10, 13] <br/>\n",
    "Rod Length: 5 <br/>\n",
    "\n",
    "This shows that we get the maximum price (14) by cutting the rod into two pieces of length ‘2’ and one piece of length ‘1’."
   ]
  },
  {
   "cell_type": "markdown",
   "metadata": {},
   "source": [
    "# Brute Force - O(2 ^ (N + C)) runtime, O(N + C) space"
   ]
  },
  {
   "cell_type": "code",
   "execution_count": 17,
   "metadata": {},
   "outputs": [],
   "source": [
    "def solve_rod_cutting(lengths, prices, n):\n",
    "    return solve_rod_cutting_recursive(lengths, prices, n, 0)\n",
    "\n",
    "def solve_rod_cutting_recursive(lengths, prices, n, currentIndex):\n",
    "    list_length = len(prices)\n",
    "    if n <= 0 or list_length == 0 or len(lengths) != list_length or currentIndex >= list_length:\n",
    "        return 0\n",
    "    \n",
    "    price1 = 0\n",
    "    if lengths[currentIndex] <= n:\n",
    "        price1 =  prices[currentIndex] + solve_rod_cutting_recursive(lengths, prices, n - lengths[currentIndex], currentIndex)\n",
    "    price2 = solve_rod_cutting_recursive(lengths, prices, n, currentIndex + 1)\n",
    "    \n",
    "    return max(price1, price2)"
   ]
  },
  {
   "cell_type": "markdown",
   "metadata": {},
   "source": [
    "# Top Down DP - O(N * C) runtime, O(N * C) space"
   ]
  },
  {
   "cell_type": "code",
   "execution_count": 33,
   "metadata": {},
   "outputs": [],
   "source": [
    "def solve_rod_cutting(lengths, prices, n):\n",
    "    dp = [[-1 for x in range(n + 1)] for y in range(len(prices))]\n",
    "    return solve_rod_cutting_recursive(lengths, prices, n, dp, 0)\n",
    "\n",
    "def solve_rod_cutting_recursive(lengths, prices, n, dp, currentIndex):\n",
    "    list_length = len(prices)\n",
    "    if n <= 0 or list_length == 0 or len(lengths) != list_length or currentIndex >= list_length:\n",
    "        return 0\n",
    "    \n",
    "    if dp[currentIndex][n] == -1:\n",
    "        price1 = 0\n",
    "        if lengths[currentIndex] <= n:\n",
    "            price1 =  prices[currentIndex] + solve_rod_cutting_recursive(lengths, prices, n - lengths[currentIndex], dp, currentIndex)\n",
    "        price2 = solve_rod_cutting_recursive(lengths, prices, n, dp, currentIndex + 1)\n",
    "        dp[currentIndex][n] = max(price1, price2)\n",
    "    \n",
    "    return dp[currentIndex][n]"
   ]
  },
  {
   "cell_type": "markdown",
   "metadata": {},
   "source": [
    "# Bottom Up DP - O(N * C) runtime, O(N * C) space"
   ]
  },
  {
   "cell_type": "code",
   "execution_count": 60,
   "metadata": {},
   "outputs": [],
   "source": [
    "def solve_rod_cutting(lengths, prices, n):\n",
    "\n",
    "    list_length = len(prices)\n",
    "    if n <= 0 or list_length == 0 or len(lengths) != list_length:\n",
    "        return 0\n",
    "    \n",
    "    dp = [[-1 for x in range(n + 1)] for y in range(list_length)]\n",
    "    \n",
    "    for y in range(list_length):\n",
    "        dp[y][0] = 0\n",
    "\n",
    "    for y in range(list_length):\n",
    "        for x in range(1, n + 1):\n",
    "            price1, price2 = 0, 0\n",
    "            if lengths[y] <= x:\n",
    "                price1 = prices[y] + dp[y][x - lengths[y]]\n",
    "            if y > 0:\n",
    "                price2 = dp[y - 1][x]\n",
    "            dp[y][x] = max(price1, price2)\n",
    "    \n",
    "    return dp[list_length - 1][n]"
   ]
  },
  {
   "cell_type": "code",
   "execution_count": 61,
   "metadata": {},
   "outputs": [
    {
     "data": {
      "text/plain": [
       "14"
      ]
     },
     "execution_count": 61,
     "metadata": {},
     "output_type": "execute_result"
    }
   ],
   "source": [
    "solve_rod_cutting([1, 2, 3, 4, 5], [2, 6, 7, 10, 13], 5)"
   ]
  }
 ],
 "metadata": {
  "kernelspec": {
   "display_name": "Python 3",
   "language": "python",
   "name": "python3"
  },
  "language_info": {
   "codemirror_mode": {
    "name": "ipython",
    "version": 3
   },
   "file_extension": ".py",
   "mimetype": "text/x-python",
   "name": "python",
   "nbconvert_exporter": "python",
   "pygments_lexer": "ipython3",
   "version": "3.7.3"
  }
 },
 "nbformat": 4,
 "nbformat_minor": 2
}

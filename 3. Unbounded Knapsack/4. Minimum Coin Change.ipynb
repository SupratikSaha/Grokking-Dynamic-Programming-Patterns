{
 "cells": [
  {
   "cell_type": "markdown",
   "metadata": {},
   "source": [
    "Problem Statement <br/>\n",
    "\n",
    "Given an infinite supply of ‘n’ coin denominations and a total money amount, we are asked to find the minimum number of coins needed to make up that amount. <br/>\n",
    "\n",
    "Example 1: <br/>\n",
    "Denominations: {1,2,3} <br/>\n",
    "Total amount: 5 <br/>\n",
    "Output: 2 <br/>\n",
    "Explanation: We need minimum of two coins {2,3} to make a total of '5' <br/>\n",
    "\n",
    "Example 2: <br/>\n",
    "Denominations: {1,2,3} <br/>\n",
    "Total amount: 11 <br/>\n",
    "Output: 4 <br/>\n",
    "Explanation: We need minimum four coins {2,3,3,3} to make a total of '11'"
   ]
  },
  {
   "cell_type": "markdown",
   "metadata": {},
   "source": [
    "# Brute Force - O(2 ^ (N + C)) runtime, O(N + C) space"
   ]
  },
  {
   "cell_type": "code",
   "execution_count": 9,
   "metadata": {},
   "outputs": [],
   "source": [
    "def count_change(denominations, total):\n",
    "    result = count_change_recursive(denominations, total, 0, 0)\n",
    "    return -1 if result == float('inf') else result\n",
    "\n",
    "def count_change_recursive(denominations, total, currentIndex, countCoins):\n",
    "    n = len(denominations)\n",
    "    if n == 0 or currentIndex >= n or total < 0:\n",
    "        return float('inf')\n",
    "    \n",
    "    if total == 0:\n",
    "        return 0\n",
    "    \n",
    "    currentdenomination = denominations[currentIndex]\n",
    "    count1 = float('inf')\n",
    "    if currentdenomination <= total:\n",
    "        res = count_change_recursive(denominations, total - currentdenomination, currentIndex, countCoins + 1)\n",
    "        if res != float('inf'):\n",
    "            count1 = res + 1\n",
    "    count2 = count_change_recursive(denominations, total, currentIndex + 1, countCoins)\n",
    "    \n",
    "    return min(count1, count2)"
   ]
  },
  {
   "cell_type": "markdown",
   "metadata": {},
   "source": [
    "# Top Down DP - O(N * C) runtime, O(N * C) space"
   ]
  },
  {
   "cell_type": "code",
   "execution_count": 11,
   "metadata": {},
   "outputs": [],
   "source": [
    "def count_change(denominations, total):\n",
    "    dp = [[-1 for y in range(total + 1)] for x in range(len(denominations))]\n",
    "    result = count_change_recursive(dp, denominations, total, 0, 0)\n",
    "    return -1 if result == float('inf') else result\n",
    "\n",
    "def count_change_recursive(dp, denominations, total, currentIndex, countCoins):\n",
    "    n = len(denominations)\n",
    "    if n == 0 or currentIndex >= n or total < 0:\n",
    "        return float('inf')\n",
    "    \n",
    "    if total == 0:\n",
    "        return 0\n",
    "    \n",
    "    if dp[currentIndex][total] == -1:\n",
    "        currentdenomination = denominations[currentIndex]\n",
    "        count1 = float('inf')\n",
    "        if currentdenomination <= total:\n",
    "            res = count_change_recursive(dp, denominations, total - currentdenomination, currentIndex, countCoins + 1)\n",
    "            if res != float('inf'):\n",
    "                count1 = res + 1\n",
    "        count2 = count_change_recursive(dp, denominations, total, currentIndex + 1, countCoins)\n",
    "        \n",
    "        dp[currentIndex][total] = min(count1, count2)\n",
    "    \n",
    "    return dp[currentIndex][total]"
   ]
  },
  {
   "cell_type": "markdown",
   "metadata": {},
   "source": [
    "# Bottom Up DP - O(N * C) runtime, O(N * C) space"
   ]
  },
  {
   "cell_type": "code",
   "execution_count": 28,
   "metadata": {},
   "outputs": [],
   "source": [
    "def count_change(denominations, total):\n",
    "\n",
    "    n = len(denominations)\n",
    "    if n == 0 or total < 0:\n",
    "        return -1\n",
    "    \n",
    "    dp = [[float('inf') for y in range(total + 1)] for x in range(len(denominations))]\n",
    "    \n",
    "    for x in range(len(denominations)):\n",
    "        dp[x][0] = 0\n",
    "                   \n",
    "    for x in range(len(denominations)):\n",
    "        for y in range(1, total + 1):\n",
    "            if y > 0:\n",
    "                dp[x][y] = dp[x - 1][y]\n",
    "            if denominations[x] <= y and dp[x][y - denominations[x]] != float('inf'):\n",
    "                dp[x][y] = min(dp[x][y], dp[x][y - denominations[x]] + 1)\n",
    "    \n",
    "    return -1 if dp[n - 1][total] == float('inf') else dp[n - 1][total]"
   ]
  },
  {
   "cell_type": "code",
   "execution_count": 29,
   "metadata": {},
   "outputs": [
    {
     "data": {
      "text/plain": [
       "4"
      ]
     },
     "execution_count": 29,
     "metadata": {},
     "output_type": "execute_result"
    }
   ],
   "source": [
    "count_change([1, 2, 3], 11)"
   ]
  }
 ],
 "metadata": {
  "kernelspec": {
   "display_name": "Python 3",
   "language": "python",
   "name": "python3"
  },
  "language_info": {
   "codemirror_mode": {
    "name": "ipython",
    "version": 3
   },
   "file_extension": ".py",
   "mimetype": "text/x-python",
   "name": "python",
   "nbconvert_exporter": "python",
   "pygments_lexer": "ipython3",
   "version": "3.7.3"
  }
 },
 "nbformat": 4,
 "nbformat_minor": 2
}

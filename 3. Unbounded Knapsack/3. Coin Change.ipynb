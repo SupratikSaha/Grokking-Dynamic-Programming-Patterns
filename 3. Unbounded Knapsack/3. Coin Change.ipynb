{
 "cells": [
  {
   "cell_type": "markdown",
   "metadata": {},
   "source": [
    "Problem Statement <br/>\n",
    "\n",
    "Given an infinite supply of ‘n’ coin denominations and a total money amount, we are asked to find the total number of distinct ways to make up that amount. <br/>\n",
    "\n",
    "Example: <br/>\n",
    "Denominations: {1,2,3} <br/>\n",
    "Total amount: 5 <br/>\n",
    "Output: 5 <br/>\n",
    "Explanation: There are five ways to make the change for '5', here are those ways: <br/>\n",
    "  1. {1,1,1,1,1} <br/>\n",
    "  2. {1,1,1,2} <br/> \n",
    "  3. {1,2,2} <br/>\n",
    "  4. {1,1,3} <br/>\n",
    "  5. {2,3}"
   ]
  },
  {
   "cell_type": "markdown",
   "metadata": {},
   "source": [
    "# Brute Force - O(2 ^ (N + C)) runtime, O(N + C) space"
   ]
  },
  {
   "cell_type": "code",
   "execution_count": 1,
   "metadata": {},
   "outputs": [],
   "source": [
    "def count_change(denominations, total):\n",
    "    return count_change_recursive(denominations, total, 0)\n",
    "\n",
    "def count_change_recursive(denominations, total, currentIndex):\n",
    "    n = len(denominations)\n",
    "    if n == 0 or total < 0 or currentIndex >= n:\n",
    "        return 0\n",
    "    \n",
    "    if total == 0:\n",
    "        return 1\n",
    "    \n",
    "    currentDenomination = denominations[currentIndex]\n",
    "    count1 = 0\n",
    "    if currentDenomination <= total:\n",
    "        count1 = count_change_recursive(denominations, total - currentDenomination, currentIndex)\n",
    "        \n",
    "    count2 = count_change_recursive(denominations, total, currentIndex + 1)\n",
    "    \n",
    "    return count1 + count2"
   ]
  },
  {
   "cell_type": "markdown",
   "metadata": {},
   "source": [
    "# Top Down DP - O(N * C) runtime, O(N * C) space"
   ]
  },
  {
   "cell_type": "code",
   "execution_count": 2,
   "metadata": {},
   "outputs": [],
   "source": [
    "def count_change(denominations, total):\n",
    "    dp = [[-1 for y in range(total + 1)] for x in range(len(denominations))]\n",
    "    return count_change_recursive(dp, denominations, total, 0)\n",
    "\n",
    "def count_change_recursive(dp, denominations, total, currentIndex):\n",
    "    n = len(denominations)\n",
    "    if n == 0 or total < 0 or currentIndex >= n:\n",
    "        return 0\n",
    "    \n",
    "    if total == 0:\n",
    "        return 1\n",
    "    \n",
    "    if dp[currentIndex][total] == -1:\n",
    "        currentDenomination = denominations[currentIndex]\n",
    "        count1 = 0\n",
    "        if currentDenomination <= total:\n",
    "            count1 = count_change_recursive(dp, denominations, total - currentDenomination, currentIndex)\n",
    "\n",
    "        count2 = count_change_recursive(dp, denominations, total, currentIndex + 1)\n",
    "          \n",
    "        dp[currentIndex][total] =  count1 + count2\n",
    "    \n",
    "    return dp[currentIndex][total]"
   ]
  },
  {
   "cell_type": "markdown",
   "metadata": {},
   "source": [
    "# Bottom Up DP - O(N * C) runtime, O(N * C) space"
   ]
  },
  {
   "cell_type": "code",
   "execution_count": 3,
   "metadata": {},
   "outputs": [],
   "source": [
    "def count_change(denominations, total):\n",
    "\n",
    "    n = len(denominations)\n",
    "    if n == 0 or total < 0:\n",
    "        return 0\n",
    "    \n",
    "    dp = [[0 for y in range(total + 1)] for x in range(n)]\n",
    "    \n",
    "    for x in range(n):\n",
    "        dp[x][0] = 1\n",
    "    \n",
    "    for x in range(n): \n",
    "        for y in range(1, total + 1):\n",
    "            if y > 0:\n",
    "                dp[x][y] = dp[x - 1][y]\n",
    "            if denominations[x] <= y:\n",
    "                dp[x][y] += dp[x][y - denominations[x]]\n",
    "                               \n",
    "    return dp[n - 1][total]"
   ]
  },
  {
   "cell_type": "markdown",
   "metadata": {},
   "source": [
    "# Space Optimized Bottom Up DP - O(N * C) runtime, O(C) space"
   ]
  },
  {
   "cell_type": "code",
   "execution_count": 4,
   "metadata": {},
   "outputs": [],
   "source": [
    "def count_change(coins, amount):\n",
    "\n",
    "    if amount <= 0:\n",
    "        return 0\n",
    "\n",
    "    if coins is None or len(coins) == 0:\n",
    "        return -1\n",
    "\n",
    "    dp = [float('inf') for _ in range(amount + 1)]\n",
    "    dp[0] = 0\n",
    "\n",
    "    for s in range(1, amount + 1):\n",
    "        for c in coins:\n",
    "            if s == c:\n",
    "                dp[s] = 1\n",
    "            elif c <= s:\n",
    "                dp[s] = min(dp[s],  1 + dp[s - c])\n",
    "\n",
    "    return -1 if dp[amount] == float('inf') else dp[amount]"
   ]
  },
  {
   "cell_type": "code",
   "execution_count": 5,
   "metadata": {},
   "outputs": [
    {
     "data": {
      "text/plain": [
       "2"
      ]
     },
     "execution_count": 5,
     "metadata": {},
     "output_type": "execute_result"
    }
   ],
   "source": [
    "count_change([1, 2, 3], 5)"
   ]
  }
 ],
 "metadata": {
  "kernelspec": {
   "display_name": "Python 3",
   "language": "python",
   "name": "python3"
  },
  "language_info": {
   "codemirror_mode": {
    "name": "ipython",
    "version": 3
   },
   "file_extension": ".py",
   "mimetype": "text/x-python",
   "name": "python",
   "nbconvert_exporter": "python",
   "pygments_lexer": "ipython3",
   "version": "3.7.3"
  }
 },
 "nbformat": 4,
 "nbformat_minor": 2
}

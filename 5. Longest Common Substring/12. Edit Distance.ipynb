{
 "cells": [
  {
   "cell_type": "markdown",
   "metadata": {},
   "source": [
    "Problem Statement <br/>\n",
    "\n",
    "Given strings s1 and s2, we need to transform s1 into s2 by deleting, inserting, or replacing characters. Write a function to calculate the count of the minimum number of edit operations. <br/>\n",
    "\n",
    "Example 1: <br/>\n",
    "Input: s1 = \"bat\" <br/>\n",
    "       s2 = \"but\" <br/>\n",
    "Output: 1 <br/>\n",
    "Explanation: We just need to replace 'a' with 'u' to transform s1 to s2. <br/>\n",
    "\n",
    "Example 2: <br/>\n",
    "Input: s1 = \"abdca\" <br/>\n",
    "       s2 = \"cbda\" <br/>\n",
    "Output: 2 <br/>\n",
    "Explanation: We can replace first 'a' with 'c' and delete second 'c'. <br/>\n",
    "\n",
    "Example 3: <br/>\n",
    "Input: s1 = \"passpot\" <br/>\n",
    "       s2 = \"ppsspqrt\" <br/>\n",
    "Output: 3  <br/>\n",
    "Explanation: Replace 'a' with 'p', 'o' with 'q', and insert 'r'."
   ]
  },
  {
   "cell_type": "markdown",
   "metadata": {},
   "source": [
    "# Brute Force - O(2 ^ (M + N)) runtime, O(M + N) space"
   ]
  },
  {
   "cell_type": "code",
   "execution_count": 2,
   "metadata": {},
   "outputs": [],
   "source": [
    "def find_min_operations(s1, s2):\n",
    "    return len(s2) - find_LCS(s1, s2, 0, 0)\n",
    "\n",
    "def find_LCS(s1, s2, i1, i2):\n",
    "    if i1 == len(s1) or i2 == len(s2):\n",
    "        return 0\n",
    "    \n",
    "    if s1[i1] == s2[i2]:\n",
    "        return 1 + find_LCS(s1, s2, i1 + 1, i2 + 1)\n",
    "    else:\n",
    "        c1 = find_LCS(s1, s2, i1 + 1, i2)\n",
    "        c2 = find_LCS(s1, s2, i1, i2 + 1)\n",
    "        \n",
    "    return max(c1, c2)"
   ]
  },
  {
   "cell_type": "markdown",
   "metadata": {},
   "source": [
    "# Top Down DP - O(M * N) runtime, O(M * N) space"
   ]
  },
  {
   "cell_type": "code",
   "execution_count": 9,
   "metadata": {},
   "outputs": [],
   "source": [
    "def find_min_operations(s1, s2):\n",
    "    dp = [[-1 for _ in range(len(s2))] for _ in range(len(s1))]\n",
    "    return len(s2) - find_LCS(dp, s1, s2, 0, 0)\n",
    "\n",
    "def find_LCS(dp, s1, s2, i1, i2):\n",
    "    if i1 == len(s1) or i2 == len(s2):\n",
    "        return 0\n",
    "    \n",
    "    if dp[i1][i2] == -1:\n",
    "        if s1[i1] == s2[i2]:\n",
    "            return 1 + find_LCS(dp, s1, s2, i1 + 1, i2 + 1)\n",
    "        else:\n",
    "            c1 = find_LCS(dp, s1, s2, i1 + 1, i2)\n",
    "            c2 = find_LCS(dp, s1, s2, i1, i2 + 1)\n",
    "     \n",
    "        dp[i1][i2] = max(c1, c2)\n",
    "        \n",
    "    return dp[i1][i2]"
   ]
  },
  {
   "cell_type": "markdown",
   "metadata": {},
   "source": [
    "# Bottom Up DP - O(N ^ 2) runtime, O(N) space"
   ]
  },
  {
   "cell_type": "code",
   "execution_count": 13,
   "metadata": {},
   "outputs": [],
   "source": [
    "def find_min_operations(s1, s2):\n",
    "    n1, n2 = len(s1), len(s2)\n",
    "    dp = [[0 for _ in range(n2 + 1)] for _ in range(n1 + 1)]\n",
    "\n",
    "    maxLength = 0\n",
    "    for i1 in range(1, n1 + 1):\n",
    "        for i2 in range(1, n2 + 1):\n",
    "            if s1[i1 - 1] == s2[i2 - 1]:\n",
    "                dp[i1][i2] = 1 + dp[i1 - 1][i2 - 1]\n",
    "            else:\n",
    "                dp[i1][i2] = max(dp[i1 - 1][i2], dp[i1][i2 - 1])\n",
    "            \n",
    "            maxLength = max(maxLength, dp[i1][i2])\n",
    "        \n",
    "    return n2 - maxLength"
   ]
  },
  {
   "cell_type": "code",
   "execution_count": 16,
   "metadata": {},
   "outputs": [
    {
     "data": {
      "text/plain": [
       "3"
      ]
     },
     "execution_count": 16,
     "metadata": {},
     "output_type": "execute_result"
    }
   ],
   "source": [
    "find_min_operations(\"passpot\" , \"ppsspqrt\")"
   ]
  }
 ],
 "metadata": {
  "kernelspec": {
   "display_name": "Python 3",
   "language": "python",
   "name": "python3"
  },
  "language_info": {
   "codemirror_mode": {
    "name": "ipython",
    "version": 3
   },
   "file_extension": ".py",
   "mimetype": "text/x-python",
   "name": "python",
   "nbconvert_exporter": "python",
   "pygments_lexer": "ipython3",
   "version": "3.7.3"
  }
 },
 "nbformat": 4,
 "nbformat_minor": 2
}

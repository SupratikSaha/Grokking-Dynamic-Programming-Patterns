{
 "cells": [
  {
   "cell_type": "markdown",
   "metadata": {},
   "source": [
    "Problem Statement <br/>\n",
    "\n",
    "Given two strings ‘s1’ and ‘s2’, find the length of the longest subsequence which is common in both the strings. <br/>\n",
    "\n",
    "A subsequence is a sequence that can be derived from another sequence by deleting some or no elements without changing the order of the remaining elements. <br/>\n",
    "\n",
    "Example 1: <br/>\n",
    "Input: s1 = \"abdca\" <br/>\n",
    "       s2 = \"cbda\" <br/>\n",
    "Output: 3 <br/>\n",
    "Explanation: The longest common subsequence is \"bda\". <br/>\n",
    "\n",
    "Example 2: <br/>\n",
    "Input: s1 = \"passport\" <br/>\n",
    "       s2 = \"ppsspt\" <br/>\n",
    "Output: 5 <br/>\n",
    "Explanation: The longest common subsequence is \"psspt\". <br/>"
   ]
  },
  {
   "cell_type": "markdown",
   "metadata": {},
   "source": [
    "# Brute Force - O(2 ^ (M +N)) runtime, O(M + N) space, where M and N are lengths of the two strings"
   ]
  },
  {
   "cell_type": "code",
   "execution_count": 7,
   "metadata": {},
   "outputs": [],
   "source": [
    "def find_LCS_length(s1, s2):\n",
    "    return find_LCS_length_recursive(s1, s2, 0, 0)\n",
    "\n",
    "def find_LCS_length_recursive(s1, s2, i1, i2):\n",
    "    if i1 == len(s1) or i2 == len(s2):\n",
    "        return 0\n",
    "    \n",
    "    if s1[i1] == s2[i2]:\n",
    "        return 1 + find_LCS_length_recursive(s1, s2, i1 + 1, i2 + 1)\n",
    "        \n",
    "    c1 = find_LCS_length_recursive(s1, s2, i1 + 1, i2)\n",
    "    c2 = find_LCS_length_recursive(s1, s2, i1, i2 + 1)\n",
    "    \n",
    "    return max(c1, c2)"
   ]
  },
  {
   "cell_type": "markdown",
   "metadata": {},
   "source": [
    "# Top Down Recursion - O(M * N) runtime, O(M * N) space"
   ]
  },
  {
   "cell_type": "code",
   "execution_count": 11,
   "metadata": {},
   "outputs": [],
   "source": [
    "def find_LCS_length(s1, s2):\n",
    "    dp = [[-1 for _ in range(len(s2))] for _ in range(len(s1))]\n",
    "    return find_LCS_length_recursive(dp, s1, s2, 0, 0)\n",
    "\n",
    "def find_LCS_length_recursive(dp, s1, s2, i1, i2):\n",
    "    if i1 == len(s1) or i2 == len(s2):\n",
    "        return 0\n",
    "    \n",
    "    if dp[i1][i2] == -1:\n",
    "    \n",
    "        if s1[i1] == s2[i2]:\n",
    "            dp[i1][i2] = 1 + find_LCS_length_recursive(dp, s1, s2, i1 + 1, i2 + 1)\n",
    "            return dp[i1][i2]\n",
    "\n",
    "        c1 = find_LCS_length_recursive(dp, s1, s2, i1 + 1, i2)\n",
    "        c2 = find_LCS_length_recursive(dp, s1, s2, i1, i2 + 1)\n",
    "        dp[i1][i2] = max(c1, c2)\n",
    "    \n",
    "    return dp[i1][i2]"
   ]
  },
  {
   "cell_type": "markdown",
   "metadata": {},
   "source": [
    "# Bottom Up Recursion - O(M * N) runtime, O(M * N) space"
   ]
  },
  {
   "cell_type": "code",
   "execution_count": 23,
   "metadata": {},
   "outputs": [],
   "source": [
    "def find_LCS_length(s1, s2):\n",
    "    n1, n2 = len(s1), len(s2)\n",
    "    dp = [[0 for _ in range(n2 + 1)] for _ in range(n1 + 1)]\n",
    "    \n",
    "    maxCount = 0\n",
    "    for i1 in range(1, n1 + 1):\n",
    "        for i2 in range(1, n2 + 1):\n",
    "            if s1[i1 - 1] == s2[i2 - 1]:\n",
    "                dp[i1][i2] = 1 + dp[i1 - 1][i2 - 1]\n",
    "            else:\n",
    "                dp[i1][i2] = max(dp[i1 - 1][i2], dp[i1][i2 -  1])\n",
    "            maxCount = max(maxCount, dp[i1][i2])       \n",
    "    \n",
    "    return maxCount"
   ]
  },
  {
   "cell_type": "markdown",
   "metadata": {},
   "source": [
    "# Space Optimized Bottom Up Resursion - O(M * N) runtime, O(N) space"
   ]
  },
  {
   "cell_type": "code",
   "execution_count": 25,
   "metadata": {},
   "outputs": [],
   "source": [
    "def find_LCS_length(s1, s2):\n",
    "    n1, n2 = len(s1), len(s2)\n",
    "    dp = [[0 for _ in range(n2+1)] for _ in range(2)]\n",
    "    maxLength = 0\n",
    "    for i in range(1, n1+1):\n",
    "        for j in range(1, n2+1):\n",
    "            if s1[i - 1] == s2[j - 1]:\n",
    "                dp[i % 2][j] = 1 + dp[(i - 1) % 2][j - 1]\n",
    "            else:\n",
    "                dp[i % 2][j] = max(dp[(i - 1) % 2][j], dp[i % 2][j - 1])\n",
    "\n",
    "            maxLength = max(maxLength, dp[i % 2][j])\n",
    "\n",
    "    return maxLength"
   ]
  },
  {
   "cell_type": "code",
   "execution_count": 26,
   "metadata": {},
   "outputs": [
    {
     "data": {
      "text/plain": [
       "3"
      ]
     },
     "execution_count": 26,
     "metadata": {},
     "output_type": "execute_result"
    }
   ],
   "source": [
    "find_LCS_length(\"abdca\", \"cbda\")"
   ]
  }
 ],
 "metadata": {
  "kernelspec": {
   "display_name": "Python 3",
   "language": "python",
   "name": "python3"
  },
  "language_info": {
   "codemirror_mode": {
    "name": "ipython",
    "version": 3
   },
   "file_extension": ".py",
   "mimetype": "text/x-python",
   "name": "python",
   "nbconvert_exporter": "python",
   "pygments_lexer": "ipython3",
   "version": "3.7.3"
  }
 },
 "nbformat": 4,
 "nbformat_minor": 2
}

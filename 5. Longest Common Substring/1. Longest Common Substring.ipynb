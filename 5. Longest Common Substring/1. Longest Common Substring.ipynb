{
 "cells": [
  {
   "cell_type": "markdown",
   "metadata": {},
   "source": [
    "Problem Statement <br/>\n",
    "\n",
    "Given two strings ‘s1’ and ‘s2’, find the length of the longest substring which is common in both the strings. <br/>\n",
    "\n",
    "Example 1: <br/>\n",
    "Input: s1 = \"abdca\" <br/>\n",
    "       s2 = \"cbda\" <br/>\n",
    "Output: 2 <br/>\n",
    "Explanation: The longest common substring is \"bd\". <br/>\n",
    "\n",
    "Example 2: <br/>\n",
    "Input: s1 = \"passport\" <br/>\n",
    "       s2 = \"ppsspt\" <br/>\n",
    "Output: 3 <br/>\n",
    "Explanation: The longest common substring is \"ssp\". <br/>"
   ]
  },
  {
   "cell_type": "markdown",
   "metadata": {},
   "source": [
    "# Brute Force - O(2 ^ (M + N)) runtime, O(M + N) space, where M and N are lengths of the two strings"
   ]
  },
  {
   "cell_type": "code",
   "execution_count": 6,
   "metadata": {},
   "outputs": [],
   "source": [
    "def find_LCS_length(s1, s2):\n",
    "    return find_LCS_length_recursive(s1, s2)\n",
    "\n",
    "def find_LCS_length_recursive(s1, s2):\n",
    "    if not s1 or not s2:\n",
    "        return 0\n",
    "    \n",
    "    if s1 == s2:\n",
    "        return len(s1)\n",
    "    \n",
    "    option1, option2 = 0, 0\n",
    "    if len(s1) >= len(s2):\n",
    "        option1 = find_LCS_length_recursive(s1[1:], s2)\n",
    "        option2 = find_LCS_length_recursive(s1[:-1], s2)\n",
    "    elif len(s2) > len(s1):\n",
    "        option1 = find_LCS_length_recursive(s1, s2[1:])\n",
    "        option2 = find_LCS_length_recursive(s1, s2[:-1])\n",
    "        \n",
    "    return max(option1, option2)"
   ]
  },
  {
   "cell_type": "markdown",
   "metadata": {},
   "source": [
    "# Top Down DP - O(N ^ 2 * M) runtime, O(N ^ 2 * M) space where M is the length of the larger string and N the length of the smaller string"
   ]
  },
  {
   "cell_type": "code",
   "execution_count": 9,
   "metadata": {},
   "outputs": [],
   "source": [
    "def find_LCS_length(s1, s2):\n",
    "    n1, n2 = len(s1), len(s2)\n",
    "    maxLength = min(n1, n2)\n",
    "    dp = [[[-1 for _ in range(maxLength)] for _ in range(n2)]\n",
    "                for _ in range(n1)]\n",
    "    return find_LCS_length_recursive(dp, s1, s2, 0, 0, 0)\n",
    "\n",
    "\n",
    "def find_LCS_length_recursive(dp, s1, s2, i1, i2, count):\n",
    "    if i1 == len(s1) or i2 == len(s2):\n",
    "        return count\n",
    "\n",
    "    if dp[i1][i2][count] == -1:\n",
    "        c1 = count\n",
    "        if s1[i1] == s2[i2]:\n",
    "            c1 = find_LCS_length_recursive(\n",
    "                dp, s1, s2, i1 + 1, i2 + 1, count + 1)\n",
    "        c2 = find_LCS_length_recursive(dp, s1, s2, i1, i2 + 1, 0)\n",
    "        c3 = find_LCS_length_recursive(dp, s1, s2, i1 + 1, i2, 0)\n",
    "        dp[i1][i2][count] = max(c1, max(c2, c3))\n",
    "\n",
    "    return dp[i1][i2][count]"
   ]
  },
  {
   "cell_type": "markdown",
   "metadata": {},
   "source": [
    "# Bottom Up DP - O(M * N) runtime, O(M * N) space, where M and N are lengths of the two strings"
   ]
  },
  {
   "cell_type": "code",
   "execution_count": 11,
   "metadata": {},
   "outputs": [],
   "source": [
    "def find_LCS_length(s1, s2):\n",
    "    n1, n2 = len(s1), len(s2)\n",
    "    dp = [[0 for _ in range(n2+1)] for _ in range(n1+1)]\n",
    "    maxLength = 0\n",
    "    for i in range(1, n1+1):\n",
    "        for j in range(1, n2+1):\n",
    "            if s1[i - 1] == s2[j - 1]:\n",
    "                dp[i][j] = 1 + dp[i - 1][j - 1]\n",
    "                maxLength = max(maxLength, dp[i][j])\n",
    "    return maxLength"
   ]
  },
  {
   "cell_type": "code",
   "execution_count": 12,
   "metadata": {},
   "outputs": [
    {
     "data": {
      "text/plain": [
       "3"
      ]
     },
     "execution_count": 12,
     "metadata": {},
     "output_type": "execute_result"
    }
   ],
   "source": [
    "find_LCS_length(\"passport\", \"ppsspt\")"
   ]
  }
 ],
 "metadata": {
  "kernelspec": {
   "display_name": "Python 3",
   "language": "python",
   "name": "python3"
  },
  "language_info": {
   "codemirror_mode": {
    "name": "ipython",
    "version": 3
   },
   "file_extension": ".py",
   "mimetype": "text/x-python",
   "name": "python",
   "nbconvert_exporter": "python",
   "pygments_lexer": "ipython3",
   "version": "3.7.3"
  }
 },
 "nbformat": 4,
 "nbformat_minor": 2
}

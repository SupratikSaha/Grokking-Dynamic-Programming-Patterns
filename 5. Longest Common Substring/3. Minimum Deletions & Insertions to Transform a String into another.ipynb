{
 "cells": [
  {
   "cell_type": "markdown",
   "metadata": {},
   "source": [
    "Problem Statement <br/>\n",
    "\n",
    "Given strings s1 and s2, we need to transform s1 into s2 by deleting and inserting characters. Write a function to calculate the count of the minimum number of deletion and insertion operations. <br/>\n",
    "\n",
    "Example 1: <br/>\n",
    "Input: s1 = \"abc\" <br/>\n",
    "       s2 = \"fbc\" <br/>\n",
    "Output: 1 deletion and 1 insertion. <br/>\n",
    "Explanation: We need to delete {'a'} and insert {'f'} to s1 to transform it into s2. <br/>\n",
    "\n",
    "Example 2: <br/>\n",
    "Input: s1 = \"abdca\" <br/>\n",
    "       s2 = \"cbda\" <br/>\n",
    "Output: 2 deletions and 1 insertion. <br/>\n",
    "Explanation: We need to delete {'a', 'c'} and insert {'c'} to s1 to transform it into s2. <br/>\n",
    "\n",
    "Example 3: <br/>\n",
    "Input: s1 = \"passport\" <br/>\n",
    "       s2 = \"ppsspt\" <br/>\n",
    "Output: 3 deletions and 1 insertion <br/>\n",
    "Explanation: We need to delete {'a', 'o', 'r'} and insert {'p'} to s1 to transform it into s2."
   ]
  },
  {
   "cell_type": "markdown",
   "metadata": {},
   "source": [
    "# Brute Force - O(2 ^ (M +N)) runtime, O(M + N) space, where M and N are lengths of the two strings"
   ]
  },
  {
   "cell_type": "code",
   "execution_count": 1,
   "metadata": {},
   "outputs": [],
   "source": [
    "def find_MDI(s1, s2):\n",
    "    c1 = find_LCS_length_recursive(s1, s2, 0, 0)\n",
    "    print(\"Minimum deletions needed: \" + str(len(s1) - c1))\n",
    "    print(\"Minimum insertions needed: \" + str(len(s2) - c1))\n",
    "\n",
    "def find_LCS_length_recursive(s1, s2, i1, i2):\n",
    "    if i1 == len(s1) or i2 == len(s2):\n",
    "        return 0\n",
    "    \n",
    "    if s1[i1] == s2[i2]:\n",
    "        return 1 + find_LCS_length_recursive(s1, s2, i1 + 1, i2 + 1)\n",
    "        \n",
    "    c1 = find_LCS_length_recursive(s1, s2, i1 + 1, i2)\n",
    "    c2 = find_LCS_length_recursive(s1, s2, i1, i2 + 1)\n",
    "    \n",
    "    return max(c1, c2)"
   ]
  },
  {
   "cell_type": "markdown",
   "metadata": {},
   "source": [
    "# Top Down Recursion - O(M * N) runtime, O(M * N) space"
   ]
  },
  {
   "cell_type": "code",
   "execution_count": 7,
   "metadata": {},
   "outputs": [],
   "source": [
    "def find_MDI(s1, s2):\n",
    "    dp = [[-1 for _ in range(len(s2))] for _ in range(len(s1))]\n",
    "    c1 = find_LCS_length_recursive(dp, s1, s2, 0, 0)\n",
    "    print(\"Minimum deletions needed: \" + str(len(s1) - c1))\n",
    "    print(\"Minimum insertions needed: \" + str(len(s2) - c1))\n",
    "\n",
    "def find_LCS_length_recursive(dp, s1, s2, i1, i2):\n",
    "    if i1 == len(s1) or i2 == len(s2):\n",
    "        return 0\n",
    "    \n",
    "    if dp[i1][i2] == -1:\n",
    "    \n",
    "        if s1[i1] == s2[i2]:\n",
    "            dp[i1][i2] = 1 + find_LCS_length_recursive(dp, s1, s2, i1 + 1, i2 + 1)\n",
    "            return dp[i1][i2]\n",
    "\n",
    "        c1 = find_LCS_length_recursive(dp, s1, s2, i1 + 1, i2)\n",
    "        c2 = find_LCS_length_recursive(dp, s1, s2, i1, i2 + 1)\n",
    "        dp[i1][i2] = max(c1, c2)\n",
    "    \n",
    "    return dp[i1][i2]"
   ]
  },
  {
   "cell_type": "markdown",
   "metadata": {},
   "source": [
    "# Bottom Up Recursion - O(M * N) runtime, O(M * N) space"
   ]
  },
  {
   "cell_type": "code",
   "execution_count": 9,
   "metadata": {},
   "outputs": [],
   "source": [
    "def find_MDI(s1, s2):\n",
    "    c1 = find_LCS_length(s1, s2)\n",
    "    print(\"Minimum deletions needed: \" + str(len(s1) - c1))\n",
    "    print(\"Minimum insertions needed: \" + str(len(s2) - c1))\n",
    "    \n",
    "def find_LCS_length(s1, s2):\n",
    "    n1, n2 = len(s1), len(s2)\n",
    "    dp = [[0 for _ in range(n2 + 1)] for _ in range(n1 + 1)]\n",
    "    \n",
    "    maxCount = 0\n",
    "    for i1 in range(1, n1 + 1):\n",
    "        for i2 in range(1, n2 + 1):\n",
    "            if s1[i1 - 1] == s2[i2 - 1]:\n",
    "                dp[i1][i2] = 1 + dp[i1 - 1][i2 - 1]\n",
    "            else:\n",
    "                dp[i1][i2] = max(dp[i1 - 1][i2], dp[i1][i2 -  1])\n",
    "            maxCount = max(maxCount, dp[i1][i2])       \n",
    "    \n",
    "    return maxCount"
   ]
  },
  {
   "cell_type": "markdown",
   "metadata": {},
   "source": [
    "# Space Optimized Bottom Up Resursion - O(M * N) runtime, O(N) space"
   ]
  },
  {
   "cell_type": "code",
   "execution_count": 11,
   "metadata": {},
   "outputs": [],
   "source": [
    "def find_MDI(s1, s2):\n",
    "    c1 = find_LCS_length(s1, s2)\n",
    "    print(\"Minimum deletions needed: \" + str(len(s1) - c1))\n",
    "    print(\"Minimum insertions needed: \" + str(len(s2) - c1))\n",
    "    \n",
    "def find_LCS_length(s1, s2):\n",
    "    n1, n2 = len(s1), len(s2)\n",
    "    dp = [[0 for _ in range(n2+1)] for _ in range(2)]\n",
    "    maxLength = 0\n",
    "    for i in range(1, n1+1):\n",
    "        for j in range(1, n2+1):\n",
    "            if s1[i - 1] == s2[j - 1]:\n",
    "                dp[i % 2][j] = 1 + dp[(i - 1) % 2][j - 1]\n",
    "            else:\n",
    "                dp[i % 2][j] = max(dp[(i - 1) % 2][j], dp[i % 2][j - 1])\n",
    "\n",
    "            maxLength = max(maxLength, dp[i % 2][j])\n",
    "\n",
    "    return maxLength"
   ]
  },
  {
   "cell_type": "code",
   "execution_count": 12,
   "metadata": {},
   "outputs": [
    {
     "name": "stdout",
     "output_type": "stream",
     "text": [
      "Minimum deletions needed: 3\n",
      "Minimum insertions needed: 1\n"
     ]
    }
   ],
   "source": [
    "find_MDI(\"passport\", \"ppsspt\")"
   ]
  }
 ],
 "metadata": {
  "kernelspec": {
   "display_name": "Python 3",
   "language": "python",
   "name": "python3"
  },
  "language_info": {
   "codemirror_mode": {
    "name": "ipython",
    "version": 3
   },
   "file_extension": ".py",
   "mimetype": "text/x-python",
   "name": "python",
   "nbconvert_exporter": "python",
   "pygments_lexer": "ipython3",
   "version": "3.7.3"
  }
 },
 "nbformat": 4,
 "nbformat_minor": 2
}

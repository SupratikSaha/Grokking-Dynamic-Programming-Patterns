{
 "cells": [
  {
   "cell_type": "markdown",
   "metadata": {},
   "source": [
    "Problem Statement <br/>\n",
    "\n",
    "Given a number sequence, find the increasing subsequence with the highest sum. Write a method that returns the highest sum. <br/>\n",
    "\n",
    "Example 1: <br/>\n",
    "Input: {4,1,2,6,10,1,12} <br/>\n",
    "Output: 32 <br/>\n",
    "Explanation: The increaseing sequence is {4,6,10,12}. <br/>\n",
    "Please note the difference, as the LIS is {1,2,6,10,12} which has a sum of '31'. <br/>\n",
    "\n",
    "Example 2: <br/>\n",
    "Input: {-4,10,3,7,15} <br/>\n",
    "Output: 25 <br/>\n",
    "Explanation: The increaseing sequences are {10, 15} and {3,7,15}."
   ]
  },
  {
   "cell_type": "markdown",
   "metadata": {},
   "source": [
    "# Brute Force - O(2 ^ N) runtime, O(N) space"
   ]
  },
  {
   "cell_type": "code",
   "execution_count": 52,
   "metadata": {},
   "outputs": [],
   "source": [
    "def find_MSIS(nums):\n",
    "    return find_MSIS_recursive(nums, 0, -1, 0)\n",
    "\n",
    "def find_MSIS_recursive(nums, currIndex, prevIndex, currSum):\n",
    "    if currIndex == len(nums):\n",
    "        return currSum\n",
    "    \n",
    "    sum1 = float('-inf')\n",
    "    if prevIndex == -1 or nums[currIndex] > nums[prevIndex]:\n",
    "        sum1 = find_MSIS_recursive(nums, currIndex + 1, currIndex, nums[currIndex] + currSum)\n",
    "\n",
    "    sum2 = find_MSIS_recursive(nums, currIndex + 1, prevIndex, currSum)\n",
    "        \n",
    "    return max(sum1, sum2)"
   ]
  },
  {
   "cell_type": "markdown",
   "metadata": {},
   "source": [
    "# Top Down DP - O(N ^ 2) runtime, O(N ^ 2) space"
   ]
  },
  {
   "cell_type": "code",
   "execution_count": 58,
   "metadata": {},
   "outputs": [],
   "source": [
    "def find_MSIS(nums):\n",
    "    dp = {}\n",
    "    return find_MSIS_recursive(dp, nums, 0, -1, 0)\n",
    "\n",
    "\n",
    "def find_MSIS_recursive(dp, nums, currentIndex,    previousIndex,    sum):\n",
    "    if currentIndex == len(nums):\n",
    "        return sum\n",
    "\n",
    "    subProblemKey = str(currentIndex) + \"-\" + str(previousIndex) + \"-\" + str(sum)\n",
    "\n",
    "    if subProblemKey not in dp:\n",
    "        # include nums[currentIndex] if it is larger than the last included number\n",
    "        s1 = sum\n",
    "        if previousIndex == -1 or nums[currentIndex] > nums[previousIndex]:\n",
    "            s1 = find_MSIS_recursive(dp, nums, currentIndex + 1, currentIndex, sum + nums[currentIndex])\n",
    "\n",
    "        # excluding the number at currentIndex\n",
    "        s2 = find_MSIS_recursive(dp, nums, currentIndex + 1, previousIndex, sum)\n",
    "        dp[subProblemKey] = max(s1, s2)\n",
    "\n",
    "    return dp.get(subProblemKey)"
   ]
  },
  {
   "cell_type": "markdown",
   "metadata": {},
   "source": [
    "# Bottom Up DP - O(N ^ 2) runtime, O(N) space"
   ]
  },
  {
   "cell_type": "code",
   "execution_count": 66,
   "metadata": {},
   "outputs": [],
   "source": [
    "def find_MSIS(nums):\n",
    "    n = len(nums)\n",
    "    dp = [0 for _ in range(n)]\n",
    "    dp[0] = nums[0]\n",
    "\n",
    "    maxSum = nums[0]\n",
    "    for i in range(1, n):\n",
    "        dp[i] = nums[i]\n",
    "        for j in range(i):\n",
    "            if nums[i] > nums[j] and dp[i] < dp[j] + nums[i]:\n",
    "                dp[i] = dp[j] + nums[i]\n",
    "\n",
    "        maxSum = max(maxSum, dp[i])\n",
    "\n",
    "    return maxSum"
   ]
  },
  {
   "cell_type": "code",
   "execution_count": 67,
   "metadata": {},
   "outputs": [
    {
     "data": {
      "text/plain": [
       "25"
      ]
     },
     "execution_count": 67,
     "metadata": {},
     "output_type": "execute_result"
    }
   ],
   "source": [
    "find_MSIS([-4,10,3,7,15])"
   ]
  }
 ],
 "metadata": {
  "kernelspec": {
   "display_name": "Python 3",
   "language": "python",
   "name": "python3"
  },
  "language_info": {
   "codemirror_mode": {
    "name": "ipython",
    "version": 3
   },
   "file_extension": ".py",
   "mimetype": "text/x-python",
   "name": "python",
   "nbconvert_exporter": "python",
   "pygments_lexer": "ipython3",
   "version": "3.7.3"
  }
 },
 "nbformat": 4,
 "nbformat_minor": 2
}

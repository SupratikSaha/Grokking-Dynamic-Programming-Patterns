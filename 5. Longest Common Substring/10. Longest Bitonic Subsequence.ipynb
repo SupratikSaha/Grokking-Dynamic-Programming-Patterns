{
 "cells": [
  {
   "cell_type": "markdown",
   "metadata": {},
   "source": [
    "Problem Statement <br/>\n",
    "\n",
    "Given a number sequence, find the length of its Longest Bitonic Subsequence (LBS). A subsequence is considered bitonic if it is monotonically increasing and then monotonically decreasing. <br/>\n",
    "\n",
    "Example 1: <br/>\n",
    "Input: {4,2,3,6,10,1,12} <br/>\n",
    "Output: 5 <br/>\n",
    "Explanation: The LBS is {2,3,6,10,1}. <br/>\n",
    "\n",
    "Example 2: <br/>\n",
    "Input: {4,2,5,9,7,6,10,3,1} <br/>\n",
    "Output: 7 <br/>\n",
    "Explanation: The LBS is {4,5,9,7,6,3,1}."
   ]
  },
  {
   "cell_type": "markdown",
   "metadata": {},
   "source": [
    "# Brute Force - O(2 ^ N) runtime, O(N) space"
   ]
  },
  {
   "cell_type": "code",
   "execution_count": 1,
   "metadata": {},
   "outputs": [],
   "source": [
    "def find_LBS_length(nums):\n",
    "    maxLength = 0\n",
    "    for i in range(len(nums)):\n",
    "        c1 = find_LDS_length(nums, i, -1)\n",
    "        c2 = find_LDS_length_rev(nums, i, -1)\n",
    "        maxLength = max(maxLength, c1 + c2 - 1)\n",
    "    return maxLength\n",
    "\n",
    "# find the longest decreasing subsequence from currentIndex till the end of the array\n",
    "def find_LDS_length(nums,    currentIndex, previousIndex):\n",
    "    if currentIndex == len(nums):\n",
    "        return 0\n",
    "\n",
    "    # include nums[currentIndex] if it is smaller than the previous number\n",
    "    c1 = 0\n",
    "    if previousIndex == -1 or nums[currentIndex] < nums[previousIndex]:\n",
    "        c1 = 1 + find_LDS_length(nums, currentIndex + 1, currentIndex)\n",
    "\n",
    "    # excluding the number at currentIndex\n",
    "    c2 = find_LDS_length(nums, currentIndex + 1, previousIndex)\n",
    "\n",
    "    return max(c1, c2)\n",
    "\n",
    "# find the longest decreasing subsequence from currentIndex till the beginning of the array\n",
    "def find_LDS_length_rev(nums,    currentIndex,    previousIndex):\n",
    "    if currentIndex < 0:\n",
    "        return 0\n",
    "\n",
    "    # include nums[currentIndex] if it is smaller than the previous number\n",
    "    c1 = 0\n",
    "    if previousIndex == -1 or nums[currentIndex] < nums[previousIndex]:\n",
    "        c1 = 1 + find_LDS_length_rev(nums, currentIndex - 1, currentIndex)\n",
    "\n",
    "    # excluding the number at currentIndex\n",
    "    c2 = find_LDS_length_rev(nums, currentIndex - 1, previousIndex)\n",
    "\n",
    "    return max(c1, c2)"
   ]
  },
  {
   "cell_type": "markdown",
   "metadata": {},
   "source": [
    "# Top Down DP - O(N ^ 2) runtime, O(N ^ 2) space"
   ]
  },
  {
   "cell_type": "code",
   "execution_count": 3,
   "metadata": {},
   "outputs": [],
   "source": [
    "def find_LBS_length(nums):\n",
    "    n = len(nums)\n",
    "\n",
    "    lds = [[-1 for _ in range(n+1)] for _ in range(n)]\n",
    "    ldsRev = [[-1 for _ in range(n+1)] for _ in range(n)]\n",
    "\n",
    "    maxLength = 0\n",
    "    for i in range(n):\n",
    "        c1 = find_LDS_length(lds, nums, i, -1)\n",
    "        c2 = find_LDS_length_rev(ldsRev, nums, i, -1)\n",
    "        maxLength = max(maxLength, c1 + c2 - 1)\n",
    "\n",
    "    return maxLength\n",
    "\n",
    "# find the longest decreasing subsequence from currentIndex till the end of the array\n",
    "\n",
    "\n",
    "def find_LDS_length(dp,    nums,    currentIndex,    previousIndex):\n",
    "    if currentIndex == len(nums):\n",
    "        return 0\n",
    "\n",
    "    if dp[currentIndex][previousIndex + 1] == -1:\n",
    "        # include nums[currentIndex] if it is smaller than the previous number\n",
    "        c1 = 0\n",
    "        if previousIndex == -1 or nums[currentIndex] < nums[previousIndex]:\n",
    "            c1 = 1 + find_LDS_length(dp, nums, currentIndex + 1, currentIndex)\n",
    "\n",
    "        # excluding the number at currentIndex\n",
    "        c2 = find_LDS_length(dp, nums, currentIndex + 1, previousIndex)\n",
    "\n",
    "        dp[currentIndex][previousIndex + 1] = max(c1, c2)\n",
    "\n",
    "    return dp[currentIndex][previousIndex + 1]\n",
    "\n",
    "# find the longest decreasing subsequence from currentIndex till the beginning of the array\n",
    "\n",
    "\n",
    "def find_LDS_length_rev(dp,    nums,    currentIndex,    previousIndex):\n",
    "    if currentIndex < 0:\n",
    "        return 0\n",
    "\n",
    "    if dp[currentIndex][previousIndex + 1] == -1:\n",
    "        # include nums[currentIndex] if it is smaller than the previous number\n",
    "        c1 = 0\n",
    "        if previousIndex == -1 or nums[currentIndex] < nums[previousIndex]:\n",
    "            c1 = 1 + find_LDS_length_rev(dp, nums,\n",
    "                                                                     currentIndex - 1, currentIndex)\n",
    "\n",
    "        # excluding the number at currentIndex\n",
    "        c2 = find_LDS_length_rev(dp, nums, currentIndex - 1, previousIndex)\n",
    "\n",
    "        dp[currentIndex][previousIndex + 1] = max(c1, c2)\n",
    "    return dp[currentIndex][previousIndex + 1]"
   ]
  },
  {
   "cell_type": "markdown",
   "metadata": {},
   "source": [
    "# Bottom Up DP - O(N ^ 2) runtime, O(N ^ 2) space"
   ]
  },
  {
   "cell_type": "code",
   "execution_count": 5,
   "metadata": {},
   "outputs": [],
   "source": [
    "def find_LBS_length(nums):\n",
    "    n = len(nums)\n",
    "    lds = [0 for _ in range(n)]\n",
    "    ldsReverse = [0 for _ in range(n)]\n",
    "\n",
    "    # find LDS for every index up to the beginning of the array\n",
    "    for i in range(n):\n",
    "        lds[i] = 1    # every element is an LDS of length 1\n",
    "        for j in range(i-1, -1, -1):\n",
    "            if nums[j] < nums[i]:\n",
    "                lds[i] = max(lds[i], lds[j] + 1)\n",
    "\n",
    "    # find LDS for every index up to the end of the array\n",
    "    for i in range(n-1, -1, -1):\n",
    "        ldsReverse[i] = 1    # every element is an LDS of length 1\n",
    "        for j in range(i+1, n):\n",
    "            if nums[j] < nums[i]:\n",
    "                ldsReverse[i] = max(ldsReverse[i], ldsReverse[j]+1)\n",
    "\n",
    "    maxLength = 0\n",
    "    for i in range(n):\n",
    "        maxLength = max(maxLength, lds[i] + ldsReverse[i]-1)\n",
    "\n",
    "    return maxLength"
   ]
  },
  {
   "cell_type": "code",
   "execution_count": 6,
   "metadata": {},
   "outputs": [
    {
     "data": {
      "text/plain": [
       "7"
      ]
     },
     "execution_count": 6,
     "metadata": {},
     "output_type": "execute_result"
    }
   ],
   "source": [
    "find_LBS_length([4, 2, 5, 9, 7, 6, 10, 3, 1])"
   ]
  }
 ],
 "metadata": {
  "kernelspec": {
   "display_name": "Python 3",
   "language": "python",
   "name": "python3"
  },
  "language_info": {
   "codemirror_mode": {
    "name": "ipython",
    "version": 3
   },
   "file_extension": ".py",
   "mimetype": "text/x-python",
   "name": "python",
   "nbconvert_exporter": "python",
   "pygments_lexer": "ipython3",
   "version": "3.7.3"
  }
 },
 "nbformat": 4,
 "nbformat_minor": 2
}

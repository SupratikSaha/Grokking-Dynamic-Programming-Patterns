{
 "cells": [
  {
   "cell_type": "markdown",
   "metadata": {},
   "source": [
    "Problem Statement <br/>\n",
    "\n",
    "Given two sequences ‘s1’ and ‘s2’, write a method to find the length of the shortest sequence which has ‘s1’ and ‘s2’ as subsequences. <br/>\n",
    "\n",
    "Example 2: <br/>\n",
    "Input: s1: \"abcf\" s2:\"bdcf\" <br/>\n",
    "Output: 5 <br/>\n",
    "Explanation: The shortest common super-sequence (SCS) is \"abdcf\". <br/>\n",
    "\n",
    "Example 2: <br/>\n",
    "Input: s1: \"dynamic\" s2:\"programming\" <br/>\n",
    "Output: 15 <br/>\n",
    "Explanation: The SCS is \"dynprogrammicng\". "
   ]
  },
  {
   "cell_type": "markdown",
   "metadata": {},
   "source": [
    "# Brute Force - O(2 ^ (M + N)) runtime, O(M + N) space"
   ]
  },
  {
   "cell_type": "code",
   "execution_count": 18,
   "metadata": {},
   "outputs": [],
   "source": [
    "def find_SCS_length(s1, s2):\n",
    "    return find_SCS_length_recursive(s1, s2, 0, 0)\n",
    "\n",
    "def find_SCS_length_recursive(s1, s2, i1, i2):\n",
    "    n1, n2 = len(s1), len(s2)\n",
    "    # if we have reached the end of a string, return the remaining length of the\n",
    "    # other string, as in this case we have to take all of the remaining other string\n",
    "    if i1 == n1:\n",
    "        return n2 - i2\n",
    "    if i2 == n2:\n",
    "        return n1 - i1\n",
    "    \n",
    "    if s1[i1] == s2[i2]:\n",
    "        return 1 + find_SCS_length_recursive(s1, s2, i1 + 1, i2 + 1)\n",
    "    \n",
    "    len1 = 1 + find_SCS_length_recursive(s1, s2, i1 + 1, i2)\n",
    "    len2 = 1 + find_SCS_length_recursive(s1, s2, i1, i2 + 1)\n",
    "    \n",
    "    return min(len1, len2)"
   ]
  },
  {
   "cell_type": "markdown",
   "metadata": {},
   "source": [
    "# Top Down DP - O(M * N) runtime, O(M * N) space"
   ]
  },
  {
   "cell_type": "code",
   "execution_count": 24,
   "metadata": {},
   "outputs": [],
   "source": [
    "def find_SCS_length(s1, s2):\n",
    "    dp = [[-1 for _ in range(len(s2))] for _ in range(len(s1))]\n",
    "    return find_SCS_length_recursive(dp, s1, s2, 0, 0)\n",
    "\n",
    "def find_SCS_length_recursive(dp, s1, s2, i1, i2):\n",
    "    n1, n2 = len(s1), len(s2)\n",
    "    # if we have reached the end of a string, return the remaining length of the\n",
    "    # other string, as in this case we have to take all of the remaining other string\n",
    "    if i1 == n1:\n",
    "        return n2 - i2\n",
    "    if i2 == n2:\n",
    "        return n1 - i1\n",
    "    \n",
    "    if dp[i1][i2] == -1:\n",
    "        if s1[i1] == s2[i2]:\n",
    "            dp[i1][i2] = 1 + find_SCS_length_recursive(dp, s1, s2, i1 + 1, i2 + 1)\n",
    "        else:\n",
    "            len1 = 1 + find_SCS_length_recursive(dp, s1, s2, i1 + 1, i2)\n",
    "            len2 = 1 + find_SCS_length_recursive(dp, s1, s2, i1, i2 + 1)\n",
    "\n",
    "            dp[i1][i2] = min(len1, len2)\n",
    "        \n",
    "    return dp[i1][i2]"
   ]
  },
  {
   "cell_type": "markdown",
   "metadata": {},
   "source": [
    "# Bottom Up DP - O(M * N) runtime, O(M * N) space"
   ]
  },
  {
   "cell_type": "code",
   "execution_count": 37,
   "metadata": {},
   "outputs": [],
   "source": [
    "def find_SCS_length(s1, s2):\n",
    "    n1, n2 = len(s1), len(s2)\n",
    "    dp = [[0 for _ in range(n2 + 1)] for _ in range(n1 + 1)]\n",
    "    \n",
    "    for i1 in range(n1 + 1):\n",
    "        dp[i1][0] = i1\n",
    "        \n",
    "    for i2 in range(n2 + 1):\n",
    "        dp[0][i2] = i2\n",
    "        \n",
    "    for i1 in range(1, n1 + 1):\n",
    "        for i2 in range(1, n2 + 1):\n",
    "            if s1[i1 - 1] == s2[i2 - 1]:\n",
    "                dp[i1][i2] = 1 + dp[i1 - 1][i2 - 1]\n",
    "            else:\n",
    "                dp[i1][i2] = 1 + min(dp[i1][i2 - 1], dp[i1 - 1][i2])\n",
    "        \n",
    "    return dp[n1][n2]"
   ]
  },
  {
   "cell_type": "code",
   "execution_count": 38,
   "metadata": {},
   "outputs": [
    {
     "data": {
      "text/plain": [
       "15"
      ]
     },
     "execution_count": 38,
     "metadata": {},
     "output_type": "execute_result"
    }
   ],
   "source": [
    "find_SCS_length(\"dynamic\", \"programming\")"
   ]
  }
 ],
 "metadata": {
  "kernelspec": {
   "display_name": "Python 3",
   "language": "python",
   "name": "python3"
  },
  "language_info": {
   "codemirror_mode": {
    "name": "ipython",
    "version": 3
   },
   "file_extension": ".py",
   "mimetype": "text/x-python",
   "name": "python",
   "nbconvert_exporter": "python",
   "pygments_lexer": "ipython3",
   "version": "3.7.3"
  }
 },
 "nbformat": 4,
 "nbformat_minor": 2
}

{
 "cells": [
  {
   "cell_type": "markdown",
   "metadata": {},
   "source": [
    "Problem Statement <br/>\n",
    "\n",
    "Given a number sequence, find the minimum number of elements that should be deleted to make the remaining sequence sorted. <br/>\n",
    "\n",
    "Example 1: <br/>\n",
    "Input: {4,2,3,6,10,1,12} <br/>\n",
    "Output: 2 <br/>\n",
    "Explanation: We need to delete {4,1} to make the remaing sequence sorted {2,3,6,10,12}. <br/>\n",
    "\n",
    "Example 2: <br/>\n",
    "Input: {-4,10,3,7,15} <br/>\n",
    "Output: 1 <br/>\n",
    "Explanation: We need to delete {10} to make the remaing sequence sorted {-4,3,7,15}. <br/>\n",
    "\n",
    "Example 3: <br/>\n",
    "Input: {3,2,1,0} <br/>\n",
    "Output: 3 <br/>\n",
    "Explanation: Since the elements are in reverse order, we have to delete all except one to get a \n",
    "sorted sequence. Sorted sequences are {3}, {2}, {1}, and {0}"
   ]
  },
  {
   "cell_type": "markdown",
   "metadata": {},
   "source": [
    "# Brute Force - O(2 ^ N) runtime, O(N) space"
   ]
  },
  {
   "cell_type": "code",
   "execution_count": 13,
   "metadata": {},
   "outputs": [],
   "source": [
    "def find_minimum_deletions(nums):\n",
    "    return find_minimum_deletions_recursive(nums, 0, -1)\n",
    "    \n",
    "def find_minimum_deletions_recursive(nums, currIndex, prevIndex):\n",
    "    if currIndex == len(nums):\n",
    "        return 0\n",
    "    \n",
    "    count1 = float('inf')\n",
    "    if prevIndex == -1 or nums[prevIndex] <= nums[currIndex]:\n",
    "        count1 =  find_minimum_deletions_recursive(nums, currIndex + 1, currIndex)\n",
    "    \n",
    "    count2 = 1 + find_minimum_deletions_recursive(nums, currIndex + 1,  prevIndex)\n",
    "    \n",
    "    return min(count1, count2)"
   ]
  },
  {
   "cell_type": "markdown",
   "metadata": {},
   "source": [
    "# Top Down DP - O(N ^ 2) runtime, O(N ^ 2) space"
   ]
  },
  {
   "cell_type": "code",
   "execution_count": 20,
   "metadata": {},
   "outputs": [],
   "source": [
    "def find_minimum_deletions(nums):\n",
    "    n = len(nums)\n",
    "    dp = [[-1 for _ in range(n + 1)] for _ in range(n)]\n",
    "    return find_minimum_deletions_recursive(dp, nums, 0, -1)\n",
    "    \n",
    "def find_minimum_deletions_recursive(dp, nums, currIndex, prevIndex):\n",
    "    if currIndex == len(nums):\n",
    "        return 0\n",
    "    \n",
    "    if dp[currIndex][prevIndex] == -1:\n",
    "        count1 = float('inf')\n",
    "        if prevIndex == -1 or nums[prevIndex] <= nums[currIndex]:\n",
    "            count1 =  find_minimum_deletions_recursive(dp, nums, currIndex + 1, currIndex)\n",
    "\n",
    "        count2 = 1 + find_minimum_deletions_recursive(dp, nums, currIndex + 1,  prevIndex)\n",
    "\n",
    "        dp[currIndex][prevIndex] = min(count1, count2)\n",
    "    \n",
    "    return dp[currIndex][prevIndex]"
   ]
  },
  {
   "cell_type": "markdown",
   "metadata": {},
   "source": [
    "# Bottom Up DP - O(N ^ 2) runtime, O(N) space"
   ]
  },
  {
   "cell_type": "code",
   "execution_count": 42,
   "metadata": {},
   "outputs": [],
   "source": [
    "def find_minimum_deletions(nums):\n",
    "    # subtracting the length of LIS from the length of the input array to get minimum number of deletions\n",
    "    return len(nums) - find_LIS_length(nums)\n",
    "\n",
    "\n",
    "def find_LIS_length(nums):\n",
    "    n = len(nums)\n",
    "    dp = [0 for _ in range(n)]\n",
    "    dp[0] = 1\n",
    "\n",
    "    maxLength = 1\n",
    "    for i in range(1, n):\n",
    "        dp[i] = 1\n",
    "        for j in range(i):\n",
    "            if nums[i] > nums[j] and dp[i] <= dp[j]:\n",
    "                dp[i] = dp[j] + 1\n",
    "                maxLength = max(maxLength, dp[i])\n",
    "\n",
    "    return maxLength"
   ]
  },
  {
   "cell_type": "code",
   "execution_count": 44,
   "metadata": {},
   "outputs": [
    {
     "data": {
      "text/plain": [
       "2"
      ]
     },
     "execution_count": 44,
     "metadata": {},
     "output_type": "execute_result"
    }
   ],
   "source": [
    "find_minimum_deletions([4,2,3,6,10,1,12])"
   ]
  }
 ],
 "metadata": {
  "kernelspec": {
   "display_name": "Python 3",
   "language": "python",
   "name": "python3"
  },
  "language_info": {
   "codemirror_mode": {
    "name": "ipython",
    "version": 3
   },
   "file_extension": ".py",
   "mimetype": "text/x-python",
   "name": "python",
   "nbconvert_exporter": "python",
   "pygments_lexer": "ipython3",
   "version": "3.7.3"
  }
 },
 "nbformat": 4,
 "nbformat_minor": 2
}

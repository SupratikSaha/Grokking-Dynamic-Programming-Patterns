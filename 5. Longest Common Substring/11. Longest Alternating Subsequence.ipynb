{
 "cells": [
  {
   "cell_type": "markdown",
   "metadata": {},
   "source": [
    "Problem Statement <br/>\n",
    "\n",
    "Given a number sequence, find the length of its Longest Alternating Subsequence (LAS). A subsequence is considered alternating if its elements are in alternating order. <br/>\n",
    "\n",
    "A three element sequence (a1, a2, a3) will be an alternating sequence if its elements hold one of the following conditions: <br/>\n",
    "\n",
    "{a1 > a2 < a3 } or { a1 < a2 > a3}. <br/>\n",
    "\n",
    "Example 1: <br/>\n",
    "Input: {1,2,3,4} <br/>\n",
    "Output: 2 <br/>\n",
    "Explanation: There are many LAS: {1,2}, {3,4}, {1,3}, {1,4} <br/>\n",
    "\n",
    "Example 2: <br/>\n",
    "Input: {3,2,1,4} <br/>\n",
    "Output: 3 <br/>\n",
    "Explanation: The LAS are {3,2,4} and {2,1,4}. <br/>\n",
    "\n",
    "Example 3: <br/>\n",
    "Input: {1,3,2,4} <br/>\n",
    "Output: 4 <br/>\n",
    "Explanation: The LAS is {1,3,2,4}."
   ]
  },
  {
   "cell_type": "markdown",
   "metadata": {},
   "source": [
    "# Brute Force - O(2 ^ N) runtime, O(N) space"
   ]
  },
  {
   "cell_type": "code",
   "execution_count": 4,
   "metadata": {},
   "outputs": [],
   "source": [
    "def find_LAS_length(nums):\n",
    "    return find_LAS_length_recursive(nums, 0, -1, 1)\n",
    "\n",
    "def find_LAS_length_recursive(nums, currIndex, prevIndex, direction):\n",
    "    if currIndex == len(nums):\n",
    "        return 0\n",
    "    \n",
    "    c1, c2 = 0, 0\n",
    "    if prevIndex == -1 or (nums[currIndex] > nums[prevIndex] and direction == -1):\n",
    "        c1 = 1 + find_LAS_length_recursive(nums, currIndex + 1, currIndex, 1)\n",
    "    elif (nums[currIndex] < nums[prevIndex] and direction == -1):\n",
    "        c1 = find_LAS_length_recursive(nums, currIndex + 1, prevIndex, -1)\n",
    "        \n",
    "    if prevIndex == -1 or (nums[currIndex] < nums[prevIndex] and direction == 1):\n",
    "        c2 = 1 + find_LAS_length_recursive(nums, currIndex + 1, currIndex, -1)\n",
    "    elif nums[currIndex] > nums[prevIndex] and direction == 1:\n",
    "        c2 = find_LAS_length_recursive(nums, currIndex + 1, prevIndex, 1)\n",
    "        \n",
    "    return max(c1, c2)"
   ]
  },
  {
   "cell_type": "markdown",
   "metadata": {},
   "source": [
    "# Top Down DP - O(N ^ 2) runtime, O(N ^ 2) space"
   ]
  },
  {
   "cell_type": "code",
   "execution_count": 12,
   "metadata": {},
   "outputs": [],
   "source": [
    "def find_LAS_length(nums):\n",
    "    n = len(nums)\n",
    "    dp = [[[-1 for _ in range(n + 1)] for _ in range(n)] for _ in range(2)]\n",
    "    return find_LAS_length_recursive(dp, nums, 0, -1, 1)\n",
    "\n",
    "def find_LAS_length_recursive(dp, nums, currIndex, prevIndex, direction):\n",
    "    if currIndex == len(nums):\n",
    "        return 0\n",
    "    \n",
    "    if dp[direction][currIndex][prevIndex + 1] == -1:\n",
    "        c1, c2 = 0, 0\n",
    "        if prevIndex == -1 or (nums[currIndex] > nums[prevIndex] and direction == 0):\n",
    "            c1 = 1 + find_LAS_length_recursive(dp, nums, currIndex + 1, currIndex, 1)\n",
    "        elif (nums[currIndex] < nums[prevIndex] and direction == 0):\n",
    "            c1 = find_LAS_length_recursive(dp, nums, currIndex + 1, prevIndex, 0)\n",
    "\n",
    "        if prevIndex == -1 or (nums[currIndex] < nums[prevIndex] and direction == 1):\n",
    "            c2 = 1 + find_LAS_length_recursive(dp, nums, currIndex + 1, currIndex, 0)\n",
    "        elif nums[currIndex] > nums[prevIndex] and direction == 1:\n",
    "            c2 = find_LAS_length_recursive(dp, nums, currIndex + 1, prevIndex, 1)\n",
    "\n",
    "        dp[direction][currIndex][prevIndex + 1] = max(c1, c2)\n",
    "        \n",
    "    return dp[direction][currIndex][prevIndex + 1]"
   ]
  },
  {
   "cell_type": "markdown",
   "metadata": {},
   "source": [
    "# Bottom Up DP - O(N ^ 2) runtime, O(N) space"
   ]
  },
  {
   "cell_type": "code",
   "execution_count": 24,
   "metadata": {},
   "outputs": [],
   "source": [
    "def find_LAS_length(nums):\n",
    "    n = len(nums)\n",
    "    if n == 0:\n",
    "        return 0\n",
    "    # dp[i][0] = stores the LAS ending at 'i' such that the last two elements are in ascending order\n",
    "    # dp[i][1] = stores the LAS ending at 'i' such that the last two elements are in descending order\n",
    "    dp = [[0 for _ in range(2)] for _ in range(n)]\n",
    "    maxLength = 1\n",
    "    for i in range(n):\n",
    "        # every single element can be considered as LAS of length 1\n",
    "        dp[i][0] = dp[i][1] = 1\n",
    "        for j in range(i):\n",
    "            if nums[i] > nums[j]:\n",
    "                # if nums[i] is BIGGER than nums[j] then we will consider the LAS ending at 'j' where the\n",
    "                # last two elements were in DESCENDING order\n",
    "                dp[i][0] = max(dp[i][0], 1 + dp[j][1])\n",
    "                maxLength = max(maxLength, dp[i][0])\n",
    "            elif nums[i] != nums[j]:    # if the numbers are equal don't do anything\n",
    "                # if nums[i] is SMALLER than nums[j] then we will consider the LAS ending at\n",
    "                # 'j' where the last two elements were in ASCENDING order\n",
    "                dp[i][1] = max(dp[i][1], 1 + dp[j][0])\n",
    "                maxLength = max(maxLength, dp[i][1])\n",
    "    return maxLength"
   ]
  },
  {
   "cell_type": "code",
   "execution_count": 23,
   "metadata": {},
   "outputs": [
    {
     "data": {
      "text/plain": [
       "3"
      ]
     },
     "execution_count": 23,
     "metadata": {},
     "output_type": "execute_result"
    }
   ],
   "source": [
    "find_LAS_length([1,3,2,4])"
   ]
  }
 ],
 "metadata": {
  "kernelspec": {
   "display_name": "Python 3",
   "language": "python",
   "name": "python3"
  },
  "language_info": {
   "codemirror_mode": {
    "name": "ipython",
    "version": 3
   },
   "file_extension": ".py",
   "mimetype": "text/x-python",
   "name": "python",
   "nbconvert_exporter": "python",
   "pygments_lexer": "ipython3",
   "version": "3.7.3"
  }
 },
 "nbformat": 4,
 "nbformat_minor": 2
}

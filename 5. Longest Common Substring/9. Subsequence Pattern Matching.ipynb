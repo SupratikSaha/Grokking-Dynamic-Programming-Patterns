{
 "cells": [
  {
   "cell_type": "markdown",
   "metadata": {},
   "source": [
    "Problem Statement <br/>\n",
    "\n",
    "Given a string and a pattern, write a method to count the number of times the pattern appears in the string as a subsequence. <br/>\n",
    "\n",
    "Example 1: Input: string: “baxmx”, pattern: “ax” <br/>\n",
    "Output: 2 <br/>\n",
    "Explanation: {baxmx, baxmx}. <br/>\n",
    "\n",
    "Example 2: <br/>\n",
    "Input: string: “tomorrow”, pattern: “tor” <br/>\n",
    "Output: 4 <br/>\n",
    "Explanation: Following are the four occurences: {tomorrow, tomorrow, tomorrow, tomorrow}."
   ]
  },
  {
   "cell_type": "markdown",
   "metadata": {},
   "source": [
    "# Brute Force - O(2 ^ (M + N)) runtime, O(M + N) space"
   ]
  },
  {
   "cell_type": "code",
   "execution_count": 2,
   "metadata": {},
   "outputs": [],
   "source": [
    "def find_SPM_count(str, pat):\n",
    "    return find_SPM_count_recursive(str, pat, 0, 0)\n",
    "\n",
    "def find_SPM_count_recursive(str,    pat,    strIndex,    patIndex):\n",
    "\n",
    "    # if we have reached the end of the pattern\n",
    "    if patIndex == len(pat):\n",
    "        return 1\n",
    "\n",
    "    # if we have reached the end of the string but pattern has still some characters left\n",
    "    if strIndex == len(str):\n",
    "        return 0\n",
    "\n",
    "    c1 = 0\n",
    "    if str[strIndex] == pat[patIndex]:\n",
    "        c1 = find_SPM_count_recursive(str, pat, strIndex + 1, patIndex + 1)\n",
    "\n",
    "    c2 = find_SPM_count_recursive(str, pat, strIndex + 1, patIndex)\n",
    "\n",
    "    return c1 + c2"
   ]
  },
  {
   "cell_type": "markdown",
   "metadata": {},
   "source": [
    "# Top Down Dp - O(M * N) runtime, O(M * N) space"
   ]
  },
  {
   "cell_type": "code",
   "execution_count": 4,
   "metadata": {},
   "outputs": [],
   "source": [
    "def find_SPM_count(str, pat):\n",
    "    dp = [[-1 for _ in range(len(pat))] for _ in range(len(str))]\n",
    "    return find_SPM_count_recursive(dp, str, pat, 0, 0)\n",
    "\n",
    "\n",
    "def find_SPM_count_recursive(dp, str, pat, strIndex, patIndex):\n",
    "\n",
    "    # if we have reached the end of the pattern\n",
    "    if patIndex == len(pat):\n",
    "        return 1\n",
    "\n",
    "    # if we have reached the end of the string but pattern has still some characters left\n",
    "    if strIndex == len(str):\n",
    "        return 0\n",
    "\n",
    "    if dp[strIndex][patIndex] == -1:\n",
    "        c1 = 0\n",
    "        if str[strIndex] == pat[patIndex]:\n",
    "            c1 = find_SPM_count_recursive(\n",
    "                dp, str, pat, strIndex + 1, patIndex + 1)\n",
    "        c2 = find_SPM_count_recursive(dp, str, pat, strIndex + 1, patIndex)\n",
    "        dp[strIndex][patIndex] = c1 + c2\n",
    "\n",
    "    return dp[strIndex][patIndex]"
   ]
  },
  {
   "cell_type": "markdown",
   "metadata": {},
   "source": [
    "# Bottom Up DP - O(M * N) runtime, O(M * N) space"
   ]
  },
  {
   "cell_type": "code",
   "execution_count": 25,
   "metadata": {},
   "outputs": [],
   "source": [
    "def find_SPM_count(str, pat):\n",
    "    m, n = len(str), len(pat)\n",
    "    \n",
    "    # every empty pattern has one match\n",
    "    if patLen == 0:\n",
    "        return 1\n",
    "\n",
    "    if strLen == 0 or patLen > strLen:\n",
    "        return 0\n",
    "    \n",
    "    dp = [[0 for _ in range(n + 1)] for _ in range(m + 1)]\n",
    "    \n",
    "    for strIndex in range(m + 1):\n",
    "        dp[strIndex][0] = 1\n",
    "\n",
    "    for strIndex in range(1, m + 1):\n",
    "        for patIndex in range(1, n + 1):\n",
    "            if str[strIndex - 1] == pat[patIndex - 1]:\n",
    "                dp[strIndex][patIndex] = dp[strIndex - 1][patIndex - 1]\n",
    "            dp[strIndex][patIndex] += dp[strIndex - 1][patIndex]\n",
    "\n",
    "    return dp[m][n]"
   ]
  },
  {
   "cell_type": "code",
   "execution_count": 27,
   "metadata": {},
   "outputs": [
    {
     "data": {
      "text/plain": [
       "4"
      ]
     },
     "execution_count": 27,
     "metadata": {},
     "output_type": "execute_result"
    }
   ],
   "source": [
    "find_SPM_count(\"tomorrow\", \"tor\")"
   ]
  }
 ],
 "metadata": {
  "kernelspec": {
   "display_name": "Python 3",
   "language": "python",
   "name": "python3"
  },
  "language_info": {
   "codemirror_mode": {
    "name": "ipython",
    "version": 3
   },
   "file_extension": ".py",
   "mimetype": "text/x-python",
   "name": "python",
   "nbconvert_exporter": "python",
   "pygments_lexer": "ipython3",
   "version": "3.7.3"
  }
 },
 "nbformat": 4,
 "nbformat_minor": 2
}

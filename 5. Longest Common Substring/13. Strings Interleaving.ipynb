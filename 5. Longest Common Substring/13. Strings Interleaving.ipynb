{
 "cells": [
  {
   "cell_type": "markdown",
   "metadata": {},
   "source": [
    "Problem Statement <br/>\n",
    "\n",
    "Give three strings ‘m’, ‘n’, and ‘p’, write a method to find out if ‘p’ has been formed by interleaving ‘m’ and ‘n’. ‘p’ would be considered interleaving ‘m’ and ‘n’ if it contains all the letters from ‘m’ and ‘n’ and the order of letters is preserved too. <br/>\n",
    "\n",
    "Example 1: <br/>\n",
    "Input: m=\"abd\", n=\"cef\", p=\"abcdef\" <br/>\n",
    "Output: true <br/>\n",
    "Explanation: 'p' contains all the letters from 'm' and 'n' and preserves their order too. <br/> \n",
    "\n",
    "Example 2: <br/>\n",
    "Input: m=\"abd\", n=\"cef\", p=\"adcbef\" <br/>\n",
    "Output: false <br/>\n",
    "Explanation: 'p' contains all the letters from 'm' and 'n' but does not preserve the order. <br/>\n",
    "\n",
    "Example 3: <br/>\n",
    "Input: m=\"abc\", n=\"def\", p=\"abdccf\" <br/>\n",
    "Output: false <br/>\n",
    "Explanation: 'p' does not contain all the letters from 'm' and 'n'. <br/>\n",
    "\n",
    "Example 4: <br/>\n",
    "Input: m=\"abcdef\", n=\"mnop\", p=\"mnaobcdepf\" <br/>\n",
    "Output: true <br/>\n",
    "Explanation: 'p' contains all the letters from 'm' and 'n' and preserves their order too. "
   ]
  },
  {
   "cell_type": "markdown",
   "metadata": {},
   "source": [
    "# Brute Force - O(2 ^ (M + N)) runtime, O(M + N) space"
   ]
  },
  {
   "cell_type": "code",
   "execution_count": 20,
   "metadata": {},
   "outputs": [],
   "source": [
    "def find_SI(m, n, p):\n",
    "    return find_SI_recursive(m, n, p, 0, 0)\n",
    "\n",
    "def find_SI_recursive(m, n, p, i1, i2):\n",
    "    currIndex = i1 + i2\n",
    "    if currIndex == len(p) and i1 == len(m) and i2 == len(n):\n",
    "        return True\n",
    "    if currIndex == len(p):\n",
    "        return False\n",
    "    \n",
    "    b1, b2 = False, False\n",
    "    if i1 < len(m) and p[currIndex] == m[i1]:\n",
    "        b1 = find_SI_recursive(m, n, p, i1 + 1, i2)\n",
    "    elif i2 < len(n) and p[currIndex] == n[i2]:\n",
    "        b2 = find_SI_recursive(m, n, p, i1, i2 + 1)\n",
    "    \n",
    "    return b1 or b2"
   ]
  },
  {
   "cell_type": "markdown",
   "metadata": {},
   "source": [
    "# Top Down DP - O(M * N) runtime, O(M * N) space"
   ]
  },
  {
   "cell_type": "code",
   "execution_count": 26,
   "metadata": {},
   "outputs": [],
   "source": [
    "def find_SI(m, n, p):\n",
    "    dp = [[None for _ in range(len(n) + 1)] for _ in range(len(m) + 1)]\n",
    "    return find_SI_recursive(dp, m, n, p, 0, 0)\n",
    "\n",
    "def find_SI_recursive(dp, m, n, p, i1, i2):\n",
    "    currIndex = i1 + i2\n",
    "    if currIndex == len(p) and i1 == len(m) and i2 == len(n):\n",
    "        return True\n",
    "    if currIndex == len(p):\n",
    "        return False\n",
    "    \n",
    "    if dp[i1][i2] is None:\n",
    "        b1, b2 = False, False\n",
    "        if i1 < len(m) and p[currIndex] == m[i1]:\n",
    "            b1 = find_SI_recursive(dp, m, n, p, i1 + 1, i2)\n",
    "        elif i2 < len(n) and p[currIndex] == n[i2]:\n",
    "            b2 = find_SI_recursive(dp, m, n, p, i1, i2 + 1)\n",
    "    \n",
    "        dp[i1][i2] = b1 or b2\n",
    "        \n",
    "    return dp[i1][i2]"
   ]
  },
  {
   "cell_type": "markdown",
   "metadata": {},
   "source": [
    "# Bottom Up DP - O(M * N) runtime, O(M * N) space"
   ]
  },
  {
   "cell_type": "code",
   "execution_count": 39,
   "metadata": {},
   "outputs": [],
   "source": [
    "def find_SI(m, n, p):\n",
    "    mLen, nLen, pLen = len(m), len(n), len(p)\n",
    "    # dp[mIndex][nIndex] will be storing the result of string interleaving\n",
    "    # up to p[0..mIndex+nIndex-1]\n",
    "    dp = [[False for _ in range(nLen+1)] for _ in range(mLen+1)]\n",
    "\n",
    "    # make sure if lengths of the strings add up\n",
    "    if mLen + nLen != pLen:\n",
    "        return False\n",
    "\n",
    "    for mIndex in range(mLen+1):\n",
    "        for nIndex in range(nLen+1):\n",
    "            # if 'm' and 'n' are empty, then 'p' must have been empty too.\n",
    "            if mIndex == 0 and nIndex == 0:\n",
    "                dp[mIndex][nIndex] = True\n",
    "            # if 'm' is empty, we need to check the interleaving with 'n' only\n",
    "            elif mIndex == 0 and n[nIndex - 1] == p[mIndex + nIndex - 1]:\n",
    "                dp[mIndex][nIndex] = dp[mIndex][nIndex - 1]\n",
    "            # if 'n' is empty, we need to check the interleaving with 'm' only\n",
    "            elif nIndex == 0 and m[mIndex - 1] == p[mIndex + nIndex - 1]:\n",
    "                dp[mIndex][nIndex] = dp[mIndex - 1][nIndex]\n",
    "            else:\n",
    "                # if the letter of 'm' and 'p' match, we take whatever is matched till mIndex-1\n",
    "                if mIndex > 0 and m[mIndex - 1] == p[mIndex + nIndex - 1]:\n",
    "                    dp[mIndex][nIndex] = dp[mIndex - 1][nIndex]\n",
    "                # if the letter of 'n' and 'p' match, we take whatever is matched till nIndex-1 too\n",
    "                # note the '|=', this is required when we have common letters\n",
    "                if nIndex > 0 and n[nIndex - 1] == p[mIndex + nIndex - 1]:\n",
    "                    dp[mIndex][nIndex] |= dp[mIndex][nIndex - 1]\n",
    "\n",
    "    return dp[mLen][nLen]"
   ]
  },
  {
   "cell_type": "code",
   "execution_count": 40,
   "metadata": {},
   "outputs": [
    {
     "data": {
      "text/plain": [
       "True"
      ]
     },
     "execution_count": 40,
     "metadata": {},
     "output_type": "execute_result"
    }
   ],
   "source": [
    "find_SI(\"abcdef\", \"mnop\", \"mnaobcdepf\")"
   ]
  }
 ],
 "metadata": {
  "kernelspec": {
   "display_name": "Python 3",
   "language": "python",
   "name": "python3"
  },
  "language_info": {
   "codemirror_mode": {
    "name": "ipython",
    "version": 3
   },
   "file_extension": ".py",
   "mimetype": "text/x-python",
   "name": "python",
   "nbconvert_exporter": "python",
   "pygments_lexer": "ipython3",
   "version": "3.7.3"
  }
 },
 "nbformat": 4,
 "nbformat_minor": 2
}

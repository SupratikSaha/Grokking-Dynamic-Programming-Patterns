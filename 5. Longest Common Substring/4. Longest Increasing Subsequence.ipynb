{
 "cells": [
  {
   "cell_type": "markdown",
   "metadata": {},
   "source": [
    "Problem Statement <br/>\n",
    "\n",
    "Given a number sequence, find the length of its Longest Increasing Subsequence (LIS). In an increasing subsequence, all the elements are in increasing order (from lowest to highest). <br/>\n",
    "\n",
    "Example 1: <br/>\n",
    "Input: {4,2,3,6,10,1,12} <br/>\n",
    "Output: 5 <br/>\n",
    "Explanation: The LIS is {2,3,6,10,12}. <br/>\n",
    "\n",
    "Example 1: <br/>\n",
    "Input: {-4,10,3,7,15} <br/>\n",
    "Output: 4 <br/>\n",
    "Explanation: The LIS is {-4,3,7,15}."
   ]
  },
  {
   "cell_type": "markdown",
   "metadata": {},
   "source": [
    "# Brute Force - O(2 ^N) runtime, O(N) space, where N is length of the input array"
   ]
  },
  {
   "cell_type": "code",
   "execution_count": 21,
   "metadata": {},
   "outputs": [],
   "source": [
    "def find_LIS_length(nums):\n",
    "    return find_LIS_length_recursive(nums, 0, -1)\n",
    "\n",
    "\n",
    "def find_LIS_length_recursive(nums, currentIndex,    previousIndex):\n",
    "    if currentIndex == len(nums):\n",
    "        return 0\n",
    "\n",
    "    # include nums[currentIndex] if it is larger than the last included number\n",
    "    c1 = 0\n",
    "    if previousIndex == -1 or nums[currentIndex] > nums[previousIndex]:\n",
    "        c1 = 1 + \\\n",
    "                 find_LIS_length_recursive(nums, currentIndex + 1, currentIndex)\n",
    "\n",
    "    # excluding the number at currentIndex\n",
    "    c2 = find_LIS_length_recursive(nums, currentIndex + 1, previousIndex)\n",
    "\n",
    "    return max(c1, c2)"
   ]
  },
  {
   "cell_type": "markdown",
   "metadata": {},
   "source": [
    "# Top Down Recursion - O(N ^ 2) runtime, O(N ^ 2) space"
   ]
  },
  {
   "cell_type": "code",
   "execution_count": 22,
   "metadata": {},
   "outputs": [],
   "source": [
    "def find_LIS_length(nums):\n",
    "    n = len(nums)\n",
    "    dp = [[-1 for _ in range(n+1)] for _ in range(n)]\n",
    "    return find_LIS_length_recursive(dp, nums, 0, -1)\n",
    "\n",
    "\n",
    "def find_LIS_length_recursive(dp, nums, currentIndex, previousIndex):\n",
    "    if currentIndex == len(nums):\n",
    "        return 0\n",
    "\n",
    "    if dp[currentIndex][previousIndex + 1] == -1:\n",
    "        # include nums[currentIndex] if it is larger than the last included number\n",
    "        c1 = 0\n",
    "        if previousIndex == -1 or nums[currentIndex] > nums[previousIndex]:\n",
    "            c1 = 1 + find_LIS_length_recursive(dp, nums, currentIndex + 1, currentIndex)\n",
    "\n",
    "        c2 = find_LIS_length_recursive(\n",
    "            dp, nums, currentIndex + 1, previousIndex)\n",
    "        dp[currentIndex][previousIndex + 1] = max(c1, c2)\n",
    "\n",
    "    return dp[currentIndex][previousIndex + 1]"
   ]
  },
  {
   "cell_type": "markdown",
   "metadata": {},
   "source": [
    "# Bottom Up Recursion - O(M * N) runtime, O(N) space"
   ]
  },
  {
   "cell_type": "code",
   "execution_count": 23,
   "metadata": {},
   "outputs": [],
   "source": [
    "def find_LIS_length(nums):\n",
    "    n = len(nums)\n",
    "    dp = [0 for _ in range(n)]\n",
    "    dp[0] = 1\n",
    "\n",
    "    maxLength = 1\n",
    "    for i in range(1, n):\n",
    "        dp[i] = 1\n",
    "        for j in range(i):\n",
    "            if nums[i] > nums[j] and dp[i] <= dp[j]:\n",
    "                dp[i] = dp[j] + 1\n",
    "                maxLength = max(maxLength, dp[i])\n",
    "\n",
    "    return maxLength"
   ]
  },
  {
   "cell_type": "code",
   "execution_count": 24,
   "metadata": {},
   "outputs": [
    {
     "data": {
      "text/plain": [
       "4"
      ]
     },
     "execution_count": 24,
     "metadata": {},
     "output_type": "execute_result"
    }
   ],
   "source": [
    "find_LIS_length([-4,10,3,7,15])"
   ]
  }
 ],
 "metadata": {
  "kernelspec": {
   "display_name": "Python 3",
   "language": "python",
   "name": "python3"
  },
  "language_info": {
   "codemirror_mode": {
    "name": "ipython",
    "version": 3
   },
   "file_extension": ".py",
   "mimetype": "text/x-python",
   "name": "python",
   "nbconvert_exporter": "python",
   "pygments_lexer": "ipython3",
   "version": "3.7.3"
  }
 },
 "nbformat": 4,
 "nbformat_minor": 2
}

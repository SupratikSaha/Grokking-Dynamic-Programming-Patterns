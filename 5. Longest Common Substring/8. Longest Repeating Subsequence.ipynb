{
 "cells": [
  {
   "cell_type": "markdown",
   "metadata": {},
   "source": [
    "Problem Statement <br/>\n",
    "\n",
    "Given a sequence, find the length of its longest repeating subsequence (LRS). A repeating subsequence will be the one that appears at least twice in the original sequence and is not overlapping (i.e. none of the corresponding characters in the repeating subsequences have the same index). <br/>\n",
    "\n",
    "Example 1: <br/>\n",
    "Input: “t o m o r r o w” <br/>\n",
    "Output: 2 <br/>\n",
    "Explanation: The longest repeating subsequence is “or” {tomorrow}. <br/>\n",
    "\n",
    "Example 2: <br/>\n",
    "Input: “a a b d b c e c” <br/>\n",
    "Output: 3 <br/>\n",
    "Explanation: The longest repeating subsequence is “a b c” {a a b d b c e c}. <br/>\n",
    "\n",
    "Example 3: <br/>\n",
    "Input: “f m f f” <br/>\n",
    "Output: 2 <br/>\n",
    "Explanation: The longest repeating subsequence is “f f” {f m f f, f m f f}. Please note the second last character is shared in LRS."
   ]
  },
  {
   "cell_type": "markdown",
   "metadata": {},
   "source": [
    "# Brute Force - O(2 ^ N) runtime, O(N) space"
   ]
  },
  {
   "cell_type": "code",
   "execution_count": 1,
   "metadata": {},
   "outputs": [],
   "source": [
    "def find_LRS_length(str):\n",
    "    return find_LRS_length_recursive(str, 0, 0)\n",
    "\n",
    "\n",
    "def find_LRS_length_recursive(str, i1, i2):\n",
    "    if i1 == len(str) or i2 == len(str):\n",
    "        return 0\n",
    "\n",
    "    if i1 != i2 and str[i1] == str[i2]:\n",
    "        return 1 + find_LRS_length_recursive(str, i1 + 1, i2 + 1)\n",
    "\n",
    "    c1 = find_LRS_length_recursive(str, i1, i2 + 1)\n",
    "    c2 = find_LRS_length_recursive(str, i1 + 1, i2)\n",
    "\n",
    "    return max(c1, c2)"
   ]
  },
  {
   "cell_type": "markdown",
   "metadata": {},
   "source": [
    "# Top Down DP - O(N ^ 2) runtime, O(N ^ 2) space"
   ]
  },
  {
   "cell_type": "code",
   "execution_count": 21,
   "metadata": {},
   "outputs": [],
   "source": [
    "def find_LRS_length(str):\n",
    "    n = len(str)\n",
    "    dp = [[-1 for _ in range(n)] for _ in range(n)]\n",
    "    return find_LRS_length_recursive(dp, str, 0, 0)\n",
    "\n",
    "\n",
    "def find_LRS_length_recursive(dp, str, i1, i2):\n",
    "    n = len(str)\n",
    "    if i1 == n or i2 == n:\n",
    "        return 0\n",
    "    \n",
    "    if dp[i1][i2] == -1:\n",
    "\n",
    "        if i1 != i2 and str[i1] == str[i2]:\n",
    "            dp[i1][i2] = 1 + find_LRS_length_recursive(dp, str, i1 + 1, i2 + 1)\n",
    "        else:\n",
    "            c1 = find_LRS_length_recursive(dp, str, i1, i2 + 1)\n",
    "            c2 = find_LRS_length_recursive(dp, str, i1 + 1, i2)\n",
    "\n",
    "            dp[i1][i2] = max(c1, c2)\n",
    "\n",
    "    return dp[i1][i2]"
   ]
  },
  {
   "cell_type": "markdown",
   "metadata": {},
   "source": [
    "# Bottom Up DP - O(N ^ 2) runtime, O(N ^ 2) space"
   ]
  },
  {
   "cell_type": "code",
   "execution_count": 23,
   "metadata": {},
   "outputs": [],
   "source": [
    "def find_LRS_length(str):\n",
    "    n = len(str)\n",
    "    dp = [[0 for _ in range(n+1)] for _ in range(n+1)]\n",
    "    maxLength = 0\n",
    "    # dp[i1][i2] will be storing the LRS up to str[0..i1-1][0..i2-1]\n",
    "    # this also means that subsequences of length zero(first row and column of\n",
    "    # dp[][]), will always have LRS of size zero.\n",
    "    for i1 in range(1, n+1):\n",
    "        for i2 in range(1, n+1):\n",
    "            if i1 != i2 and str[i1 - 1] == str[i2 - 1]:\n",
    "                dp[i1][i2] = 1 + dp[i1 - 1][i2 - 1]\n",
    "            else:\n",
    "                dp[i1][i2] = max(dp[i1 - 1][i2], dp[i1][i2 - 1])\n",
    "\n",
    "            maxLength = max(maxLength, dp[i1][i2])\n",
    "\n",
    "    return maxLength"
   ]
  },
  {
   "cell_type": "code",
   "execution_count": 24,
   "metadata": {},
   "outputs": [
    {
     "data": {
      "text/plain": [
       "2"
      ]
     },
     "execution_count": 24,
     "metadata": {},
     "output_type": "execute_result"
    }
   ],
   "source": [
    "find_LRS_length(\"tomorrow\")"
   ]
  }
 ],
 "metadata": {
  "kernelspec": {
   "display_name": "Python 3",
   "language": "python",
   "name": "python3"
  },
  "language_info": {
   "codemirror_mode": {
    "name": "ipython",
    "version": 3
   },
   "file_extension": ".py",
   "mimetype": "text/x-python",
   "name": "python",
   "nbconvert_exporter": "python",
   "pygments_lexer": "ipython3",
   "version": "3.7.3"
  }
 },
 "nbformat": 4,
 "nbformat_minor": 2
}

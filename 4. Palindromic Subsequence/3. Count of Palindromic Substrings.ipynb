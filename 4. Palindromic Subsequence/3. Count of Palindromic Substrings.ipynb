{
 "cells": [
  {
   "cell_type": "markdown",
   "metadata": {},
   "source": [
    "Problem Statement <br/>\n",
    "\n",
    "Given a string, find the total number of palindromic substrings in it. Please note we need to find the total number of substrings and not subsequences. <br/>\n",
    "\n",
    "Example 1: <br/>\n",
    "Input: \"abdbca\" <br/>\n",
    "Output: 7 <br/>\n",
    "Explanation: Here are the palindromic substrings, \"a\", \"b\", \"d\", \"b\", \"c\", \"a\", \"bdb\". <br/>\n",
    "\n",
    "Example 2: <br/>\n",
    "Input: = \"cddpd\" <br/>\n",
    "Output: 7 <br/>\n",
    "Explanation: Here are the palindromic substrings, \"c\", \"d\", \"d\", \"p\", \"d\", \"dd\", \"dpd\". <br/>\n",
    "\n",
    "Example 3: <br/>\n",
    "Input: = \"pqr\" <br/>\n",
    "Output: 3 <br/>\n",
    "Explanation: Here are the palindromic substrings,\"p\", \"q\", \"r\"."
   ]
  },
  {
   "cell_type": "markdown",
   "metadata": {},
   "source": [
    "# Brute Force - O(3 ^ N) runtime, O(N) space"
   ]
  },
  {
   "cell_type": "code",
   "execution_count": 16,
   "metadata": {},
   "outputs": [],
   "source": [
    "class Solution:\n",
    "    def countSubstrings(self, s: str) -> int:\n",
    "        count = 0\n",
    "        if s == '' or not s:\n",
    "            return count\n",
    "        \n",
    "        length = len(s)\n",
    "        \n",
    "        for i in range(length):\n",
    "            for j in range(i, length):\n",
    "                curr_str = s[i:j + 1]\n",
    "                if self.checkPalindrome(curr_str):\n",
    "                    count += 1\n",
    "                    \n",
    "        return count\n",
    "        \n",
    "    def checkPalindrome(self, t: str) -> bool:\n",
    "        left = 0\n",
    "        right = len(t) - 1\n",
    "        \n",
    "        if t == '' or not t:\n",
    "            return False\n",
    "        \n",
    "        while left < right:\n",
    "            if t[left] != t[right]:\n",
    "                return False\n",
    "            left += 1\n",
    "            right -= 1\n",
    "        \n",
    "        return True"
   ]
  },
  {
   "cell_type": "markdown",
   "metadata": {},
   "source": [
    "# Expand Around Center - O(N ^ 2) runtime, O(1) space"
   ]
  },
  {
   "cell_type": "code",
   "execution_count": 15,
   "metadata": {},
   "outputs": [],
   "source": [
    "class Solution:\n",
    "    def countSubstrings(self, s: str) -> int:\n",
    "        n = len(s)\n",
    "        ans = 0\n",
    "        for center in range(2*n - 1):\n",
    "            left = center // 2\n",
    "            right = left + center % 2\n",
    "            while left >= 0 and right < n and s[left] == s[right]:\n",
    "                ans += 1\n",
    "                left -= 1\n",
    "                right += 1\n",
    "        return ans"
   ]
  },
  {
   "cell_type": "markdown",
   "metadata": {},
   "source": [
    "# Manacher's Algorithm - O(N) runtime, O(N) space"
   ]
  },
  {
   "cell_type": "code",
   "execution_count": 22,
   "metadata": {},
   "outputs": [],
   "source": [
    "class Solution:\n",
    "    def countSubstrings(self, s: str) -> int:\n",
    "        def manachers(s):\n",
    "            a = '@#' + '#'.join(s) + '#$'\n",
    "            z = [0] * len(a)\n",
    "            center = right = 0\n",
    "            for i in range(1, len(a) - 1):\n",
    "                if i < right:\n",
    "                    z[i] = min(right - i, z[2 * center - i])\n",
    "                while a[i + z[i] + 1] == a[i - z[i] - 1]:\n",
    "                    z[i] += 1\n",
    "                if i + z[i] > right:\n",
    "                    center, right = i, i + z[i]\n",
    "            return z\n",
    "\n",
    "        return sum((v+1)//2 for v in manachers(s))"
   ]
  },
  {
   "cell_type": "code",
   "execution_count": 23,
   "metadata": {},
   "outputs": [
    {
     "data": {
      "text/plain": [
       "7"
      ]
     },
     "execution_count": 23,
     "metadata": {},
     "output_type": "execute_result"
    }
   ],
   "source": [
    "instance = Solution()\n",
    "instance.countSubstrings(\"abdbca\")"
   ]
  },
  {
   "cell_type": "markdown",
   "metadata": {},
   "source": [
    "# Bottom Up DP - O(N ^ 2) runtime, O(N ^ 2) space"
   ]
  },
  {
   "cell_type": "code",
   "execution_count": 20,
   "metadata": {},
   "outputs": [],
   "source": [
    "def count_PS(st):\n",
    "    n = len(st)\n",
    "    # dp[i][j] will be 'true' if the string from index 'i' to index 'j' is a palindrome\n",
    "    dp = [[False for _ in range(n)] for _ in range(n)]\n",
    "    count = 0\n",
    "\n",
    "    # every string with one character is a palindrome\n",
    "    for i in range(n):\n",
    "        dp[i][i] = True\n",
    "        count += 1\n",
    "\n",
    "    for startIndex in range(n - 1, -1, -1):\n",
    "        for endIndex in range(startIndex + 1, n):\n",
    "            if st[startIndex] == st[endIndex]:\n",
    "                # if it's a two character string or if the remaining string is a palindrome too\n",
    "                if endIndex - startIndex == 1 or dp[startIndex + 1][endIndex - 1]:\n",
    "                    dp[startIndex][endIndex] = True\n",
    "                    count += 1\n",
    "\n",
    "    return count"
   ]
  },
  {
   "cell_type": "code",
   "execution_count": 21,
   "metadata": {},
   "outputs": [
    {
     "data": {
      "text/plain": [
       "7"
      ]
     },
     "execution_count": 21,
     "metadata": {},
     "output_type": "execute_result"
    }
   ],
   "source": [
    "count_PS(\"abdbca\")"
   ]
  }
 ],
 "metadata": {
  "kernelspec": {
   "display_name": "Python 3",
   "language": "python",
   "name": "python3"
  },
  "language_info": {
   "codemirror_mode": {
    "name": "ipython",
    "version": 3
   },
   "file_extension": ".py",
   "mimetype": "text/x-python",
   "name": "python",
   "nbconvert_exporter": "python",
   "pygments_lexer": "ipython3",
   "version": "3.7.3"
  }
 },
 "nbformat": 4,
 "nbformat_minor": 2
}

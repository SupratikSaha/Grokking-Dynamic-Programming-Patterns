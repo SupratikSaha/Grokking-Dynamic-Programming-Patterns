{
 "cells": [
  {
   "cell_type": "markdown",
   "metadata": {},
   "source": [
    "Problem Statement <br/>\n",
    "\n",
    "Given a string, we want to cut it into pieces such that each piece is a palindrome. Write a function to return the minimum number of cuts needed. <br/>\n",
    "\n",
    "Example 1: <br/>\n",
    "Input: \"abdbca\" <br/>\n",
    "Output: 3 <br/>\n",
    "Explanation: Palindrome pieces are \"a\", \"bdb\", \"c\", \"a\". <br/> <br/>\n",
    "\n",
    "Example 2: <br/>\n",
    "Input: = \"cddpd\" <br/>\n",
    "Output: 2 <br/>\n",
    "Explanation: Palindrome pieces are \"c\", \"d\", \"dpd\". <br/>\n",
    "\n",
    "Example 3: <br/>\n",
    "Input: = \"pqr\" <br/>\n",
    "Output: 2 <br/>\n",
    "Explanation: Palindrome pieces are \"p\", \"q\", \"r\".\n",
    "\n",
    "Example 4: <br/>\n",
    "Input: = \"pp\" <br/>\n",
    "Output: 0 <br/>\n",
    "Explanation: We do not need to cut, as \"pp\" is a palindrome."
   ]
  },
  {
   "cell_type": "markdown",
   "metadata": {},
   "source": [
    "# Brute Force - O(3 ^ N) runtime, O(N) space"
   ]
  },
  {
   "cell_type": "code",
   "execution_count": 10,
   "metadata": {},
   "outputs": [],
   "source": [
    "def find_MPP_cuts(st):\n",
    "    return find_MPP_cuts_recursive(st, 0, len(st) - 1)\n",
    "\n",
    "def find_MPP_cuts_recursive(st, startIndex, endIndex):\n",
    "    \n",
    "    if startIndex >= endIndex:\n",
    "        return 0\n",
    "    \n",
    "    if st[startIndex] == st[endIndex]:\n",
    "        result = find_MPP_cuts_recursive(st, startIndex + 1, endIndex - 1)\n",
    "        \n",
    "        if result == 0:\n",
    "            return result\n",
    "    \n",
    "    count1 = 1 + find_MPP_cuts_recursive(st, startIndex + 1, endIndex)\n",
    "    count2 = 1 + find_MPP_cuts_recursive(st, startIndex, endIndex - 1)\n",
    "    \n",
    "    return min(count1, count2)"
   ]
  },
  {
   "cell_type": "markdown",
   "metadata": {},
   "source": [
    "# Top Down DP - O(N ^ 2) runtime, O(N ^ 2) space"
   ]
  },
  {
   "cell_type": "code",
   "execution_count": 16,
   "metadata": {},
   "outputs": [],
   "source": [
    "def find_MPP_cuts(st):\n",
    "    n = len(st)\n",
    "    dp = [[-1 for _ in range(n)] for _ in range(n)]\n",
    "    return find_MPP_cuts_recursive(dp, st, 0, len(st) - 1)\n",
    "\n",
    "def find_MPP_cuts_recursive(dp, st, startIndex, endIndex):\n",
    "    \n",
    "    if startIndex >= endIndex:\n",
    "        return 0\n",
    "    \n",
    "    if dp[startIndex][endIndex] == -1:\n",
    "    \n",
    "        if st[startIndex] == st[endIndex]:\n",
    "            result = find_MPP_cuts_recursive(dp, st, startIndex + 1, endIndex - 1)\n",
    "\n",
    "            if result == 0:\n",
    "                dp[startIndex][endIndex] = result\n",
    "                return dp[startIndex][endIndex]\n",
    "\n",
    "        count1 = 1 + find_MPP_cuts_recursive(dp, st, startIndex + 1, endIndex)\n",
    "        count2 = 1 + find_MPP_cuts_recursive(dp, st, startIndex, endIndex - 1)\n",
    "        dp[startIndex][endIndex] = min(count1, count2)\n",
    "    \n",
    "    return dp[startIndex][endIndex]"
   ]
  },
  {
   "cell_type": "markdown",
   "metadata": {},
   "source": [
    "# Bottom Up DP - O(N ^ 2) runtime, O(N ^ 2) space"
   ]
  },
  {
   "cell_type": "code",
   "execution_count": 23,
   "metadata": {},
   "outputs": [],
   "source": [
    "def find_MPP_cuts(st):\n",
    "    n = len(st)\n",
    "    # isPalindrome[i][j] will be 'true' if the string from index 'i' to index 'j' is a palindrome\n",
    "    isPalindrome = [[False for _ in range(n)] for _ in range(n)]\n",
    "\n",
    "    # every string with one character is a palindrome\n",
    "    for i in range(n):\n",
    "        isPalindrome[i][i] = True\n",
    "\n",
    "    # populate isPalindrome table\n",
    "    for startIndex in range(n-1, -1, -1):\n",
    "        for endIndex in range(startIndex+1, n):\n",
    "            if st[startIndex] == st[endIndex]:\n",
    "                # if it's a two character string or if the remaining string is a palindrome too\n",
    "                if endIndex - startIndex == 1 or isPalindrome[startIndex + 1][endIndex - 1]:\n",
    "                    isPalindrome[startIndex][endIndex] = True\n",
    "\n",
    "    # now lets populate the second table, every index in 'cuts' stores the minimum cuts needed\n",
    "    # for the substring from that index till the end\n",
    "    cuts = [0 for _ in range(n)]\n",
    "    for startIndex in range(n-1, -1, -1):\n",
    "        minCuts = n    # maximum cuts\n",
    "        for endIndex in range(n-1, startIndex-1, -1):\n",
    "            if isPalindrome[startIndex][endIndex]:\n",
    "                # we can cut here as we got a palindrome\n",
    "                # also we don't need any cut if the whole substring is a palindrome\n",
    "                minCuts = 0 if endIndex == n-1 else min(minCuts, 1 + cuts[endIndex + 1])\n",
    "\n",
    "        cuts[startIndex] = minCuts\n",
    "\n",
    "    return cuts[0]"
   ]
  },
  {
   "cell_type": "code",
   "execution_count": 24,
   "metadata": {},
   "outputs": [
    {
     "data": {
      "text/plain": [
       "3"
      ]
     },
     "execution_count": 24,
     "metadata": {},
     "output_type": "execute_result"
    }
   ],
   "source": [
    "find_MPP_cuts(\"abdbca\")"
   ]
  }
 ],
 "metadata": {
  "kernelspec": {
   "display_name": "Python 3",
   "language": "python",
   "name": "python3"
  },
  "language_info": {
   "codemirror_mode": {
    "name": "ipython",
    "version": 3
   },
   "file_extension": ".py",
   "mimetype": "text/x-python",
   "name": "python",
   "nbconvert_exporter": "python",
   "pygments_lexer": "ipython3",
   "version": "3.7.3"
  }
 },
 "nbformat": 4,
 "nbformat_minor": 2
}

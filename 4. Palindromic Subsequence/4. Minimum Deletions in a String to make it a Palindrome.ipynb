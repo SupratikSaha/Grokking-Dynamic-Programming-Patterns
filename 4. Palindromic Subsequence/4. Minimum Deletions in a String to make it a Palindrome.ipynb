{
 "cells": [
  {
   "cell_type": "markdown",
   "metadata": {},
   "source": [
    "Problem Statement <br/>\n",
    "\n",
    "Given a string, find the minimum number of characters that we can remove to make it a palindrome. <br/>\n",
    "\n",
    "Example 1: <br/>\n",
    "Input: \"abdbca\" <br/>\n",
    "Output: 1 <br/>\n",
    "Explanation: By removing \"c\", we get a palindrome \"abdba\". <br/>\n",
    "\n",
    "Example 2: <br/>\n",
    "Input: = \"cddpd\" <br/>\n",
    "Output: 2 <br/>\n",
    "Explanation: Deleting \"cp\", we get a palindrome \"ddd\". <br/>\n",
    "\n",
    "Example 3: <br/>\n",
    "Input: = \"pqr\" <br/>\n",
    "Output: 2 <br/>\n",
    "Explanation: We have to remove any two characters to get a palindrome, e.g. if we \n",
    "remove \"pq\", we get palindrome \"r\"."
   ]
  },
  {
   "cell_type": "markdown",
   "metadata": {},
   "source": [
    "# Brute Force - O(3 ^ N) runtime, O(N) space"
   ]
  },
  {
   "cell_type": "code",
   "execution_count": 23,
   "metadata": {},
   "outputs": [],
   "source": [
    "def find_minimum_deletions(st):\n",
    "    return find_minimum_deletions_recursive(st, 0, len(st) - 1)\n",
    "\n",
    "def find_minimum_deletions_recursive(st, startIndex, endIndex):\n",
    "    \n",
    "    if startIndex >= endIndex:\n",
    "        return 0\n",
    "    \n",
    "    if st[startIndex] == st[endIndex]:\n",
    "        return find_minimum_deletions_recursive(st, startIndex + 1, endIndex - 1)\n",
    "    \n",
    "    count1 = 1 + find_minimum_deletions_recursive(st, startIndex + 1, endIndex)\n",
    "    count2 = 1 + find_minimum_deletions_recursive(st, startIndex, endIndex - 1)\n",
    "    \n",
    "    return min(count1, count2)"
   ]
  },
  {
   "cell_type": "markdown",
   "metadata": {},
   "source": [
    "# Top Down DP - O(N ^ 2) runtime, O(N ^ 2) space"
   ]
  },
  {
   "cell_type": "code",
   "execution_count": 25,
   "metadata": {},
   "outputs": [],
   "source": [
    "def find_minimum_deletions(st):\n",
    "    n = len(st)\n",
    "    \n",
    "    dp = [[-1 for _ in range(n)] for _ in range(n)]\n",
    "    return find_minimum_deletions_recursive(dp, st, 0, len(st) - 1)\n",
    "\n",
    "def find_minimum_deletions_recursive(dp, st, startIndex, endIndex):\n",
    "    \n",
    "    if startIndex >= endIndex:\n",
    "        return 0\n",
    "    \n",
    "    if dp[startIndex][endIndex] == -1:\n",
    "        if st[startIndex] == st[endIndex]:\n",
    "            dp[startIndex][endIndex] = find_minimum_deletions_recursive(dp, st, startIndex + 1, endIndex - 1)\n",
    "            return dp[startIndex][endIndex]\n",
    "\n",
    "        count1 = 1 + find_minimum_deletions_recursive(dp, st, startIndex + 1, endIndex)\n",
    "        count2 = 1 + find_minimum_deletions_recursive(dp, st, startIndex, endIndex - 1)\n",
    "        dp[startIndex][endIndex] = min(count1, count2)\n",
    "    \n",
    "    return dp[startIndex][endIndex]"
   ]
  },
  {
   "cell_type": "markdown",
   "metadata": {},
   "source": [
    "# Bottom Up DP - O(N ^ 2) runtime, O(N ^ 2) space"
   ]
  },
  {
   "cell_type": "code",
   "execution_count": 32,
   "metadata": {},
   "outputs": [],
   "source": [
    "def find_minimum_deletions(st):\n",
    "    return len(st) - find_LPS(st)\n",
    "\n",
    "def find_LPS(st):\n",
    "    n = len(st)\n",
    "    \n",
    "    dp = [[0 for _ in range(n)] for _ in range(n)]\n",
    "    \n",
    "    for x in range(n):\n",
    "        dp[x][x] = 1\n",
    "    \n",
    "    for startIndex in range(n - 1, -1, -1):\n",
    "        for endIndex in range(startIndex + 1, n): \n",
    "            if st[startIndex] == st[endIndex]:\n",
    "                dp[startIndex][endIndex] = 2 + dp[startIndex + 1][endIndex - 1]\n",
    "            else:\n",
    "                dp[startIndex][endIndex] = max(dp[startIndex + 1][endIndex], dp[startIndex][endIndex - 1])\n",
    "\n",
    "    return dp[0][n - 1]"
   ]
  },
  {
   "cell_type": "code",
   "execution_count": 35,
   "metadata": {},
   "outputs": [
    {
     "data": {
      "text/plain": [
       "1"
      ]
     },
     "execution_count": 35,
     "metadata": {},
     "output_type": "execute_result"
    }
   ],
   "source": [
    "find_minimum_deletions(\"abdbca\")"
   ]
  }
 ],
 "metadata": {
  "kernelspec": {
   "display_name": "Python 3",
   "language": "python",
   "name": "python3"
  },
  "language_info": {
   "codemirror_mode": {
    "name": "ipython",
    "version": 3
   },
   "file_extension": ".py",
   "mimetype": "text/x-python",
   "name": "python",
   "nbconvert_exporter": "python",
   "pygments_lexer": "ipython3",
   "version": "3.7.3"
  }
 },
 "nbformat": 4,
 "nbformat_minor": 2
}

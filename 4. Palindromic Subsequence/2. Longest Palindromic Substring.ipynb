{
 "cells": [
  {
   "cell_type": "markdown",
   "metadata": {},
   "source": [
    "Problem Statement <br/>\n",
    "\n",
    "Given a string, find the length of its Longest Palindromic Substring (LPS). In a palindromic string, elements read the same backward and forward. <br/>\n",
    "\n",
    "Example 1: <br/>\n",
    "Input: \"abdbca\" <br/>\n",
    "Output: 3 <br/>\n",
    "Explanation: LPS is \"bdb\". <br/>\n",
    "\n",
    "Example 2: <br/>\n",
    "Input: = \"cddpd\" <br/>\n",
    "Output: 3 <br/>\n",
    "Explanation: LPS is \"dpd\". <br/>\n",
    "\n",
    "Example 3: <br/>\n",
    "Input: = \"pqr\" <br/>\n",
    "Output: 1 <br/>\n",
    "Explanation: LPS could be \"p\", \"q\" or \"r\"."
   ]
  },
  {
   "cell_type": "markdown",
   "metadata": {},
   "source": [
    "# Brute Force - O(2 ^ N) runtime, O(N) space"
   ]
  },
  {
   "cell_type": "code",
   "execution_count": 7,
   "metadata": {},
   "outputs": [],
   "source": [
    "def find_LPS_length(st):\n",
    "    return find_LPS_length_recursive(st, 0, len(st) - 1)\n",
    "\n",
    "def find_LPS_length_recursive(st, startIndex, endIndex):\n",
    "    \n",
    "    if startIndex > endIndex:\n",
    "        return 0\n",
    "    \n",
    "    if startIndex == endIndex:\n",
    "        return 1\n",
    "    \n",
    "    if st[startIndex] == st[endIndex]:\n",
    "        remainingLength = endIndex - startIndex - 1\n",
    "        # check if the remaining string is also a palindrome\n",
    "        if remainingLength == find_LPS_length_recursive(st, startIndex + 1, endIndex - 1):\n",
    "            return remainingLength + 2\n",
    "    \n",
    "    count1 = find_LPS_length_recursive(st, startIndex + 1, endIndex)\n",
    "    count2 = find_LPS_length_recursive(st, startIndex, endIndex - 1)\n",
    "    \n",
    "    return max(count1, count2)"
   ]
  },
  {
   "cell_type": "markdown",
   "metadata": {},
   "source": [
    "# Top Down DP - O(N ^ 2) runtime, O(N ^ 2) space"
   ]
  },
  {
   "cell_type": "code",
   "execution_count": 15,
   "metadata": {},
   "outputs": [],
   "source": [
    "def find_LPS_length(st):\n",
    "    n = len(st)\n",
    "    dp = [[-1 for y in range(n)] for x in range(n)]\n",
    "    return find_LPS_length_recursive(dp, st, 0, len(st) - 1)\n",
    "\n",
    "def find_LPS_length_recursive(dp, st, startIndex, endIndex):\n",
    "    \n",
    "    if startIndex > endIndex:\n",
    "        return 0\n",
    "    \n",
    "    if startIndex == endIndex:\n",
    "        return 1\n",
    "    \n",
    "    if dp[startIndex][endIndex] == -1:\n",
    "    \n",
    "        if st[startIndex] == st[endIndex]:\n",
    "            remainingLength = endIndex - startIndex - 1\n",
    "            # check if the remaining string is also a palindrome\n",
    "            if remainingLength == find_LPS_length_recursive(dp, st, startIndex + 1, endIndex - 1):\n",
    "                dp[startIndex][endIndex] = remainingLength + 2\n",
    "                return dp[startIndex][endIndex]\n",
    "\n",
    "        count1 = find_LPS_length_recursive(dp, st, startIndex + 1, endIndex)\n",
    "        count2 = find_LPS_length_recursive(dp, st, startIndex, endIndex - 1)\n",
    "        dp[startIndex][endIndex] = max(count1, count2)\n",
    "    \n",
    "    return dp[startIndex][endIndex]"
   ]
  },
  {
   "cell_type": "markdown",
   "metadata": {},
   "source": [
    "# Bottom Up DP - O(N ^ 2) runtime, O(N ^ 2) space"
   ]
  },
  {
   "cell_type": "code",
   "execution_count": 25,
   "metadata": {},
   "outputs": [],
   "source": [
    "def find_LPS_length(st):\n",
    "    n = len(st)\n",
    "    # dp[i][j] will be 'true' if the string from index 'i' to index 'j' is a palindrome\n",
    "    dp = [[False for _ in range(n)] for _ in range(n)]\n",
    "\n",
    "    # every string with one character is a palindrome\n",
    "    for i in range(n):\n",
    "        dp[i][i] = True\n",
    "\n",
    "    maxLength = 1\n",
    "    for startIndex in range(n - 1, -1, -1):\n",
    "        for endIndex in range(startIndex + 1, n):\n",
    "            if st[startIndex] == st[endIndex]:\n",
    "                # if it's a two character string or if the remaining string is a palindrome too\n",
    "                if endIndex - startIndex == 1 or dp[startIndex + 1][endIndex - 1]:\n",
    "                    dp[startIndex][endIndex] = True\n",
    "                    maxLength = max(maxLength, endIndex - startIndex + 1)\n",
    "\n",
    "    return maxLength"
   ]
  },
  {
   "cell_type": "code",
   "execution_count": 26,
   "metadata": {},
   "outputs": [
    {
     "data": {
      "text/plain": [
       "3"
      ]
     },
     "execution_count": 26,
     "metadata": {},
     "output_type": "execute_result"
    }
   ],
   "source": [
    "find_LPS_length(\"abdbca\")"
   ]
  }
 ],
 "metadata": {
  "kernelspec": {
   "display_name": "Python 3",
   "language": "python",
   "name": "python3"
  },
  "language_info": {
   "codemirror_mode": {
    "name": "ipython",
    "version": 3
   },
   "file_extension": ".py",
   "mimetype": "text/x-python",
   "name": "python",
   "nbconvert_exporter": "python",
   "pygments_lexer": "ipython3",
   "version": "3.7.3"
  }
 },
 "nbformat": 4,
 "nbformat_minor": 2
}

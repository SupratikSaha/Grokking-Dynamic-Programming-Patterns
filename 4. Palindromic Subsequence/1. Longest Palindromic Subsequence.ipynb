{
 "cells": [
  {
   "cell_type": "markdown",
   "metadata": {},
   "source": [
    "Problem Statement <br/>\n",
    "\n",
    "Given a sequence, find the length of its Longest Palindromic Subsequence (LPS). In a palindromic subsequence, elements read the same backward and forward. <br/>\n",
    "\n",
    "A subsequence is a sequence that can be derived from another sequence by deleting some or no elements without changing the order of the remaining elements. <br/>\n",
    "\n",
    "Example 1: <br/>\n",
    "Input: \"abdbca\" <br/>\n",
    "Output: 5 <br/>\n",
    "Explanation: LPS is \"abdba\". <br/>\n",
    "\n",
    "Example 2: <br/>\n",
    "Input: = \"cddpd\" <br/>\n",
    "Output: 3 <br/>\n",
    "Explanation: LPS is \"ddd\". <br/>\n",
    "\n",
    "Example 3: <br/>\n",
    "Input: = \"pqr\" <br/>\n",
    "Output: 1 <br/>\n",
    "Explanation: LPS could be \"p\", \"q\" or \"r\"."
   ]
  },
  {
   "cell_type": "markdown",
   "metadata": {},
   "source": [
    "# Brute Force - O(3 ^ N) runtime, O(N) space"
   ]
  },
  {
   "cell_type": "code",
   "execution_count": 1,
   "metadata": {},
   "outputs": [],
   "source": [
    "def find_LPS_length(st):\n",
    "    return find_LPS_length_recursive(st, 0, len(st) - 1)\n",
    "\n",
    "\n",
    "def find_LPS_length_recursive(st, startIndex, endIndex):\n",
    "    if startIndex > endIndex:\n",
    "        return 0\n",
    "\n",
    "    # every sequence with one element is a palindrome of length 1\n",
    "    if startIndex == endIndex:\n",
    "        return 1\n",
    "\n",
    "    # case 1: elements at the beginning and the end are the same\n",
    "    if st[startIndex] == st[endIndex]:\n",
    "        return 2 + find_LPS_length_recursive(st, startIndex + 1, endIndex - 1)\n",
    "\n",
    "    # case 2: skip one element either from the beginning or the end\n",
    "    c1 = find_LPS_length_recursive(st, startIndex + 1, endIndex)\n",
    "    c2 = find_LPS_length_recursive(st, startIndex, endIndex - 1)\n",
    "    return max(c1, c2)"
   ]
  },
  {
   "cell_type": "markdown",
   "metadata": {},
   "source": [
    "# Top Down DP - O(N ^ 2) runtime, O(N ^ 2) space"
   ]
  },
  {
   "cell_type": "code",
   "execution_count": 4,
   "metadata": {},
   "outputs": [],
   "source": [
    "def find_LPS_length(st):\n",
    "    n = len(st)\n",
    "    dp = [[-1 for _ in range(n)] for _ in range(n)]\n",
    "    return find_LPS_length_recursive(dp, st, 0, n - 1)\n",
    "\n",
    "\n",
    "def find_LPS_length_recursive(dp, st, startIndex, endIndex):\n",
    "    if startIndex > endIndex:\n",
    "        return 0\n",
    "\n",
    "    # every sequence with one element is a palindrome of length 1\n",
    "    if startIndex == endIndex:\n",
    "        return 1\n",
    "\n",
    "    if (dp[startIndex][endIndex] == -1):\n",
    "        # case 1: elements at the beginning and the end are the same\n",
    "        if st[startIndex] == st[endIndex]:\n",
    "            dp[startIndex][endIndex] = 2 + find_LPS_length_recursive(dp, st, startIndex + 1, endIndex - 1)\n",
    "        else:\n",
    "            # case 2: skip one element either from the beginning or the end\n",
    "            c1 = find_LPS_length_recursive(dp, st, startIndex + 1, endIndex)\n",
    "            c2 = find_LPS_length_recursive(dp, st, startIndex, endIndex - 1)\n",
    "            dp[startIndex][endIndex] = max(c1, c2)\n",
    "\n",
    "    return dp[startIndex][endIndex]"
   ]
  },
  {
   "cell_type": "markdown",
   "metadata": {},
   "source": [
    "# Bottom Up DP - O(N ^ 2) runtime, O(N ^ 2) space"
   ]
  },
  {
   "cell_type": "code",
   "execution_count": 6,
   "metadata": {},
   "outputs": [],
   "source": [
    "def find_LPS_length(st):\n",
    "    n = len(st)\n",
    "    # dp[i][j] stores the length of LPS from index 'i' to index 'j'\n",
    "    dp = [[0 for _ in range(n)] for _ in range(n)]\n",
    "\n",
    "    # every sequence with one element is a palindrome of length 1\n",
    "    for i in range(n):\n",
    "        dp[i][i] = 1\n",
    "\n",
    "    for startIndex in range(n - 1, -1, -1):\n",
    "        for endIndex in range(startIndex + 1, n):\n",
    "            # case 1: elements at the beginning and the end are the same\n",
    "            if st[startIndex] == st[endIndex]:\n",
    "                dp[startIndex][endIndex] = 2 + dp[startIndex + 1][endIndex - 1]\n",
    "            else:    # case 2: skip one element either from the beginning or the end\n",
    "                dp[startIndex][endIndex] = max(\n",
    "                    dp[startIndex + 1][endIndex], dp[startIndex][endIndex - 1])\n",
    "\n",
    "    return dp[0][n - 1]"
   ]
  },
  {
   "cell_type": "code",
   "execution_count": 7,
   "metadata": {},
   "outputs": [
    {
     "data": {
      "text/plain": [
       "5"
      ]
     },
     "execution_count": 7,
     "metadata": {},
     "output_type": "execute_result"
    }
   ],
   "source": [
    "find_LPS_length(\"abdbca\")"
   ]
  }
 ],
 "metadata": {
  "kernelspec": {
   "display_name": "Python 3",
   "language": "python",
   "name": "python3"
  },
  "language_info": {
   "codemirror_mode": {
    "name": "ipython",
    "version": 3
   },
   "file_extension": ".py",
   "mimetype": "text/x-python",
   "name": "python",
   "nbconvert_exporter": "python",
   "pygments_lexer": "ipython3",
   "version": "3.7.3"
  }
 },
 "nbformat": 4,
 "nbformat_minor": 2
}

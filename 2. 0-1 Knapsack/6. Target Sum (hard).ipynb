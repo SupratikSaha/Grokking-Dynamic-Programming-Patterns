{
 "cells": [
  {
   "cell_type": "markdown",
   "metadata": {},
   "source": [
    "Problem Statement <br/>\n",
    "\n",
    "You are given a set of positive numbers and a target sum ‘S’. Each number should be assigned either a ‘+’ or ‘-’ sign. We need to find the total ways to assign symbols to make the sum of the numbers equal to the target ‘S’. <br/>\n",
    "Example 1: <br/>\n",
    "Input: {1, 1, 2, 3}, S=1 <br/>\n",
    "Output: 3 <br/>\n",
    "Explanation: The given set has '3' ways to make a sum of '1': {+1-1-2+3} & {-1+1-2+3} & {+1+1+2-3} <br/>\n",
    "\n",
    "Example 2: <br/>\n",
    "Input: {1, 2, 7, 1}, S=9 <br/>\n",
    "Output: 2 <br/>\n",
    "Explanation: The given set has '2' ways to make a sum of '9': {+1+2+7-1} & {-1+2+7+1}"
   ]
  },
  {
   "cell_type": "markdown",
   "metadata": {},
   "source": [
    "# Brute Force Solution - O(2 ^ N) runtime, O(N) space"
   ]
  },
  {
   "cell_type": "code",
   "execution_count": 1,
   "metadata": {},
   "outputs": [],
   "source": [
    "def find_target_subsets(num, s):\n",
    "    \n",
    "    return find_target_subsets_recursive(num, s, 0)\n",
    "\n",
    "def find_target_subsets_recursive(num, s, index):\n",
    "    n = len(num)\n",
    "    if index == n:\n",
    "        if s == 0:\n",
    "            return 1\n",
    "        else:\n",
    "            return 0\n",
    "    \n",
    "    sum1 = find_target_subsets_recursive(num, s + num[index], index + 1)\n",
    "    sum2 = find_target_subsets_recursive(num, s - num[index], index + 1)\n",
    "\n",
    "    return sum1 + sum2"
   ]
  },
  {
   "cell_type": "markdown",
   "metadata": {},
   "source": [
    "# Top-down Dynamic Programming with Memoization - O(N * S) runtime, O(N * S) space, where ‘N’ represents total numbers and ‘S’ is the desired sum"
   ]
  },
  {
   "cell_type": "code",
   "execution_count": 3,
   "metadata": {},
   "outputs": [],
   "source": [
    "def find_target_subsets(num, s):\n",
    "    sumNum = sum(num)\n",
    "    dp = [[-1 for x in range(-sumNum, sumNum + 1)] for y in range(len(num))]\n",
    "    return find_target_subsets_recursive(num, s, dp, 0)\n",
    "\n",
    "def find_target_subsets_recursive(num, s, dp, index):\n",
    "    n = len(num)\n",
    "    if index == n:\n",
    "        if s == 0:\n",
    "            return 1\n",
    "        else:\n",
    "            return 0\n",
    "    \n",
    "    if dp[index][s] == -1:\n",
    "    \n",
    "        sum1 = find_target_subsets_recursive(num, s + num[index], dp, index + 1)\n",
    "        sum2 = find_target_subsets_recursive(num, s - num[index], dp, index + 1)\n",
    "        dp[index][s] = sum1 + sum2\n",
    "    \n",
    "    return dp[index][s]"
   ]
  },
  {
   "cell_type": "markdown",
   "metadata": {},
   "source": [
    "# Bottom-up Dynamic Programming - O(N * S) runtime, O(N * S) space, where ‘N’ represents total numbers and ‘S’ is the desired sum"
   ]
  },
  {
   "cell_type": "code",
   "execution_count": 5,
   "metadata": {},
   "outputs": [],
   "source": [
    "def find_target_subsets(num, s):\n",
    "    totalSum = sum(num)\n",
    "\n",
    "    # if 's + totalSum' is odd, we can't find a subset with sum equal to '(s + totalSum) / 2'\n",
    "    if totalSum < s or (s + totalSum) % 2 == 1:\n",
    "        return 0\n",
    "\n",
    "    return count_subsets(num, (s + totalSum) // 2)\n",
    "\n",
    "\n",
    "# this function is exactly similar to what we have in 'Count of Subset Sum' problem.\n",
    "def count_subsets(num, s):\n",
    "    n = len(num)\n",
    "    dp = [[0 for x in range(s+1)] for y in range(n)]\n",
    "\n",
    "    # populate the sum = 0 columns, as we will always have an empty set for zero sum\n",
    "    for i in range(0, n):\n",
    "        dp[i][0] = 1\n",
    "\n",
    "    # with only one number, we can form a subset only when the required sum is\n",
    "    # equal to the number\n",
    "    for s in range(1, s+1):\n",
    "        dp[0][s] = 1 if num[0] == s else 0\n",
    "\n",
    "    # process all subsets for all sums\n",
    "    for i in range(1, n):\n",
    "        for s in range(1, s+1):\n",
    "            dp[i][s] = dp[i - 1][s]\n",
    "            if s >= num[i]:\n",
    "                dp[i][s] += dp[i - 1][s - num[i]]\n",
    "\n",
    "    # the bottom-right corner will have our answer.\n",
    "    return dp[n - 1][s]\n"
   ]
  },
  {
   "cell_type": "markdown",
   "metadata": {},
   "source": [
    "# Space Optimized Bottom-up Dynamic Programming - O(N * S) runtime, O(S) space, where ‘N’ represents total numbers and ‘S’ is the desired sum"
   ]
  },
  {
   "cell_type": "code",
   "execution_count": 7,
   "metadata": {},
   "outputs": [],
   "source": [
    "def find_target_subsets(num, s):\n",
    "    totalSum = sum(num)\n",
    "\n",
    "    # if 's + totalSum' is odd, we can't find a subset with sum equal to '(s +totalSum) / 2'\n",
    "    if totalSum < s or (s + totalSum) % 2 == 1:\n",
    "        return 0\n",
    "\n",
    "    return count_subsets(num, (s + totalSum) // 2)\n",
    "\n",
    "\n",
    "# this function is exactly similar to what we have in 'Count of Subset Sum' problem\n",
    "def count_subsets(num, sum):\n",
    "    n = len(num)\n",
    "    dp = [0 for x in range(sum+1)]\n",
    "    dp[0] = 1\n",
    "\n",
    "    # with only one number, we can form a subset only when the required sum is equal to the number\n",
    "    for s in range(1, sum+1):\n",
    "        dp[s] = 1 if num[0] == s else 0\n",
    "\n",
    "    # process all subsets for all sums\n",
    "    for i in range(1, n):\n",
    "        for s in range(sum, -1, -1):\n",
    "            if s >= num[i]:\n",
    "                dp[s] += dp[s - num[i]]\n",
    "\n",
    "    return dp[sum]"
   ]
  },
  {
   "cell_type": "code",
   "execution_count": 8,
   "metadata": {},
   "outputs": [
    {
     "data": {
      "text/plain": [
       "3"
      ]
     },
     "execution_count": 8,
     "metadata": {},
     "output_type": "execute_result"
    }
   ],
   "source": [
    "find_target_subsets([1, 1, 2, 3], 1)"
   ]
  }
 ],
 "metadata": {
  "kernelspec": {
   "display_name": "Python 3",
   "language": "python",
   "name": "python3"
  },
  "language_info": {
   "codemirror_mode": {
    "name": "ipython",
    "version": 3
   },
   "file_extension": ".py",
   "mimetype": "text/x-python",
   "name": "python",
   "nbconvert_exporter": "python",
   "pygments_lexer": "ipython3",
   "version": "3.7.3"
  }
 },
 "nbformat": 4,
 "nbformat_minor": 2
}

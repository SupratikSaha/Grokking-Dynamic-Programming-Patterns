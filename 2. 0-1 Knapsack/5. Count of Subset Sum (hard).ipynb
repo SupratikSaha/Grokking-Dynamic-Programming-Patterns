{
 "cells": [
  {
   "cell_type": "markdown",
   "metadata": {},
   "source": [
    "Problem Statement <br/>\n",
    "\n",
    "Given a set of positive numbers, find the total number of subsets whose sum is equal to a given number ‘S’. <br/>\n",
    "Example 1: <br/>\n",
    "Input: {1, 1, 2, 3}, S=4 <br/>\n",
    "Output: 3 <br/>\n",
    "The given set has '3' subsets whose sum is '4': {1, 1, 2}, {1, 3}, {1, 3} <br/>\n",
    "Note that we have two similar sets {1, 3}, because we have two '1' in our input. <br/>\n",
    "\n",
    "Example 2: <br/>\n",
    "Input: {1, 2, 7, 1, 5}, S=9 <br/>\n",
    "Output: 3 <br/>\n",
    "The given set has '3' subsets whose sum is '9': {2, 7}, {1, 7, 1}, {1, 2, 1, 5}"
   ]
  },
  {
   "cell_type": "markdown",
   "metadata": {},
   "source": [
    "# Brute Force Solution - O(2 ^ N) runtime, O(N) space"
   ]
  },
  {
   "cell_type": "code",
   "execution_count": 12,
   "metadata": {},
   "outputs": [],
   "source": [
    "def count_subsets(num, sumVal):\n",
    "        \n",
    "        return recursive_count_subsets(num, sumVal, 0)\n",
    "\n",
    "def recursive_count_subsets(num, sumVal, index):\n",
    "\n",
    "    # base checks\n",
    "    if sumVal == 0:\n",
    "        return 1\n",
    "    \n",
    "    n = len(num)\n",
    "    if n == 0 or index >= n:\n",
    "        return 0\n",
    "\n",
    "    # recursive call after selecting the number at the currentIndex\n",
    "    # if the number at currentIndex exceeds the sum, we shouldn't process this\n",
    "    sum1 = 0\n",
    "    if num[index] <= sumVal:\n",
    "        sum1 = recursive_count_subsets(\n",
    "            num, sumVal - num[index], index + 1)\n",
    "\n",
    "    # recursive call after excluding the number at the currentIndex\n",
    "    sum2 = recursive_count_subsets(num, sumVal, index + 1)\n",
    "\n",
    "    return sum1 + sum2"
   ]
  },
  {
   "cell_type": "markdown",
   "metadata": {},
   "source": [
    "# Top-down Dynamic Programming with Memoization - O(N * S) runtime, O(N * S) space, where ‘N’ represents total numbers and ‘S’ is the desired sum"
   ]
  },
  {
   "cell_type": "code",
   "execution_count": 18,
   "metadata": {},
   "outputs": [],
   "source": [
    "def count_subsets(num, sumVal):\n",
    "    dp = [[-1 for x in range(sumVal + 1)] for y in range(len(num))]\n",
    "    return recursive_count_subsets(num, dp, sumVal, 0)\n",
    "\n",
    "def recursive_count_subsets(num, dp, sumVal, index):\n",
    "\n",
    "    # base checks\n",
    "    if sumVal == 0:\n",
    "        return 1\n",
    "    \n",
    "    n = len(num)\n",
    "    if n == 0 or index >= n:\n",
    "        return 0\n",
    "\n",
    "    if dp[index][sumVal] == -1: \n",
    "        \n",
    "        sum1 = 0\n",
    "        if num[index] <= sumVal:\n",
    "            sum1 = recursive_count_subsets(num, dp, sumVal - num[index], index + 1)\n",
    "\n",
    "        # recursive call after excluding the number at the currentIndex\n",
    "        sum2 = recursive_count_subsets(num, dp, sumVal, index + 1)\n",
    "        \n",
    "        dp[index][sumVal] = sum1 + sum2\n",
    "        \n",
    "    return dp[index][sumVal]"
   ]
  },
  {
   "cell_type": "markdown",
   "metadata": {},
   "source": [
    "# Bottom-up Dynamic Programming - O(N * S) runtime, O(N * S) space, where ‘N’ represents total numbers and ‘S’ is the desired sum"
   ]
  },
  {
   "cell_type": "code",
   "execution_count": 22,
   "metadata": {},
   "outputs": [],
   "source": [
    "def count_subsets(num, sumVal):\n",
    "    n = len(num)\n",
    "    dp = [[-1 for x in range(sumVal+1)] for y in range(n)]\n",
    "\n",
    "    # populate the sum = 0 columns, as we will always have an empty set for zero sum\n",
    "    for i in range(0, n):\n",
    "        dp[i][0] = 1\n",
    "\n",
    "    # with only one number, we can form a subset only when the required sum is\n",
    "    # equal to its value\n",
    "    for s in range(1, sumVal+1):\n",
    "        dp[0][s] = 1 if num[0] == s else 0\n",
    "\n",
    "    # process all subsets for all sums\n",
    "    for i in range(1, n):\n",
    "        for s in range(1, sumVal+1):\n",
    "            # exclude the number\n",
    "            dp[i][s] = dp[i - 1][s]\n",
    "            # include the number, if it does not exceed the sum\n",
    "            if s >= num[i]:\n",
    "                dp[i][s] += dp[i - 1][s - num[i]]\n",
    "\n",
    "    # the bottom-right corner will have our answer.\n",
    "    return dp[n - 1][sumVal]"
   ]
  },
  {
   "cell_type": "markdown",
   "metadata": {},
   "source": [
    "# Space Optimized Bottom-up Dynamic Programming - O(N * S) runtime, O(S) space, where ‘N’ represents total numbers and ‘S’ is the desired sum"
   ]
  },
  {
   "cell_type": "code",
   "execution_count": 28,
   "metadata": {},
   "outputs": [],
   "source": [
    "def count_subsets(num, sum):\n",
    "    n = len(num)\n",
    "    dp = [0 for x in range(sum+1)]\n",
    "    dp[0] = 1\n",
    "\n",
    "    # with only one number, we can form a subset only when the required sum is equal to the number\n",
    "    for s in range(1, sum+1):\n",
    "        dp[s] = 1 if num[0] == s else 0\n",
    "\n",
    "    # process all subsets for all sums\n",
    "    for i in range(1, n):\n",
    "        for s in range(sum, -1, -1):\n",
    "            if s >= num[i]:\n",
    "                dp[s] += dp[s - num[i]]\n",
    "\n",
    "    return dp[sum]"
   ]
  },
  {
   "cell_type": "code",
   "execution_count": 27,
   "metadata": {},
   "outputs": [
    {
     "data": {
      "text/plain": [
       "3"
      ]
     },
     "execution_count": 27,
     "metadata": {},
     "output_type": "execute_result"
    }
   ],
   "source": [
    "count_subsets([1, 2, 7, 1, 5], 9)"
   ]
  }
 ],
 "metadata": {
  "kernelspec": {
   "display_name": "Python 3",
   "language": "python",
   "name": "python3"
  },
  "language_info": {
   "codemirror_mode": {
    "name": "ipython",
    "version": 3
   },
   "file_extension": ".py",
   "mimetype": "text/x-python",
   "name": "python",
   "nbconvert_exporter": "python",
   "pygments_lexer": "ipython3",
   "version": "3.7.3"
  }
 },
 "nbformat": 4,
 "nbformat_minor": 2
}

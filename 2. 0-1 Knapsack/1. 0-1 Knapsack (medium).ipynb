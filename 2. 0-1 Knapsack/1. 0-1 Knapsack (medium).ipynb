{
 "cells": [
  {
   "cell_type": "markdown",
   "metadata": {},
   "source": [
    "Problem Statement <br/>\n",
    "\n",
    "Given two integer arrays to represent weights and profits of ‘N’ items, we need to find a subset of these items which will give us maximum profit such that their cumulative weight is not more than a given number ‘C’. Each item can only be selected once, which means either we put an item in the knapsack or we skip it <br/>\n",
    "\n",
    "Items: { Apple, Orange, Banana, Melon } <br/>\n",
    "Weights: { 2, 3, 1, 4 } <br/>\n",
    "Profits: { 4, 5, 3, 7 } <br/>\n",
    "Knapsack capacity: 5 <br/>\n",
    "    \n",
    "Apple + Orange (total weight 5) => 9 profit <br/>\n",
    "Apple + Banana (total weight 3) => 7 profit <br/>\n",
    "Orange + Banana (total weight 4) => 8 profit <br/>\n",
    "Banana + Melon (total weight 5) => 10 profit <br/>\n",
    "\n",
    "This shows that Banana + Melon is the best combination as it gives us the maximum profit and the total weight does not exceed the capacity."
   ]
  },
  {
   "cell_type": "markdown",
   "metadata": {},
   "source": [
    "# Brute Force Solution - O(2 ^ N) runtime, O(N) space"
   ]
  },
  {
   "cell_type": "code",
   "execution_count": 1,
   "metadata": {},
   "outputs": [],
   "source": [
    "def solve_knapsack(profits, weights, capacity):\n",
    "    return knapsack_recursive(profits, weights, capacity, 0)\n",
    "\n",
    "\n",
    "def knapsack_recursive(profits, weights, capacity, currentIndex):\n",
    "    # base checks\n",
    "    if capacity <= 0 or currentIndex >= len(profits):\n",
    "        return 0\n",
    "\n",
    "    # recursive call after choosing the element at the currentIndex\n",
    "    # if the weight of the element at currentIndex exceeds the capacity, we    shouldn't process this\n",
    "    profit1 = 0\n",
    "    if weights[currentIndex] <= capacity:\n",
    "        profit1 = profits[currentIndex] + knapsack_recursive(\n",
    "            profits, weights, capacity - weights[currentIndex], currentIndex + 1)\n",
    "\n",
    "    # recursive call after excluding the element at the currentIndex\n",
    "    profit2 = knapsack_recursive(profits, weights, capacity, currentIndex + 1)\n",
    "\n",
    "    return max(profit1, profit2)"
   ]
  },
  {
   "cell_type": "markdown",
   "metadata": {},
   "source": [
    "# Top-down Dynamic Programming with Memoization - O(N * C) runtime, O(N * C) space, where ‘N’ is the number of items and ‘C’ is the knapsack capacity"
   ]
  },
  {
   "cell_type": "code",
   "execution_count": 3,
   "metadata": {},
   "outputs": [],
   "source": [
    "def solve_knapsack(profits, weights, capacity):\n",
    "    # create a two dimensional array for Memoization, each element is initialized to '-1'\n",
    "    dp = [[-1 for x in range(capacity+1)] for y in range(len(profits))]\n",
    "    return knapsack_recursive(dp, profits, weights, capacity, 0)\n",
    "\n",
    "\n",
    "def knapsack_recursive(dp, profits, weights, capacity, currentIndex):\n",
    "\n",
    "    # base checks\n",
    "    if capacity <= 0 or currentIndex >= len(profits):\n",
    "        return 0\n",
    "\n",
    "    # if we have already solved a similar problem, return the result from memory\n",
    "    if dp[currentIndex][capacity] != -1:\n",
    "        return dp[currentIndex][capacity]\n",
    "\n",
    "    # recursive call after choosing the element at the currentIndex\n",
    "    # if the weight of the element at currentIndex exceeds the capacity, we\n",
    "    # shouldn't process this\n",
    "    profit1 = 0\n",
    "    if weights[currentIndex] <= capacity:\n",
    "        profit1 = profits[currentIndex] + knapsack_recursive(\n",
    "            dp, profits, weights, capacity - weights[currentIndex], currentIndex + 1)\n",
    "\n",
    "    # recursive call after excluding the element at the currentIndex\n",
    "    profit2 = knapsack_recursive(\n",
    "        dp, profits, weights, capacity, currentIndex + 1)\n",
    "\n",
    "    dp[currentIndex][capacity] = max(profit1, profit2)\n",
    "    return dp[currentIndex][capacity]\n"
   ]
  },
  {
   "cell_type": "markdown",
   "metadata": {},
   "source": [
    "# Bottom-up Dynamic Programming - O(N * C) runtime, O(N * C) space, where ‘N’ is the number of items and ‘C’ is the knapsack capacity"
   ]
  },
  {
   "cell_type": "code",
   "execution_count": 5,
   "metadata": {},
   "outputs": [],
   "source": [
    "def solve_knapsack(profits, weights, capacity):\n",
    "    # basic checks\n",
    "    n = len(profits)\n",
    "    if capacity <= 0 or n == 0 or len(weights) != n:\n",
    "        return 0\n",
    "\n",
    "    dp = [[0 for x in range(capacity+1)] for y in range(n)]\n",
    "\n",
    "    # populate the capacity = 0 columns, with '0' capacity we have '0' profit\n",
    "    for i in range(0, n):\n",
    "        dp[i][0] = 0\n",
    "\n",
    "    # if we have only one weight, we will take it if it is not more than the capacity\n",
    "    for c in range(0, capacity+1):\n",
    "        if weights[0] <= c:\n",
    "            dp[0][c] = profits[0]\n",
    "\n",
    "    # process all sub-arrays for all the capacities\n",
    "    for i in range(1, n):\n",
    "        for c in range(1, capacity+1):\n",
    "            profit1, profit2 = 0, 0\n",
    "            # include the item, if it is not more than the capacity\n",
    "            if weights[i] <= c:\n",
    "                profit1 = profits[i] + dp[i - 1][c - weights[i]]\n",
    "            # exclude the item\n",
    "            profit2 = dp[i - 1][c]\n",
    "            # take maximum\n",
    "            dp[i][c] = max(profit1, profit2)\n",
    "\n",
    "    # maximum profit will be at the bottom-right corner.\n",
    "    return dp[n - 1][capacity]\n",
    "\n",
    "def print_selected_elements(dp, weights, profits, capacity):\n",
    "    print(\"Selected weights are: \", end='')\n",
    "    n = len(weights)\n",
    "    totalProfit = dp[n-1][capacity]\n",
    "    for i in range(n-1, 0, -1):\n",
    "        if totalProfit != dp[i - 1][capacity]:\n",
    "            print(str(weights[i]) + \" \", end='')\n",
    "            capacity -= weights[i]\n",
    "            totalProfit -= profits[i]\n",
    "\n",
    "    if totalProfit != 0:\n",
    "        print(str(weights[0]) + \" \", end='')"
   ]
  },
  {
   "cell_type": "markdown",
   "metadata": {},
   "source": [
    "# Bottom-up Dynamic Programming Optimized for space - O(N * C) runtime, O(C) space, where ‘N’ is the number of items and ‘C’ is the knapsack capacity"
   ]
  },
  {
   "cell_type": "code",
   "execution_count": 7,
   "metadata": {},
   "outputs": [],
   "source": [
    "def solve_knapsack(profits, weights, capacity):\n",
    "    # basic checks\n",
    "    n = len(profits)\n",
    "    if capacity <= 0 or n == 0 or len(weights) != n:\n",
    "        return 0\n",
    "\n",
    "    # we only need one previous row to find the optimal solution, overall we need '2' rows\n",
    "    # the above solution is similar to the previous solution, the only difference is that\n",
    "    # we use `i % 2` instead if `i` and `(i-1) % 2` instead if `i-1`\n",
    "    dp = [[0 for x in range(capacity+1)] for y in range(2)]\n",
    "\n",
    "    # if we have only one weight, we will take it if it is not more than the capacity\n",
    "    for c in range(0, capacity+1):\n",
    "        if weights[0] <= c:\n",
    "            dp[0][c] = dp[1][c] = profits[0]\n",
    "\n",
    "    # process all sub-arrays for all the capacities\n",
    "    for i in range(1, n):\n",
    "        for c in range(0, capacity+1):\n",
    "            profit1, profit2 = 0, 0\n",
    "            # include the item, if it is not more than the capacity\n",
    "            if weights[i] <= c:\n",
    "                profit1 = profits[i] + dp[(i - 1) % 2][c - weights[i]]\n",
    "            # exclude the item\n",
    "            profit2 = dp[(i - 1) % 2][c]\n",
    "            # take maximum\n",
    "            dp[i % 2][c] = max(profit1, profit2)\n",
    "\n",
    "    return dp[(n - 1) % 2][capacity]"
   ]
  },
  {
   "cell_type": "markdown",
   "metadata": {},
   "source": [
    "# Bottom-up Dynamic Programming Even Further Optimized for space - O(N * C) runtime, O(C) space, where ‘N’ is the number of items and ‘C’ is the knapsack capacity"
   ]
  },
  {
   "cell_type": "code",
   "execution_count": 9,
   "metadata": {},
   "outputs": [],
   "source": [
    "def solve_knapsack(profits, weights, capacity):\n",
    "    # basic checks\n",
    "    n = len(profits)\n",
    "    if capacity <= 0 or n == 0 or len(weights) != n:\n",
    "        return 0\n",
    "\n",
    "    dp = [0 for x in range(capacity+1)]\n",
    "\n",
    "    # if we have only one weight, we will take it if it is not more than the capacity\n",
    "    for c in range(0, capacity+1):\n",
    "        if weights[0] <= c:\n",
    "            dp[c] = profits[0]\n",
    "\n",
    "    # process all sub-arrays for all the capacities\n",
    "    for i in range(1, n):\n",
    "        for c in range(capacity, -1, -1):\n",
    "            profit1, profit2 = 0, 0\n",
    "            # include the item, if it is not more than the capacity\n",
    "            if weights[i] <= c:\n",
    "                profit1 = profits[i] + dp[c - weights[i]]\n",
    "            # exclude the item\n",
    "            profit2 = dp[c]\n",
    "            # take maximum\n",
    "            dp[c] = max(profit1, profit2)\n",
    "\n",
    "    return dp[capacity]"
   ]
  },
  {
   "cell_type": "code",
   "execution_count": 10,
   "metadata": {},
   "outputs": [
    {
     "data": {
      "text/plain": [
       "16"
      ]
     },
     "execution_count": 10,
     "metadata": {},
     "output_type": "execute_result"
    }
   ],
   "source": [
    "solve_knapsack([1, 6, 10, 16], [1, 2, 3, 5], 5)"
   ]
  }
 ],
 "metadata": {
  "kernelspec": {
   "display_name": "Python 3",
   "language": "python",
   "name": "python3"
  },
  "language_info": {
   "codemirror_mode": {
    "name": "ipython",
    "version": 3
   },
   "file_extension": ".py",
   "mimetype": "text/x-python",
   "name": "python",
   "nbconvert_exporter": "python",
   "pygments_lexer": "ipython3",
   "version": "3.7.3"
  }
 },
 "nbformat": 4,
 "nbformat_minor": 2
}

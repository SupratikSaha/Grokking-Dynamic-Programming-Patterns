{
 "cells": [
  {
   "cell_type": "markdown",
   "metadata": {},
   "source": [
    "Problem Statement <br/>\n",
    "\n",
    "Given a set of positive numbers, determine if a subset exists whose sum is equal to a given number ‘S’. <br/>\n",
    "Example 1:  <br/>\n",
    "\n",
    "Input: {1, 2, 3, 7}, S=6 <br/>\n",
    "Output: True <br/>\n",
    "The given set has a subset whose sum is '6': {1, 2, 3} <br/>\n",
    "\n",
    "Example 2:  <br/>\n",
    "Input: {1, 2, 7, 1, 5}, S=10 <br/>\n",
    "Output: True <br/>\n",
    "The given set has a subset whose sum is '10': {1, 2, 7} <br/>\n",
    "\n",
    "Example 3:  <br/>\n",
    "Input: {1, 3, 4, 8}, S=6 <br/>\n",
    "Output: False <br/>\n",
    "The given set does not have any subset whose sum is equal to '6'."
   ]
  },
  {
   "cell_type": "markdown",
   "metadata": {},
   "source": [
    "# Brute Force Solution - O(2 ^ N) runtime, O(N) space"
   ]
  },
  {
   "cell_type": "code",
   "execution_count": 11,
   "metadata": {},
   "outputs": [],
   "source": [
    "def can_partition(num, sumVal):\n",
    "\n",
    "    return recursive_can_partition(num, sumVal, 0)\n",
    "\n",
    "def recursive_can_partition(num, sumVal, index):\n",
    "\n",
    "    if not num or index >= len(num):\n",
    "        return False\n",
    "    \n",
    "    if sumVal == 0:\n",
    "        return True\n",
    "    \n",
    "    if num[index] <= sumVal and recursive_can_partition(num, sumVal - num[index], index + 1):\n",
    "        return True\n",
    "    \n",
    "    return recursive_can_partition(num, sumVal, index + 1)"
   ]
  },
  {
   "cell_type": "markdown",
   "metadata": {},
   "source": [
    "# Top-down Dynamic Programming with Memoization - O(N * S) runtime, O(N * S) space, where ‘N’ represents total numbers and ‘S’ is the required sum"
   ]
  },
  {
   "cell_type": "code",
   "execution_count": 13,
   "metadata": {},
   "outputs": [],
   "source": [
    "def can_partition(num, sumVal):\n",
    "\n",
    "    dp = [[-1 for i in range(sumVal + 1)] for j in range(len(num))]\n",
    "    return True if recursive_can_partition(num, sumVal, dp, 0) == 1 else False\n",
    "\n",
    "def recursive_can_partition(num, sumVal, dp, index):\n",
    "\n",
    "    if not num or index >= len(num):\n",
    "        return 0\n",
    "    \n",
    "    if sumVal == 0:\n",
    "        return 1\n",
    "\n",
    "    if dp[index][sumVal] == -1:\n",
    "        if num[index] <= sumVal and recursive_can_partition(num, sumVal - num[index], dp, index + 1) == 1:\n",
    "            dp[index][sumVal] = 1\n",
    "            return 1\n",
    "\n",
    "        dp[index][sumVal] = recursive_can_partition(num, sumVal, dp, index + 1)\n",
    "    \n",
    "    return dp[index][sumVal]"
   ]
  },
  {
   "cell_type": "markdown",
   "metadata": {},
   "source": [
    "# Bottom-up Dynamic Programming - O(N * S) runtime, O(N * S) space, where ‘N’ represents total numbers and ‘S’ is the required sum."
   ]
  },
  {
   "cell_type": "code",
   "execution_count": 9,
   "metadata": {},
   "outputs": [],
   "source": [
    "def can_partition(num, sumVal):\n",
    "\n",
    "    if sumVal == 0:\n",
    "        return True\n",
    "\n",
    "    if not num:\n",
    "        return False\n",
    "\n",
    "    n = len(num)\n",
    "    dp = [[False for i in range(sumVal + 1)] for j in range(n)]\n",
    "    \n",
    "    for i in range(n):\n",
    "        dp[i][0] == True\n",
    "    \n",
    "    for j in range(1, sumVal+1):\n",
    "        dp[0][j] = num[0] == j\n",
    "\n",
    "    for i in range(1, n):\n",
    "        for j in range(1, sumVal+1):\n",
    "            # if we can get the sum 'j' without the number at index 'i'\n",
    "            if dp[i - 1][j]:\n",
    "                dp[i][j] = dp[i - 1][j]\n",
    "            elif j >= num[i]:        # else if we can find a subset to get the remaining sum\n",
    "                dp[i][j] = dp[i - 1][j - num[i]]\n",
    "\n",
    "    # the bottom-right corner will have our answer.\n",
    "    return dp[n - 1][sumVal]"
   ]
  },
  {
   "cell_type": "markdown",
   "metadata": {},
   "source": [
    "# Space Optimized Bottom Up Dynamic programming - O(N * S) runtime, O(S) space, where ‘N’ represents total numbers and ‘S’ is the required sum."
   ]
  },
  {
   "cell_type": "code",
   "execution_count": 15,
   "metadata": {},
   "outputs": [],
   "source": [
    "def can_partition(num, sumVal):\n",
    "\n",
    "    if sumVal == 0:\n",
    "        return True\n",
    "\n",
    "    if not num:\n",
    "        return False\n",
    "\n",
    "    n = len(num)\n",
    "    dp = [False for i in range(sumVal + 1)]\n",
    "    \n",
    "    dp[0] == True\n",
    "    \n",
    "    for j in range(1, sumVal+1):\n",
    "        dp[j] = num[0] == j\n",
    "\n",
    "    for i in range(1, n):\n",
    "        for j in range(sumVal, -1, -1):\n",
    "            if not dp[j] and j >= num[i]:\n",
    "                dp[j] = dp[j - num[i]]\n",
    "\n",
    "    # the bottom-right corner will have our answer.\n",
    "    return dp[sumVal]"
   ]
  },
  {
   "cell_type": "code",
   "execution_count": 16,
   "metadata": {},
   "outputs": [
    {
     "data": {
      "text/plain": [
       "True"
      ]
     },
     "execution_count": 16,
     "metadata": {},
     "output_type": "execute_result"
    }
   ],
   "source": [
    "can_partition([1, 2, 3, 7], 6)"
   ]
  }
 ],
 "metadata": {
  "kernelspec": {
   "display_name": "Python 3",
   "language": "python",
   "name": "python3"
  },
  "language_info": {
   "codemirror_mode": {
    "name": "ipython",
    "version": 3
   },
   "file_extension": ".py",
   "mimetype": "text/x-python",
   "name": "python",
   "nbconvert_exporter": "python",
   "pygments_lexer": "ipython3",
   "version": "3.7.3"
  }
 },
 "nbformat": 4,
 "nbformat_minor": 2
}

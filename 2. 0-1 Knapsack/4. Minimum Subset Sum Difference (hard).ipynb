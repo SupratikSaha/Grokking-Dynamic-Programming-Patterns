{
 "cells": [
  {
   "cell_type": "markdown",
   "metadata": {},
   "source": [
    "Problem Statement <br/>\n",
    "\n",
    "Given a set of positive numbers, partition the set into two subsets with minimum difference between their subset sums. <br/>\n",
    "Example 1: <br/>\n",
    "\n",
    "Input: {1, 2, 3, 9} <br/>\n",
    "Output: 3 <br/>\n",
    "Explanation: We can partition the given set into two subsets where minimum absolute difference \n",
    "between the sum of numbers is '3'. Following are the two subsets: {1, 2, 3} & {9}. <br/>\n",
    "\n",
    "Example 2: <br/>\n",
    "\n",
    "Input: {1, 2, 7, 1, 5} <br/>\n",
    "Output: 0 <br/>\n",
    "Explanation: We can partition the given set into two subsets where minimum absolute difference \n",
    "between the sum of number is '0'. Following are the two subsets: {1, 2, 5} & {7, 1}. <br/>\n",
    "\n",
    "Example 3: <br/>\n",
    "\n",
    "Input: {1, 3, 100, 4} <br/>\n",
    "Output: 92 <br/>\n",
    "Explanation: We can partition the given set into two subsets where minimum absolute difference \n",
    "between the sum of numbers is '92'. Here are the two subsets: {1, 3, 4} & {100}. <br/>"
   ]
  },
  {
   "cell_type": "markdown",
   "metadata": {},
   "source": [
    "# Brute Force Solution - O(2 ^ N) runtime, O(N) space"
   ]
  },
  {
   "cell_type": "code",
   "execution_count": 5,
   "metadata": {},
   "outputs": [],
   "source": [
    "def can_partition(num):\n",
    "\n",
    "    return recursive_can_partition(num, 0, 0, 0)\n",
    "\n",
    "def recursive_can_partition(num, sum1, sum2, index):\n",
    "    if index == len(num):\n",
    "        return abs(sum2 - sum1)\n",
    "    \n",
    "    diff1 = recursive_can_partition(num, sum1 + num[index], sum2, index + 1)\n",
    "    diff2 = recursive_can_partition(num, sum1, sum2 + num[index], index + 1)\n",
    "\n",
    "    return min(diff1, diff2)"
   ]
  },
  {
   "cell_type": "markdown",
   "metadata": {},
   "source": [
    "# Top-down Dynamic Programming with Memoization - O(N * S) runtime, O(N * S) space, where ‘N’ represents total numbers and ‘S’ is the total array sum"
   ]
  },
  {
   "cell_type": "code",
   "execution_count": 9,
   "metadata": {},
   "outputs": [],
   "source": [
    "def can_partition(num):\n",
    "    s = sum(num)\n",
    "    dp = [[-1 for x in range(s+1)] for y in range(len(num))]\n",
    "    return can_partition_recursive(dp, num, 0, 0, 0)\n",
    "\n",
    "\n",
    "def can_partition_recursive(dp, num, currentIndex, sum1, sum2):\n",
    "    # base check\n",
    "    if currentIndex == len(num):\n",
    "        return abs(sum1 - sum2)\n",
    "\n",
    "    # check if we have not already processed similar problem\n",
    "    if dp[currentIndex][sum1] == -1:\n",
    "        # recursive call after including the number at the currentIndex in the first set\n",
    "        diff1 = can_partition_recursive(\n",
    "            dp, num, currentIndex + 1, sum1 + num[currentIndex], sum2)\n",
    "\n",
    "        # recursive call after including the number at the currentIndex in the second set\n",
    "        diff2 = can_partition_recursive(\n",
    "            dp, num, currentIndex + 1, sum1, sum2 + num[currentIndex])\n",
    "\n",
    "        dp[currentIndex][sum1] = min(diff1, diff2)\n",
    "\n",
    "    return dp[currentIndex][sum1]"
   ]
  },
  {
   "cell_type": "markdown",
   "metadata": {},
   "source": [
    "# Bottom-up Dynamic Programming - O(N * S) runtime, O(N * S) space, where ‘N’ represents total numbers and ‘S’ is the total array sum"
   ]
  },
  {
   "cell_type": "code",
   "execution_count": 11,
   "metadata": {},
   "outputs": [],
   "source": [
    "def can_partition(num):\n",
    "    s = sum(num)\n",
    "    n = len(num)\n",
    "    dp = [[False for x in range(int(s/2)+1)] for y in range(n)]\n",
    "\n",
    "    # populate the s=0 columns, as we can always form '0' sum with an empty set\n",
    "    for i in range(0, n):\n",
    "        dp[i][0] = True\n",
    "\n",
    "    # with only one number, we can form a subset only when the required sum is equal to that number\n",
    "    for j in range(0, int(s/2)+1):\n",
    "        dp[0][j] = num[0] == j\n",
    "\n",
    "    # process all subsets for all sums\n",
    "    for i in range(1, n):\n",
    "        for j in range(1, int(s/2)+1):\n",
    "            # if we can get the sum 's' without the number at index 'i'\n",
    "            if dp[i - 1][j]:\n",
    "                dp[i][j] = dp[i - 1][j]\n",
    "            elif j >= num[i]:\n",
    "                # else include the number and see if we can find a subset to get the remaining sum\n",
    "                dp[i][j] = dp[i - 1][j - num[i]]\n",
    "\n",
    "    sum1 = 0\n",
    "    # find the largest index in the last row which is true\n",
    "    for i in range(int(s/2), -1, -1):\n",
    "        if dp[n - 1][i]:\n",
    "            sum1 = i\n",
    "            break\n",
    "\n",
    "    sum2 = s - sum1\n",
    "    return abs(sum2 - sum1)"
   ]
  },
  {
   "cell_type": "code",
   "execution_count": 10,
   "metadata": {},
   "outputs": [
    {
     "data": {
      "text/plain": [
       "3"
      ]
     },
     "execution_count": 10,
     "metadata": {},
     "output_type": "execute_result"
    }
   ],
   "source": [
    "can_partition([1, 2, 3, 9])"
   ]
  }
 ],
 "metadata": {
  "kernelspec": {
   "display_name": "Python 3",
   "language": "python",
   "name": "python3"
  },
  "language_info": {
   "codemirror_mode": {
    "name": "ipython",
    "version": 3
   },
   "file_extension": ".py",
   "mimetype": "text/x-python",
   "name": "python",
   "nbconvert_exporter": "python",
   "pygments_lexer": "ipython3",
   "version": "3.7.3"
  }
 },
 "nbformat": 4,
 "nbformat_minor": 2
}

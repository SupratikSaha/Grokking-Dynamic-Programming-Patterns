{
 "cells": [
  {
   "cell_type": "markdown",
   "metadata": {},
   "source": [
    "Problem Statement <br/>\n",
    "\n",
    "Let’s take the example of the Fibonacci numbers.  <br/>\n",
    "As we all know, Fibonacci numbers are a series of numbers in which each number is the sum of the two preceding numbers.  <br/>\n",
    "The first few Fibonacci numbers are 0, 1, 1, 2, 3, 5, and 8, and they continue on from there. <br/>"
   ]
  },
  {
   "cell_type": "markdown",
   "metadata": {},
   "source": [
    "# Brute Force - O(2 ^ N) runtime, O(N) space"
   ]
  },
  {
   "cell_type": "code",
   "execution_count": 3,
   "metadata": {},
   "outputs": [],
   "source": [
    "def calculateFibonacci(n):\n",
    "    if n < 2:\n",
    "        return n\n",
    "\n",
    "    return calculateFibonacci(n - 1) + calculateFibonacci(n - 2)"
   ]
  },
  {
   "cell_type": "markdown",
   "metadata": {},
   "source": [
    "# Top-down with Memoization - O(N) runtime, O(N) space"
   ]
  },
  {
   "cell_type": "code",
   "execution_count": 5,
   "metadata": {},
   "outputs": [],
   "source": [
    "def calculateFibonacci(n):\n",
    "    memoize = [-1 for x in range(n+1)]\n",
    "    return calculateFibonacciRecur(memoize, n)\n",
    "\n",
    "\n",
    "def calculateFibonacciRecur(memoize, n):\n",
    "    if n < 2:\n",
    "        return n\n",
    "\n",
    "    # if we have already solved this subproblem, simply return the result from the cache\n",
    "    if memoize[n] >= 0:\n",
    "        return memoize[n]\n",
    "\n",
    "    memoize[n] = calculateFibonacciRecur(\n",
    "        memoize, n - 1) + calculateFibonacciRecur(memoize, n - 2)\n",
    "    return memoize[n]"
   ]
  },
  {
   "cell_type": "markdown",
   "metadata": {},
   "source": [
    "# Bottom-up with Tabulation - O(N) runtime, O(N) space"
   ]
  },
  {
   "cell_type": "code",
   "execution_count": 7,
   "metadata": {},
   "outputs": [],
   "source": [
    "def calculateFibonacci(n):\n",
    "    dp = [0, 1]\n",
    "    for i in range(2, n + 1):\n",
    "        dp.append(dp[i - 1] + dp[i - 2])\n",
    "\n",
    "    return dp[n]"
   ]
  },
  {
   "cell_type": "code",
   "execution_count": 8,
   "metadata": {},
   "outputs": [
    {
     "data": {
      "text/plain": [
       "5"
      ]
     },
     "execution_count": 8,
     "metadata": {},
     "output_type": "execute_result"
    }
   ],
   "source": [
    "calculateFibonacci(5)"
   ]
  }
 ],
 "metadata": {
  "kernelspec": {
   "display_name": "Python 3",
   "language": "python",
   "name": "python3"
  },
  "language_info": {
   "codemirror_mode": {
    "name": "ipython",
    "version": 3
   },
   "file_extension": ".py",
   "mimetype": "text/x-python",
   "name": "python",
   "nbconvert_exporter": "python",
   "pygments_lexer": "ipython3",
   "version": "3.7.3"
  }
 },
 "nbformat": 4,
 "nbformat_minor": 2
}

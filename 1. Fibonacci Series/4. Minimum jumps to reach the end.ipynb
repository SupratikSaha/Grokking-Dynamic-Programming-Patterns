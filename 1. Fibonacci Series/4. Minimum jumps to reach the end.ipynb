{
 "cells": [
  {
   "cell_type": "markdown",
   "metadata": {},
   "source": [
    "Problem Statement <br/>\n",
    "\n",
    "Given an array of positive numbers, where each element represents the max number of jumps that can be made forward from that element, write a program to find the minimum number of jumps needed to reach the end of the array (starting from the first element). If an element is 0, then we cannot move through that element. <br/>\n",
    "\n",
    "Example 1: <br/>\n",
    "Input = {2,1,1,1,4} <br/>\n",
    "Output = 3 <br/>\n",
    "Explanation: Starting from index '0', we can reach the last index through: 0->2->3->4 <br/>\n",
    "\n",
    "Example 2: <br/>\n",
    "Input = {1,1,3,6,9,3,0,1,3} <br/>\n",
    "Output = 4 <br/>\n",
    "Explanation: Starting from index '0', we can reach the last index through: 0->1->2->3->8"
   ]
  },
  {
   "cell_type": "markdown",
   "metadata": {},
   "source": [
    "# Brute Force - O(3 ^ N) runtime, O(N) space"
   ]
  },
  {
   "cell_type": "code",
   "execution_count": 13,
   "metadata": {},
   "outputs": [],
   "source": [
    "def count_min_jumps(jumps):\n",
    "    return count_min_jumps_recursive(jumps, 0)\n",
    "\n",
    "def count_min_jumps_recursive(jumps, currentIndex):\n",
    "    n = len(jumps)\n",
    "    if currentIndex == n - 1:\n",
    "        return 0\n",
    "    \n",
    "    currJumps = jumps[currentIndex]\n",
    "    if currJumps == 0:\n",
    "        return float('inf')\n",
    "    \n",
    "    min_jumps = float('inf')\n",
    "    end = min(n - currentIndex, currJumps + 1)\n",
    "    for i in range(1, end):\n",
    "        min_jumps = min(min_jumps, 1 + count_min_jumps_recursive(jumps, currentIndex + i))\n",
    "    \n",
    "    return min_jumps"
   ]
  },
  {
   "cell_type": "markdown",
   "metadata": {},
   "source": [
    "# Top-down with Memoization - O(N) runtime, O(N) space"
   ]
  },
  {
   "cell_type": "code",
   "execution_count": 15,
   "metadata": {},
   "outputs": [],
   "source": [
    "def count_min_jumps(jumps):\n",
    "    dp = [-1 for x in range(len(jumps))]\n",
    "    return count_min_jumps_recursive(dp, jumps, 0)\n",
    "\n",
    "def count_min_jumps_recursive(dp, jumps, currentIndex):\n",
    "    n = len(jumps)\n",
    "    if currentIndex == n - 1:\n",
    "        return 0\n",
    "    \n",
    "    currJumps = jumps[currentIndex]\n",
    "    if currJumps == 0:\n",
    "        return float('inf')\n",
    "    \n",
    "    if dp[currentIndex] == -1:\n",
    "        min_jumps = float('inf')\n",
    "        end = min(n - currentIndex, currJumps + 1)\n",
    "        for i in range(1, end):\n",
    "            min_jumps = min(min_jumps, 1 + count_min_jumps_recursive(dp, jumps, currentIndex + i))\n",
    "                \n",
    "        dp[currentIndex] = min_jumps\n",
    "    \n",
    "    return dp[currentIndex]"
   ]
  },
  {
   "cell_type": "markdown",
   "metadata": {},
   "source": [
    "# Bottom-up with Tabulation - O(N) runtime, O(N) space"
   ]
  },
  {
   "cell_type": "code",
   "execution_count": 36,
   "metadata": {},
   "outputs": [],
   "source": [
    "def count_min_jumps(jumps):\n",
    "    \n",
    "    n = len(jumps)\n",
    "    \n",
    "    dp = [float('inf') for _ in range(n)]\n",
    "    \n",
    "    currJumps = jumps[0]\n",
    "    if currJumps == 0:\n",
    "        return float('inf')\n",
    "    dp[0] = 0\n",
    "    \n",
    "    for start in range(n - 1):\n",
    "        currJumps = jumps[start]\n",
    "        end = min(n - 1, start + currJumps)\n",
    "        for i in range(start + 1, end + 1):\n",
    "            dp[i] = min(dp[i], 1 + dp[start])\n",
    "            \n",
    "    print(dp)\n",
    "    \n",
    "    return dp[n - 1]"
   ]
  },
  {
   "cell_type": "code",
   "execution_count": 37,
   "metadata": {},
   "outputs": [
    {
     "name": "stdout",
     "output_type": "stream",
     "text": [
      "[0, 1, 2, 3, 3, 3, 4, 4, 4]\n"
     ]
    },
    {
     "data": {
      "text/plain": [
       "4"
      ]
     },
     "execution_count": 37,
     "metadata": {},
     "output_type": "execute_result"
    }
   ],
   "source": [
    "count_min_jumps([1, 1, 3, 6, 9, 3, 0, 1, 3])"
   ]
  }
 ],
 "metadata": {
  "kernelspec": {
   "display_name": "Python 3",
   "language": "python",
   "name": "python3"
  },
  "language_info": {
   "codemirror_mode": {
    "name": "ipython",
    "version": 3
   },
   "file_extension": ".py",
   "mimetype": "text/x-python",
   "name": "python",
   "nbconvert_exporter": "python",
   "pygments_lexer": "ipython3",
   "version": "3.7.3"
  }
 },
 "nbformat": 4,
 "nbformat_minor": 2
}

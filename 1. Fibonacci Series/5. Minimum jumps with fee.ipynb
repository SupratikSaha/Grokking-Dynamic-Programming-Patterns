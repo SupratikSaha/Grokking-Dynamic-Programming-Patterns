{
 "cells": [
  {
   "cell_type": "markdown",
   "metadata": {},
   "source": [
    "Problem Statement <br/>\n",
    "\n",
    "Given a staircase with ‘n’ steps and an array of ‘n’ numbers representing the fee that you have to pay if you take the step. Implement a method to calculate the minimum fee required to reach the top of the staircase (beyond the top-most step). At every step, you have an option to take either 1 step, 2 steps, or 3 steps. You should assume that you are standing at the first step. <br/>\n",
    "\n",
    "Example 1: <br/>\n",
    "Number of stairs (n) : 6 <br/>\n",
    "Fee: {1,2,5,2,1,2} <br/>\n",
    "Output: 3 <br/>\n",
    "Explanation: Starting from index '0', we can reach the top through: 0->3->top <br/>\n",
    "The total fee we have to pay will be (1+2). <br/>\n",
    "\n",
    "Example 2: <br/>\n",
    "Number of stairs (n): 4 <br/>\n",
    "Fee: {2,3,4,5} <br/>\n",
    "Output: 5 <br/>\n",
    "Explanation: Starting from index '0', we can reach the top through: 0->1->top <br/>\n",
    "The total fee we have to pay will be (2+3)."
   ]
  },
  {
   "cell_type": "markdown",
   "metadata": {},
   "source": [
    "# Brute Force - O(3 ^ N) runtime, O(N) space"
   ]
  },
  {
   "cell_type": "code",
   "execution_count": 12,
   "metadata": {},
   "outputs": [],
   "source": [
    "def find_min_fee(fee):\n",
    "    return find_min_fee_recursive(fee, 0)\n",
    "    \n",
    "def find_min_fee_recursive(fee, currentIndex):\n",
    "    n = len(fee)\n",
    "    if currentIndex >= n:\n",
    "        return 0\n",
    "    \n",
    "    take1Step = find_min_fee_recursive(fee, currentIndex + 1)\n",
    "    take2Step = find_min_fee_recursive(fee, currentIndex + 2)\n",
    "    take3Step = find_min_fee_recursive(fee, currentIndex + 3)\n",
    "    \n",
    "    return fee[currentIndex] + min(take1Step, take2Step, take3Step)"
   ]
  },
  {
   "cell_type": "markdown",
   "metadata": {},
   "source": [
    "# Top-down with Memoization - O(N) runtime, O(N) space"
   ]
  },
  {
   "cell_type": "code",
   "execution_count": 14,
   "metadata": {},
   "outputs": [],
   "source": [
    "def find_min_fee(fee):\n",
    "    dp = [float('inf') for x in range(len(fee))]\n",
    "    return find_min_fee_recursive(dp, fee, 0)\n",
    "    \n",
    "def find_min_fee_recursive(dp, fee, currentIndex):\n",
    "    n = len(fee)\n",
    "    if currentIndex >= n:\n",
    "        return 0\n",
    "    \n",
    "    if dp[currentIndex] == float('inf'):\n",
    "        take1Step = find_min_fee_recursive(dp, fee, currentIndex + 1)\n",
    "        take2Step = find_min_fee_recursive(dp, fee, currentIndex + 2)\n",
    "        take3Step = find_min_fee_recursive(dp, fee, currentIndex + 3)\n",
    "        dp[currentIndex] = fee[currentIndex] + min(take1Step, take2Step, take3Step)\n",
    "    \n",
    "    return dp[currentIndex]"
   ]
  },
  {
   "cell_type": "markdown",
   "metadata": {},
   "source": [
    "# Bottom-up with Tabulation - O(N) runtime, O(N) space"
   ]
  },
  {
   "cell_type": "code",
   "execution_count": 34,
   "metadata": {},
   "outputs": [],
   "source": [
    "def find_min_fee(fee):\n",
    "    n = len(fee)\n",
    "    dp = [float('inf') for x in range(n + 1)]\n",
    "\n",
    "    dp[0] = fee[0]\n",
    "    for i in range(1, n + 1):\n",
    "        take1step = dp[i - 1]\n",
    "        take2step = dp[i - 2] if i >= 2 else float('inf')\n",
    "        take3step = dp[i - 3] if i >= 3 else float('inf')\n",
    "        dp[i] = min(take1step, take2step, take3step)\n",
    "        if i < n:\n",
    "            dp[i] += fee[i]\n",
    "    \n",
    "    print(dp)\n",
    "    \n",
    "    return dp[n]"
   ]
  },
  {
   "cell_type": "markdown",
   "metadata": {},
   "source": [
    "# Space Optimized Bottom Up - O(N) runtime, O(1) space"
   ]
  },
  {
   "cell_type": "code",
   "execution_count": 15,
   "metadata": {},
   "outputs": [],
   "source": [
    "def count_ways(n):\n",
    "    if n < 2:\n",
    "        return 1\n",
    "\n",
    "    n1, n2, n3, n4 = 1, 1, 1, 2\n",
    "    for i in range(4, n+1):\n",
    "        n1, n2, n3, n4 = n2, n3, n4, n1+n2+n4\n",
    "    return n4"
   ]
  },
  {
   "cell_type": "code",
   "execution_count": 35,
   "metadata": {},
   "outputs": [
    {
     "name": "stdout",
     "output_type": "stream",
     "text": [
      "[2, 5, 6, 7, 5]\n"
     ]
    },
    {
     "data": {
      "text/plain": [
       "5"
      ]
     },
     "execution_count": 35,
     "metadata": {},
     "output_type": "execute_result"
    }
   ],
   "source": [
    "find_min_fee([2, 3, 4, 5])"
   ]
  }
 ],
 "metadata": {
  "kernelspec": {
   "display_name": "Python 3",
   "language": "python",
   "name": "python3"
  },
  "language_info": {
   "codemirror_mode": {
    "name": "ipython",
    "version": 3
   },
   "file_extension": ".py",
   "mimetype": "text/x-python",
   "name": "python",
   "nbconvert_exporter": "python",
   "pygments_lexer": "ipython3",
   "version": "3.7.3"
  }
 },
 "nbformat": 4,
 "nbformat_minor": 2
}

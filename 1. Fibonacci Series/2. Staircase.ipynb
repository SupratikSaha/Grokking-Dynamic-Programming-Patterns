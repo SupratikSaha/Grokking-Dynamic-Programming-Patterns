{
 "cells": [
  {
   "cell_type": "markdown",
   "metadata": {},
   "source": [
    "Problem Statement <br/>\n",
    "\n",
    "Given a stair with ‘n’ steps, implement a method to count how many possible ways are there to reach the top of the staircase, given that, at every step you can either take 1 step, 2 steps, or 3 steps. <br/>\n",
    "\n",
    "Example 1: <br/>\n",
    "Number of stairs (n) : 3 <br/>\n",
    "Number of ways = 4 <br/>\n",
    "Explanation: Following are the four ways we can climb : {1,1,1}, {1,2}, {2,1}, {3} <br/>\n",
    "\n",
    "Example 2: <br/>\n",
    "Number of stairs (n) : 4 <br/>\n",
    "Number of ways = 7 <br/>\n",
    "Explanation: Following are the seven ways we can climb : {1,1,1,1}, {1,1,2}, {1,2,1}, {2,1,1}, {2,2}, {1,3}, {3,1}"
   ]
  },
  {
   "cell_type": "markdown",
   "metadata": {},
   "source": [
    "# Brute Force - O(3 ^ N) runtime, O(N) space"
   ]
  },
  {
   "cell_type": "code",
   "execution_count": 14,
   "metadata": {},
   "outputs": [],
   "source": [
    "def count_ways(n):\n",
    "    if n == 0:\n",
    "        return 1\n",
    "    if n == 1:\n",
    "        return 1\n",
    "    \n",
    "    count3, count2 = 0, 0\n",
    "    if n >= 3:\n",
    "        count3 = count_ways(n - 3)\n",
    "    if n >= 2:\n",
    "        count2 = count_ways(n - 2)\n",
    "    count1 = count_ways(n - 1)\n",
    "    \n",
    "    return count1 + count2 + count3"
   ]
  },
  {
   "cell_type": "markdown",
   "metadata": {},
   "source": [
    "# Top-down with Memoization - O(N) runtime, O(N) space"
   ]
  },
  {
   "cell_type": "code",
   "execution_count": 19,
   "metadata": {},
   "outputs": [],
   "source": [
    "def count_ways(n):\n",
    "    memoize = [-1 for x in range(n+1)]\n",
    "    return count_ways_recurive(memoize, n)\n",
    "\n",
    "\n",
    "def count_ways_recurive(memoize, n):\n",
    "    if n == 0:\n",
    "        return 1\n",
    "    if n == 1:\n",
    "        return 1\n",
    "\n",
    "    # if we have already solved this subproblem, simply return the result from the cache\n",
    "    if memoize[n] == -1:\n",
    "        count3, count2 = 0, 0\n",
    "        if n >= 3:\n",
    "            count3 = count_ways_recurive(memoize, n - 3)\n",
    "        if n >= 2:\n",
    "            count2 = count_ways_recurive(memoize, n - 2)\n",
    "        count1 = count_ways_recurive(memoize, n - 1)\n",
    "\n",
    "        memoize[n] = count1 + count2 + count3\n",
    "    return memoize[n]"
   ]
  },
  {
   "cell_type": "markdown",
   "metadata": {},
   "source": [
    "# Bottom-up with Tabulation - O(N) runtime, O(N) space"
   ]
  },
  {
   "cell_type": "code",
   "execution_count": 21,
   "metadata": {},
   "outputs": [],
   "source": [
    "def count_ways(n):\n",
    "    dp = [1, 1, 2]\n",
    "    for i in range(3, n + 1):\n",
    "        dp.append(dp[i - 1] + dp[i - 2] + dp[i - 3])\n",
    "\n",
    "    return dp[n]"
   ]
  },
  {
   "cell_type": "markdown",
   "metadata": {},
   "source": [
    "# Space Optimized Bottom Up - O(N) runtime, O(1) space"
   ]
  },
  {
   "cell_type": "code",
   "execution_count": 25,
   "metadata": {},
   "outputs": [],
   "source": [
    "def count_ways(n):\n",
    "    if n < 2:\n",
    "        return 1\n",
    "    if n == 2:\n",
    "        return 2\n",
    "\n",
    "    n1, n2, n3 = 1, 1, 2\n",
    "    for i in range(3, n+1):\n",
    "        n1, n2, n3 = n2, n3, n1+n2+n3\n",
    "    return n3"
   ]
  },
  {
   "cell_type": "code",
   "execution_count": 26,
   "metadata": {},
   "outputs": [
    {
     "data": {
      "text/plain": [
       "13"
      ]
     },
     "execution_count": 26,
     "metadata": {},
     "output_type": "execute_result"
    }
   ],
   "source": [
    "count_ways(5)"
   ]
  }
 ],
 "metadata": {
  "kernelspec": {
   "display_name": "Python 3",
   "language": "python",
   "name": "python3"
  },
  "language_info": {
   "codemirror_mode": {
    "name": "ipython",
    "version": 3
   },
   "file_extension": ".py",
   "mimetype": "text/x-python",
   "name": "python",
   "nbconvert_exporter": "python",
   "pygments_lexer": "ipython3",
   "version": "3.7.3"
  }
 },
 "nbformat": 4,
 "nbformat_minor": 2
}

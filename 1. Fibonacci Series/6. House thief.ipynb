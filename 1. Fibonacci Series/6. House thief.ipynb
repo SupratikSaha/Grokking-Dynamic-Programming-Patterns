{
 "cells": [
  {
   "cell_type": "markdown",
   "metadata": {},
   "source": [
    "Problem Statement <br/>\n",
    "\n",
    "There are ‘n’ houses built in a line. A thief wants to steal maximum possible money from these houses. The only restriction the thief has is that he can’t steal from two consecutive houses, as that would alert the security system. How should the thief maximize his stealing? <br/>\n",
    "\n",
    "Example 1: <br/>\n",
    "Input: {2, 5, 1, 3, 6, 2, 4} <br/>\n",
    "Output: 15 <br/>\n",
    "Explanation: The thief should steal from houses 5 + 6 + 4 <br/>\n",
    "\n",
    "Example 2: <br/>\n",
    "Input: {2, 10, 14, 8, 1} <br/>\n",
    "Output: 18 <br/>\n",
    "Explanation: The thief should steal from houses 10 + 8"
   ]
  },
  {
   "cell_type": "markdown",
   "metadata": {},
   "source": [
    "# Brute Force - O(2 ^ N) runtime, O(N) space"
   ]
  },
  {
   "cell_type": "code",
   "execution_count": 20,
   "metadata": {},
   "outputs": [],
   "source": [
    "def find_max_steal(wealth):\n",
    "    return find_max_steal_recursive(wealth, 0)\n",
    "    \n",
    "def find_max_steal_recursive(wealth, currentIndex):\n",
    "    n = len(wealth)\n",
    "    if currentIndex >= n:\n",
    "        return 0\n",
    "    \n",
    "    # steal from current house and skip one to steal next\n",
    "    stealCurrent = wealth[currentIndex] + find_max_steal_recursive(wealth, currentIndex + 2)\n",
    "    # skip current house to steel from the adjacent house\n",
    "    skipCurrent = find_max_steal_recursive(wealth, currentIndex + 1)\n",
    "    \n",
    "    return max(stealCurrent, skipCurrent)"
   ]
  },
  {
   "cell_type": "markdown",
   "metadata": {},
   "source": [
    "# Top-down with Memoization - O(N) runtime, O(N) space"
   ]
  },
  {
   "cell_type": "code",
   "execution_count": 22,
   "metadata": {},
   "outputs": [],
   "source": [
    "def find_max_steal(wealth):\n",
    "    dp = [0 for x in range(len(wealth))]\n",
    "    return find_max_steal_recursive(dp, wealth, 0)\n",
    "    \n",
    "def find_max_steal_recursive(dp, wealth, currentIndex):\n",
    "    n = len(wealth)\n",
    "    if currentIndex >= n:\n",
    "        return 0\n",
    "    \n",
    "    if dp[currentIndex] == 0:\n",
    "        # steal from current house and skip one to steal next\n",
    "        stealCurrent = wealth[currentIndex] + find_max_steal_recursive(dp, wealth, currentIndex + 2)\n",
    "        # skip current house to steel from the adjacent house\n",
    "        skipCurrent = find_max_steal_recursive(dp, wealth, currentIndex + 1)\n",
    "        dp[currentIndex] = max(stealCurrent, skipCurrent)\n",
    "    \n",
    "    return dp[currentIndex]"
   ]
  },
  {
   "cell_type": "markdown",
   "metadata": {},
   "source": [
    "# Bottom-up with Tabulation - O(N) runtime, O(N) space"
   ]
  },
  {
   "cell_type": "code",
   "execution_count": 29,
   "metadata": {},
   "outputs": [],
   "source": [
    "def find_max_steal(wealth):\n",
    "    n = len(wealth)\n",
    "    if n == 0:\n",
    "        return 0\n",
    "    dp = [0 for x in range(n+1)]    # '+1' to handle the zero house\n",
    "    dp[0] = 0    # if there are no houses, the thief can't steal anything\n",
    "    dp[1] = wealth[0]    # only one house, so the thief have to steal from it\n",
    "\n",
    "    # please note that dp[] has one extra element to handle zero house\n",
    "    for i in range(1, n):\n",
    "        dp[i + 1] = max(wealth[i] + dp[i - 1], dp[i])\n",
    "\n",
    "    return dp[n]"
   ]
  },
  {
   "cell_type": "code",
   "execution_count": 30,
   "metadata": {},
   "outputs": [
    {
     "data": {
      "text/plain": [
       "15"
      ]
     },
     "execution_count": 30,
     "metadata": {},
     "output_type": "execute_result"
    }
   ],
   "source": [
    "find_max_steal([2, 5, 1, 3, 6, 2, 4])"
   ]
  }
 ],
 "metadata": {
  "kernelspec": {
   "display_name": "Python 3",
   "language": "python",
   "name": "python3"
  },
  "language_info": {
   "codemirror_mode": {
    "name": "ipython",
    "version": 3
   },
   "file_extension": ".py",
   "mimetype": "text/x-python",
   "name": "python",
   "nbconvert_exporter": "python",
   "pygments_lexer": "ipython3",
   "version": "3.7.3"
  }
 },
 "nbformat": 4,
 "nbformat_minor": 2
}

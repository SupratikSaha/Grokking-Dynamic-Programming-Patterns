{
 "cells": [
  {
   "cell_type": "markdown",
   "metadata": {},
   "source": [
    "Problem Statement <br/>\n",
    "\n",
    "Given a number ‘n’, implement a method to count how many possible ways there are to express ‘n’ as the sum of 1, 3, or 4. <br/>\n",
    "\n",
    "Example 1: <br/>\n",
    "n : 4 <br/>\n",
    "Number of ways = 4 <br/>\n",
    "Explanation: Following are the four ways we can express 'n' : {1,1,1,1}, {1,3}, {3,1}, {4} <br/>\n",
    "\n",
    "Example 2: <br/>\n",
    "n : 5 <br/>\n",
    "Number of ways = 6 <br/>\n",
    "Explanation: Following are the six ways we can express 'n' : {1,1,1,1,1}, {1,1,3}, {1,3,1}, {3,1,1}, {1,4}, {4,1}"
   ]
  },
  {
   "cell_type": "markdown",
   "metadata": {},
   "source": [
    "# Brute Force - O(3 ^ N) runtime, O(N) space"
   ]
  },
  {
   "cell_type": "code",
   "execution_count": 3,
   "metadata": {},
   "outputs": [],
   "source": [
    "def count_ways(n):\n",
    "    if n == 0 or n == 1:\n",
    "        return 1\n",
    "    \n",
    "    count4, count3 = 0, 0\n",
    "    if n >= 4:\n",
    "        count4 = count_ways(n - 4)\n",
    "    if n >= 3:\n",
    "        count3 = count_ways(n - 3)\n",
    "    count1 = count_ways(n - 1)\n",
    "    \n",
    "    return count1 + count3 + count4"
   ]
  },
  {
   "cell_type": "markdown",
   "metadata": {},
   "source": [
    "# Top-down with Memoization - O(N) runtime, O(N) space"
   ]
  },
  {
   "cell_type": "code",
   "execution_count": 5,
   "metadata": {},
   "outputs": [],
   "source": [
    "def count_ways(n):\n",
    "    memoize = [-1 for x in range(n+1)]\n",
    "    return count_ways_recurive(memoize, n)\n",
    "\n",
    "\n",
    "def count_ways_recurive(memoize, n):\n",
    "    if n == 0 or n == 1:\n",
    "        return 1\n",
    "\n",
    "    # if we have already solved this subproblem, simply return the result from the cache\n",
    "    if memoize[n] == -1:\n",
    "        count4, count3 = 0, 0\n",
    "        if n >= 4:\n",
    "            count4 = count_ways(n - 4)\n",
    "        if n >= 3:\n",
    "            count3 = count_ways(n - 3)\n",
    "        count1 = count_ways(n - 1)\n",
    "\n",
    "        memoize[n] = count1 + count3 + count4\n",
    "    return memoize[n]"
   ]
  },
  {
   "cell_type": "markdown",
   "metadata": {},
   "source": [
    "# Bottom-up with Tabulation - O(N) runtime, O(N) space"
   ]
  },
  {
   "cell_type": "code",
   "execution_count": 7,
   "metadata": {},
   "outputs": [],
   "source": [
    "def count_ways(n):\n",
    "    dp = [1, 1, 1, 2]\n",
    "    for i in range(4, n + 1):\n",
    "        dp.append(dp[i - 1] + dp[i - 3] + dp[i - 4])\n",
    "\n",
    "    return dp[n]"
   ]
  },
  {
   "cell_type": "markdown",
   "metadata": {},
   "source": [
    "# Space Optimized Bottom Up - O(N) runtime, O(1) space"
   ]
  },
  {
   "cell_type": "code",
   "execution_count": 15,
   "metadata": {},
   "outputs": [],
   "source": [
    "def count_ways(n):\n",
    "    if n < 2:\n",
    "        return 1\n",
    "\n",
    "    n1, n2, n3, n4 = 1, 1, 1, 2\n",
    "    for i in range(4, n+1):\n",
    "        n1, n2, n3, n4 = n2, n3, n4, n1+n2+n4\n",
    "    return n4"
   ]
  },
  {
   "cell_type": "code",
   "execution_count": 16,
   "metadata": {},
   "outputs": [
    {
     "data": {
      "text/plain": [
       "6"
      ]
     },
     "execution_count": 16,
     "metadata": {},
     "output_type": "execute_result"
    }
   ],
   "source": [
    "count_ways(5)"
   ]
  }
 ],
 "metadata": {
  "kernelspec": {
   "display_name": "Python 3",
   "language": "python",
   "name": "python3"
  },
  "language_info": {
   "codemirror_mode": {
    "name": "ipython",
    "version": 3
   },
   "file_extension": ".py",
   "mimetype": "text/x-python",
   "name": "python",
   "nbconvert_exporter": "python",
   "pygments_lexer": "ipython3",
   "version": "3.7.3"
  }
 },
 "nbformat": 4,
 "nbformat_minor": 2
}
